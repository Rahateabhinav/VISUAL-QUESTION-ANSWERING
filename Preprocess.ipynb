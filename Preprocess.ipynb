{
  "nbformat": 4,
  "nbformat_minor": 0,
  "metadata": {
    "colab": {
      "name": "Preprocess.ipynb",
      "version": "0.3.2",
      "provenance": [],
      "collapsed_sections": []
    },
    "kernelspec": {
      "name": "python3",
      "display_name": "Python 3"
    },
    "accelerator": "TPU"
  },
  "cells": [
    {
      "cell_type": "markdown",
      "metadata": {
        "id": "ejtRoFIlgrQ4",
        "colab_type": "text"
      },
      "source": [
        "##Importing Libraries"
      ]
    },
    {
      "cell_type": "code",
      "metadata": {
        "id": "psFZMX54P7rz",
        "colab_type": "code",
        "colab": {}
      },
      "source": [
        "#General Libraries\n",
        "import json\n",
        "import pandas as pd\n",
        "import numpy as np\n",
        "\n",
        "#NLTK PRE_PROCESSING Libraries\n",
        "import nltk\n",
        "from nltk.tokenize import word_tokenize\n",
        "from nltk.corpus import wordnet\n",
        "import string\n",
        "\n",
        "\n",
        "# Image Extraction Libraries\n",
        "import os\n",
        "from keras.applications.vgg16 import VGG16\n",
        "import cv2\n",
        "from keras import models\n",
        "from keras.applications.vgg16 import preprocess_input\n",
        "from keras.preprocessing.image import img_to_array\n",
        "from keras.models import model_from_json\n",
        "\n",
        "#For Answer Encoding\n",
        "from sklearn.preprocessing import LabelEncoder"
      ],
      "execution_count": 0,
      "outputs": []
    },
    {
      "cell_type": "code",
      "metadata": {
        "id": "tZ4Q2jf0QOT7",
        "colab_type": "code",
        "outputId": "da94be4c-e48e-40e4-b99b-978015dd9084",
        "colab": {
          "base_uri": "https://localhost:8080/",
          "height": 72
        }
      },
      "source": [
        "nltk.download('punkt')"
      ],
      "execution_count": 2,
      "outputs": [
        {
          "output_type": "stream",
          "text": [
            "[nltk_data] Downloading package punkt to /root/nltk_data...\n",
            "[nltk_data]   Unzipping tokenizers/punkt.zip.\n"
          ],
          "name": "stdout"
        },
        {
          "output_type": "execute_result",
          "data": {
            "text/plain": [
              "True"
            ]
          },
          "metadata": {
            "tags": []
          },
          "execution_count": 2
        }
      ]
    },
    {
      "cell_type": "markdown",
      "metadata": {
        "id": "BBWMwSa7pzd0",
        "colab_type": "text"
      },
      "source": [
        "##Question Pre-Processing"
      ]
    },
    {
      "cell_type": "code",
      "metadata": {
        "id": "KCk18C-IRZGO",
        "colab_type": "code",
        "outputId": "b95a5124-2098-43e9-8379-64710ed1cd1f",
        "colab": {
          "base_uri": "https://localhost:8080/",
          "height": 128
        }
      },
      "source": [
        "from google.colab import drive\n",
        "drive.mount('/gdrive/')"
      ],
      "execution_count": 3,
      "outputs": [
        {
          "output_type": "stream",
          "text": [
            "Go to this URL in a browser: https://accounts.google.com/o/oauth2/auth?client_id=947318989803-6bn6qk8qdgf4n4g3pfee6491hc0brc4i.apps.googleusercontent.com&redirect_uri=urn%3Aietf%3Awg%3Aoauth%3A2.0%3Aoob&scope=email%20https%3A%2F%2Fwww.googleapis.com%2Fauth%2Fdocs.test%20https%3A%2F%2Fwww.googleapis.com%2Fauth%2Fdrive%20https%3A%2F%2Fwww.googleapis.com%2Fauth%2Fdrive.photos.readonly%20https%3A%2F%2Fwww.googleapis.com%2Fauth%2Fpeopleapi.readonly&response_type=code\n",
            "\n",
            "Enter your authorization code:\n",
            "··········\n",
            "Mounted at /gdrive/\n"
          ],
          "name": "stdout"
        }
      ]
    },
    {
      "cell_type": "code",
      "metadata": {
        "id": "D-uGbtHbQPHF",
        "colab_type": "code",
        "colab": {}
      },
      "source": [
        "#Loading the Question files\n",
        "\n",
        "path = \"/gdrive/My Drive/Colab Notebooks/VQA_DATASET/trainQuestions.json\"\n",
        "data = json.load(open(path))\n",
        "train_questions = pd.DataFrame(data[\"questions\"])"
      ],
      "execution_count": 0,
      "outputs": []
    },
    {
      "cell_type": "code",
      "metadata": {
        "id": "HgI08hnOQYEy",
        "colab_type": "code",
        "outputId": "b64a5b72-a4df-4f80-98a6-f3847677593d",
        "colab": {
          "base_uri": "https://localhost:8080/",
          "height": 35
        }
      },
      "source": [
        "# Checking the dimensions\n",
        "print(\"Size of Train Questions : \" , train_questions.shape)"
      ],
      "execution_count": 5,
      "outputs": [
        {
          "output_type": "stream",
          "text": [
            "Size of Train Questions :  (443757, 3)\n"
          ],
          "name": "stdout"
        }
      ]
    },
    {
      "cell_type": "code",
      "metadata": {
        "id": "XtwACp0dQrPZ",
        "colab_type": "code",
        "outputId": "12a0d2cf-02ea-4dc7-8881-6156027a0ccd",
        "colab": {
          "base_uri": "https://localhost:8080/",
          "height": 163
        }
      },
      "source": [
        "train_questions.info()"
      ],
      "execution_count": 6,
      "outputs": [
        {
          "output_type": "stream",
          "text": [
            "<class 'pandas.core.frame.DataFrame'>\n",
            "RangeIndex: 443757 entries, 0 to 443756\n",
            "Data columns (total 3 columns):\n",
            "image_id       443757 non-null int64\n",
            "question       443757 non-null object\n",
            "question_id    443757 non-null int64\n",
            "dtypes: int64(2), object(1)\n",
            "memory usage: 10.2+ MB\n"
          ],
          "name": "stdout"
        }
      ]
    },
    {
      "cell_type": "code",
      "metadata": {
        "id": "BaDKSHvRQbRs",
        "colab_type": "code",
        "colab": {}
      },
      "source": [
        "#Loading the answers file\n",
        "path = \"/gdrive/My Drive/Colab Notebooks/VQA_DATASET/trainAnswers.json\"\n",
        "data = json.load(open(path))\n",
        "train_answers = pd.DataFrame(data[\"annotations\"])"
      ],
      "execution_count": 0,
      "outputs": []
    },
    {
      "cell_type": "code",
      "metadata": {
        "id": "d7fx4xA-QfF9",
        "colab_type": "code",
        "outputId": "0700c201-78cc-41ea-fbae-5711e718fbf1",
        "colab": {
          "base_uri": "https://localhost:8080/",
          "height": 198
        }
      },
      "source": [
        "train_answers.head()"
      ],
      "execution_count": 9,
      "outputs": [
        {
          "output_type": "execute_result",
          "data": {
            "text/html": [
              "<div>\n",
              "<style scoped>\n",
              "    .dataframe tbody tr th:only-of-type {\n",
              "        vertical-align: middle;\n",
              "    }\n",
              "\n",
              "    .dataframe tbody tr th {\n",
              "        vertical-align: top;\n",
              "    }\n",
              "\n",
              "    .dataframe thead th {\n",
              "        text-align: right;\n",
              "    }\n",
              "</style>\n",
              "<table border=\"1\" class=\"dataframe\">\n",
              "  <thead>\n",
              "    <tr style=\"text-align: right;\">\n",
              "      <th></th>\n",
              "      <th>answer_type</th>\n",
              "      <th>answers</th>\n",
              "      <th>image_id</th>\n",
              "      <th>multiple_choice_answer</th>\n",
              "      <th>question_id</th>\n",
              "      <th>question_type</th>\n",
              "    </tr>\n",
              "  </thead>\n",
              "  <tbody>\n",
              "    <tr>\n",
              "      <th>0</th>\n",
              "      <td>other</td>\n",
              "      <td>[{'answer': 'net', 'answer_confidence': 'maybe...</td>\n",
              "      <td>458752</td>\n",
              "      <td>net</td>\n",
              "      <td>458752000</td>\n",
              "      <td>what is this</td>\n",
              "    </tr>\n",
              "    <tr>\n",
              "      <th>1</th>\n",
              "      <td>other</td>\n",
              "      <td>[{'answer': 'pitcher', 'answer_confidence': 'y...</td>\n",
              "      <td>458752</td>\n",
              "      <td>pitcher</td>\n",
              "      <td>458752001</td>\n",
              "      <td>what</td>\n",
              "    </tr>\n",
              "    <tr>\n",
              "      <th>2</th>\n",
              "      <td>other</td>\n",
              "      <td>[{'answer': 'orange', 'answer_confidence': 'ye...</td>\n",
              "      <td>458752</td>\n",
              "      <td>orange</td>\n",
              "      <td>458752002</td>\n",
              "      <td>what color is the</td>\n",
              "    </tr>\n",
              "    <tr>\n",
              "      <th>3</th>\n",
              "      <td>yes/no</td>\n",
              "      <td>[{'answer': 'yes', 'answer_confidence': 'yes',...</td>\n",
              "      <td>458752</td>\n",
              "      <td>yes</td>\n",
              "      <td>458752003</td>\n",
              "      <td>is this</td>\n",
              "    </tr>\n",
              "    <tr>\n",
              "      <th>4</th>\n",
              "      <td>other</td>\n",
              "      <td>[{'answer': 'white', 'answer_confidence': 'yes...</td>\n",
              "      <td>262146</td>\n",
              "      <td>white</td>\n",
              "      <td>262146000</td>\n",
              "      <td>what color is the</td>\n",
              "    </tr>\n",
              "  </tbody>\n",
              "</table>\n",
              "</div>"
            ],
            "text/plain": [
              "  answer_type  ...      question_type\n",
              "0       other  ...       what is this\n",
              "1       other  ...               what\n",
              "2       other  ...  what color is the\n",
              "3      yes/no  ...            is this\n",
              "4       other  ...  what color is the\n",
              "\n",
              "[5 rows x 6 columns]"
            ]
          },
          "metadata": {
            "tags": []
          },
          "execution_count": 9
        }
      ]
    },
    {
      "cell_type": "code",
      "metadata": {
        "id": "voSEx1qBQnD_",
        "colab_type": "code",
        "outputId": "e1e75d93-8e88-4d11-9cbb-f051448384d7",
        "colab": {
          "base_uri": "https://localhost:8080/",
          "height": 126
        }
      },
      "source": [
        "# Pre Processing the Question\n",
        "def word_preprocess(question):\n",
        "  #Converting it into Lower String\n",
        "  question = question.str.lower()\n",
        "  \n",
        "  #Removing punctuations\n",
        "  question = question.str.replace('[^\\w\\s]','')\n",
        "  \n",
        "  #Removing Stop words\n",
        "  #stop_words = set(stopwords.words('english'))\n",
        "  #question = question.apply(lambda x: \" \".join(x for x in x.split() if x not in stop_words))\n",
        "  \n",
        "  return question\n",
        "  \n",
        "train_questions['question'] = word_preprocess(train_questions['question'])\n",
        "train_questions['question'].head()"
      ],
      "execution_count": 10,
      "outputs": [
        {
          "output_type": "execute_result",
          "data": {
            "text/plain": [
              "0      what is this photo taken looking through\n",
              "1             what position is this man playing\n",
              "2               what color is the players shirt\n",
              "3    is this man a professional baseball player\n",
              "4                        what color is the snow\n",
              "Name: question, dtype: object"
            ]
          },
          "metadata": {
            "tags": []
          },
          "execution_count": 10
        }
      ]
    },
    {
      "cell_type": "code",
      "metadata": {
        "id": "qh2oXihfVC8I",
        "colab_type": "code",
        "colab": {}
      },
      "source": [
        "# Preparing The Training Data\n",
        "train_data = []\n",
        "for i in range(len(train_answers)):\n",
        "            ans = train_answers['multiple_choice_answer'][i]\n",
        "            question_id = train_answers['question_id'][i]\n",
        "            #image_path = imdir%(subtype, subtype, train_anno['annotations'][i]['image_id'])\n",
        "            question = train_questions['question'][i]\n",
        "            image_id = train_questions['image_id'][i]\n",
        "            train_data.append({'ques_id': question_id, 'question': question, 'ans': ans,'img_id':image_id})"
      ],
      "execution_count": 0,
      "outputs": []
    },
    {
      "cell_type": "code",
      "metadata": {
        "id": "X0D1ucaIWunF",
        "colab_type": "code",
        "colab": {}
      },
      "source": [
        "question_dt = pd.DataFrame(train_data)"
      ],
      "execution_count": 0,
      "outputs": []
    },
    {
      "cell_type": "markdown",
      "metadata": {
        "id": "t78DYdTUqP3e",
        "colab_type": "text"
      },
      "source": [
        "##Image Pre-Processing"
      ]
    },
    {
      "cell_type": "code",
      "metadata": {
        "id": "SNR7dfC4Ts80",
        "colab_type": "code",
        "colab": {}
      },
      "source": [
        "base_dir = '/gdrive/My Drive/Colab Notebooks/VQA_DATASET/VQA DATA SET/Train_dataset_1'\n",
        "images = os.listdir(base_dir)"
      ],
      "execution_count": 0,
      "outputs": []
    },
    {
      "cell_type": "code",
      "metadata": {
        "id": "ChLywXJfTyeS",
        "colab_type": "code",
        "colab": {}
      },
      "source": [
        "data=[]\n",
        "for filename in os.listdir(base_dir):\n",
        "    if filename.endswith(\"jpg\"): \n",
        "        # Your code comes here such as \n",
        "        #print(filename)\n",
        "        data.append(filename)"
      ],
      "execution_count": 0,
      "outputs": []
    },
    {
      "cell_type": "code",
      "metadata": {
        "id": "RceTQEl4UZDt",
        "colab_type": "code",
        "colab": {}
      },
      "source": [
        "image_df=pd.DataFrame(data,columns=['Image_Path'])"
      ],
      "execution_count": 0,
      "outputs": []
    },
    {
      "cell_type": "code",
      "metadata": {
        "id": "hG2ASGGBVQDs",
        "colab_type": "code",
        "colab": {}
      },
      "source": [
        "img_id = [int(x[15:-4]) for x in image_df[\"Image_Path\"]]\n",
        "image_df[\"img_id\"] = img_id"
      ],
      "execution_count": 0,
      "outputs": []
    },
    {
      "cell_type": "code",
      "metadata": {
        "id": "L6UbgFYoTKe6",
        "colab_type": "code",
        "outputId": "a6d103c9-3508-46cb-9b58-706909af6518",
        "colab": {
          "base_uri": "https://localhost:8080/",
          "height": 328
        }
      },
      "source": [
        "VGG_model = VGG16(weights='imagenet',\n",
        "                  include_top=True,\n",
        "                  input_shape=(224,224,3))\n",
        "VGG_model.layers.pop()\n",
        "VGG_model.layers.pop()"
      ],
      "execution_count": 20,
      "outputs": [
        {
          "output_type": "stream",
          "text": [
            "WARNING: Logging before flag parsing goes to stderr.\n",
            "W0730 16:08:29.834477 139920978573184 deprecation_wrapper.py:119] From /usr/local/lib/python3.6/dist-packages/keras/backend/tensorflow_backend.py:74: The name tf.get_default_graph is deprecated. Please use tf.compat.v1.get_default_graph instead.\n",
            "\n",
            "W0730 16:08:29.882212 139920978573184 deprecation_wrapper.py:119] From /usr/local/lib/python3.6/dist-packages/keras/backend/tensorflow_backend.py:517: The name tf.placeholder is deprecated. Please use tf.compat.v1.placeholder instead.\n",
            "\n",
            "W0730 16:08:29.894203 139920978573184 deprecation_wrapper.py:119] From /usr/local/lib/python3.6/dist-packages/keras/backend/tensorflow_backend.py:4138: The name tf.random_uniform is deprecated. Please use tf.random.uniform instead.\n",
            "\n",
            "W0730 16:08:29.958547 139920978573184 deprecation_wrapper.py:119] From /usr/local/lib/python3.6/dist-packages/keras/backend/tensorflow_backend.py:3976: The name tf.nn.max_pool is deprecated. Please use tf.nn.max_pool2d instead.\n",
            "\n"
          ],
          "name": "stderr"
        },
        {
          "output_type": "stream",
          "text": [
            "Downloading data from https://github.com/fchollet/deep-learning-models/releases/download/v0.1/vgg16_weights_tf_dim_ordering_tf_kernels.h5\n",
            "553467904/553467096 [==============================] - 114s 0us/step\n"
          ],
          "name": "stdout"
        },
        {
          "output_type": "stream",
          "text": [
            "W0730 16:10:25.025671 139920978573184 deprecation_wrapper.py:119] From /usr/local/lib/python3.6/dist-packages/keras/backend/tensorflow_backend.py:174: The name tf.get_default_session is deprecated. Please use tf.compat.v1.get_default_session instead.\n",
            "\n",
            "W0730 16:10:25.027431 139920978573184 deprecation_wrapper.py:119] From /usr/local/lib/python3.6/dist-packages/keras/backend/tensorflow_backend.py:181: The name tf.ConfigProto is deprecated. Please use tf.compat.v1.ConfigProto instead.\n",
            "\n"
          ],
          "name": "stderr"
        },
        {
          "output_type": "execute_result",
          "data": {
            "text/plain": [
              "<keras.layers.core.Dense at 0x7f4188c3aa90>"
            ]
          },
          "metadata": {
            "tags": []
          },
          "execution_count": 20
        }
      ]
    },
    {
      "cell_type": "code",
      "metadata": {
        "id": "LCMsN0bfTOrW",
        "colab_type": "code",
        "colab": {}
      },
      "source": [
        "# Extracts the outputs of the top 8 layers:\n",
        "for layer in VGG_model.layers[:17]:\n",
        "  layer.trainable = False\n",
        "  #print(layer)"
      ],
      "execution_count": 0,
      "outputs": []
    },
    {
      "cell_type": "code",
      "metadata": {
        "id": "8O0vEpSETPlR",
        "colab_type": "code",
        "colab": {
          "base_uri": "https://localhost:8080/",
          "height": 908
        },
        "outputId": "4e2b5490-ae70-49a8-c6b3-f2851ade270d"
      },
      "source": [
        "VGG_model.summary()"
      ],
      "execution_count": 22,
      "outputs": [
        {
          "output_type": "stream",
          "text": [
            "_________________________________________________________________\n",
            "Layer (type)                 Output Shape              Param #   \n",
            "=================================================================\n",
            "input_1 (InputLayer)         (None, 224, 224, 3)       0         \n",
            "_________________________________________________________________\n",
            "block1_conv1 (Conv2D)        (None, 224, 224, 64)      1792      \n",
            "_________________________________________________________________\n",
            "block1_conv2 (Conv2D)        (None, 224, 224, 64)      36928     \n",
            "_________________________________________________________________\n",
            "block1_pool (MaxPooling2D)   (None, 112, 112, 64)      0         \n",
            "_________________________________________________________________\n",
            "block2_conv1 (Conv2D)        (None, 112, 112, 128)     73856     \n",
            "_________________________________________________________________\n",
            "block2_conv2 (Conv2D)        (None, 112, 112, 128)     147584    \n",
            "_________________________________________________________________\n",
            "block2_pool (MaxPooling2D)   (None, 56, 56, 128)       0         \n",
            "_________________________________________________________________\n",
            "block3_conv1 (Conv2D)        (None, 56, 56, 256)       295168    \n",
            "_________________________________________________________________\n",
            "block3_conv2 (Conv2D)        (None, 56, 56, 256)       590080    \n",
            "_________________________________________________________________\n",
            "block3_conv3 (Conv2D)        (None, 56, 56, 256)       590080    \n",
            "_________________________________________________________________\n",
            "block3_pool (MaxPooling2D)   (None, 28, 28, 256)       0         \n",
            "_________________________________________________________________\n",
            "block4_conv1 (Conv2D)        (None, 28, 28, 512)       1180160   \n",
            "_________________________________________________________________\n",
            "block4_conv2 (Conv2D)        (None, 28, 28, 512)       2359808   \n",
            "_________________________________________________________________\n",
            "block4_conv3 (Conv2D)        (None, 28, 28, 512)       2359808   \n",
            "_________________________________________________________________\n",
            "block4_pool (MaxPooling2D)   (None, 14, 14, 512)       0         \n",
            "_________________________________________________________________\n",
            "block5_conv1 (Conv2D)        (None, 14, 14, 512)       2359808   \n",
            "_________________________________________________________________\n",
            "block5_conv2 (Conv2D)        (None, 14, 14, 512)       2359808   \n",
            "_________________________________________________________________\n",
            "block5_conv3 (Conv2D)        (None, 14, 14, 512)       2359808   \n",
            "_________________________________________________________________\n",
            "block5_pool (MaxPooling2D)   (None, 7, 7, 512)         0         \n",
            "_________________________________________________________________\n",
            "flatten (Flatten)            (None, 25088)             0         \n",
            "_________________________________________________________________\n",
            "fc1 (Dense)                  (None, 4096)              102764544 \n",
            "=================================================================\n",
            "Total params: 117,479,232\n",
            "Trainable params: 105,124,352\n",
            "Non-trainable params: 12,354,880\n",
            "_________________________________________________________________\n"
          ],
          "name": "stdout"
        }
      ]
    },
    {
      "cell_type": "code",
      "metadata": {
        "id": "4PDFR9uqTSLc",
        "colab_type": "code",
        "colab": {}
      },
      "source": [
        "\n",
        "image_df['image_feature']=' '\n",
        "\n",
        "for i in range(0,len(image_df['Image_Path'])):cv2\n",
        "  r=image_df['Image_Path'][i]\n",
        "  x='/gdrive/My Drive/Colab Notebooks/VQA_DATASET/VQA DATA SET/Train_dataset_1/'+r\n",
        "  imag=cv2.imread(x)\n",
        "  #image = preprocess_input(imag)\n",
        "  image = img_to_array(imag)\n",
        "  image = image.reshape((1, image.shape[0], image.shape[1], image.shape[2]))\n",
        "  features = VGG_model.predict(image)\n",
        "  image_df['image_feature'][i]=features[0]"
      ],
      "execution_count": 0,
      "outputs": []
    },
    {
      "cell_type": "markdown",
      "metadata": {
        "id": "3-tvBF-wv6Py",
        "colab_type": "text"
      },
      "source": [
        "##Merging Image Data & Question  Data"
      ]
    },
    {
      "cell_type": "code",
      "metadata": {
        "id": "CSrYtB79VipL",
        "colab_type": "code",
        "colab": {}
      },
      "source": [
        "train_data= pd.merge(question_dt, image_df, on=['img_id'], how='inner')"
      ],
      "execution_count": 0,
      "outputs": []
    },
    {
      "cell_type": "markdown",
      "metadata": {
        "id": "CcatbUOFwEKO",
        "colab_type": "text"
      },
      "source": [
        "##Answer Pre-Processing"
      ]
    },
    {
      "cell_type": "code",
      "metadata": {
        "id": "JihLGQguRDTs",
        "colab_type": "code",
        "outputId": "ca9de48e-aa12-41b0-b856-8377d1d03c4c",
        "colab": {
          "base_uri": "https://localhost:8080/",
          "height": 34
        }
      },
      "source": [
        "le=LabelEncoder()\n",
        "le.fit(train_data[\"ans\"])"
      ],
      "execution_count": 0,
      "outputs": [
        {
          "output_type": "execute_result",
          "data": {
            "text/plain": [
              "LabelEncoder()"
            ]
          },
          "metadata": {
            "tags": []
          },
          "execution_count": 12
        }
      ]
    },
    {
      "cell_type": "code",
      "metadata": {
        "id": "CttBMCRaRQfR",
        "colab_type": "code",
        "colab": {}
      },
      "source": [
        "ans = le.transform(train_data[\"ans\"])"
      ],
      "execution_count": 0,
      "outputs": []
    },
    {
      "cell_type": "code",
      "metadata": {
        "id": "7ZDJyI7PRRRq",
        "colab_type": "code",
        "colab": {}
      },
      "source": [
        "train_data['ans']=ans"
      ],
      "execution_count": 0,
      "outputs": []
    },
    {
      "cell_type": "code",
      "metadata": {
        "id": "5QmnDVX4mvmk",
        "colab_type": "code",
        "outputId": "35f1aa3e-edf8-4b2b-c70c-1f786e5586fe",
        "colab": {
          "base_uri": "https://localhost:8080/",
          "height": 1000
        }
      },
      "source": [
        "train_data"
      ],
      "execution_count": 0,
      "outputs": [
        {
          "output_type": "execute_result",
          "data": {
            "text/html": [
              "<div>\n",
              "<style scoped>\n",
              "    .dataframe tbody tr th:only-of-type {\n",
              "        vertical-align: middle;\n",
              "    }\n",
              "\n",
              "    .dataframe tbody tr th {\n",
              "        vertical-align: top;\n",
              "    }\n",
              "\n",
              "    .dataframe thead th {\n",
              "        text-align: right;\n",
              "    }\n",
              "</style>\n",
              "<table border=\"1\" class=\"dataframe\">\n",
              "  <thead>\n",
              "    <tr style=\"text-align: right;\">\n",
              "      <th></th>\n",
              "      <th>ans</th>\n",
              "      <th>img_id</th>\n",
              "      <th>ques_id</th>\n",
              "      <th>question</th>\n",
              "      <th>image_name</th>\n",
              "      <th>image_feature</th>\n",
              "    </tr>\n",
              "  </thead>\n",
              "  <tbody>\n",
              "    <tr>\n",
              "      <th>0</th>\n",
              "      <td>5218</td>\n",
              "      <td>25</td>\n",
              "      <td>25000</td>\n",
              "      <td>front giraffes</td>\n",
              "      <td>COCO_train2014_000000000025.jpg</td>\n",
              "      <td>[1.38433e-05, 5.34205e-05, 0.0001280025, 0.000...</td>\n",
              "    </tr>\n",
              "    <tr>\n",
              "      <th>1</th>\n",
              "      <td>1887</td>\n",
              "      <td>25</td>\n",
              "      <td>25001</td>\n",
              "      <td>giraffes common</td>\n",
              "      <td>COCO_train2014_000000000025.jpg</td>\n",
              "      <td>[1.38433e-05, 5.34205e-05, 0.0001280025, 0.000...</td>\n",
              "    </tr>\n",
              "    <tr>\n",
              "      <th>10</th>\n",
              "      <td>2993</td>\n",
              "      <td>25</td>\n",
              "      <td>25010</td>\n",
              "      <td>ground next giraffe right</td>\n",
              "      <td>COCO_train2014_000000000025.jpg</td>\n",
              "      <td>[1.38433e-05, 5.34205e-05, 0.0001280025, 0.000...</td>\n",
              "    </tr>\n",
              "    <tr>\n",
              "      <th>100</th>\n",
              "      <td>3363</td>\n",
              "      <td>149</td>\n",
              "      <td>149001</td>\n",
              "      <td>sky clear</td>\n",
              "      <td>COCO_train2014_000000000149.jpg</td>\n",
              "      <td>[3.93909e-05, 1.6657e-05, 9.6804e-06, 3.1817e-...</td>\n",
              "    </tr>\n",
              "    <tr>\n",
              "      <th>1000</th>\n",
              "      <td>4219</td>\n",
              "      <td>1522</td>\n",
              "      <td>1522001</td>\n",
              "      <td>kind place</td>\n",
              "      <td>COCO_train2014_000000001522.jpg</td>\n",
              "      <td>[9.9e-09, 3.589e-07, 9.6e-09, 7e-10, 5.8e-09, ...</td>\n",
              "    </tr>\n",
              "    <tr>\n",
              "      <th>10000</th>\n",
              "      <td>3302</td>\n",
              "      <td>15726</td>\n",
              "      <td>15726000</td>\n",
              "      <td>around neck</td>\n",
              "      <td>COCO_train2014_000000015726.jpg</td>\n",
              "      <td>[0.0001657593, 6.68884e-05, 1.98387e-05, 5.787...</td>\n",
              "    </tr>\n",
              "    <tr>\n",
              "      <th>10001</th>\n",
              "      <td>5640</td>\n",
              "      <td>15726</td>\n",
              "      <td>15726001</td>\n",
              "      <td>man holding something</td>\n",
              "      <td>COCO_train2014_000000015726.jpg</td>\n",
              "      <td>[0.0001657593, 6.68884e-05, 1.98387e-05, 5.787...</td>\n",
              "    </tr>\n",
              "    <tr>\n",
              "      <th>10002</th>\n",
              "      <td>5640</td>\n",
              "      <td>15726</td>\n",
              "      <td>15726002</td>\n",
              "      <td>anyone photo wearing glasses</td>\n",
              "      <td>COCO_train2014_000000015726.jpg</td>\n",
              "      <td>[0.0001657593, 6.68884e-05, 1.98387e-05, 5.787...</td>\n",
              "    </tr>\n",
              "    <tr>\n",
              "      <th>10003</th>\n",
              "      <td>974</td>\n",
              "      <td>15733</td>\n",
              "      <td>15733000</td>\n",
              "      <td>color water</td>\n",
              "      <td>COCO_train2014_000000015733.jpg</td>\n",
              "      <td>[1.17058e-05, 7.17537e-05, 0.0002711012, 0.000...</td>\n",
              "    </tr>\n",
              "    <tr>\n",
              "      <th>10004</th>\n",
              "      <td>5640</td>\n",
              "      <td>15733</td>\n",
              "      <td>15733001</td>\n",
              "      <td>lose surfboard</td>\n",
              "      <td>COCO_train2014_000000015733.jpg</td>\n",
              "      <td>[1.17058e-05, 7.17537e-05, 0.0002711012, 0.000...</td>\n",
              "    </tr>\n",
              "    <tr>\n",
              "      <th>10005</th>\n",
              "      <td>5640</td>\n",
              "      <td>15733</td>\n",
              "      <td>15733002</td>\n",
              "      <td>man wearing wetsuit</td>\n",
              "      <td>COCO_train2014_000000015733.jpg</td>\n",
              "      <td>[1.17058e-05, 7.17537e-05, 0.0002711012, 0.000...</td>\n",
              "    </tr>\n",
              "    <tr>\n",
              "      <th>10006</th>\n",
              "      <td>3363</td>\n",
              "      <td>15744</td>\n",
              "      <td>15744000</td>\n",
              "      <td>could chopped stirfried</td>\n",
              "      <td>COCO_train2014_000000015744.jpg</td>\n",
              "      <td>[4.47237e-05, 0.0001909103, 1.59931e-05, 2.537...</td>\n",
              "    </tr>\n",
              "    <tr>\n",
              "      <th>10007</th>\n",
              "      <td>722</td>\n",
              "      <td>15744</td>\n",
              "      <td>15744001</td>\n",
              "      <td>source protein meal</td>\n",
              "      <td>COCO_train2014_000000015744.jpg</td>\n",
              "      <td>[4.47237e-05, 0.0001909103, 1.59931e-05, 2.537...</td>\n",
              "    </tr>\n",
              "    <tr>\n",
              "      <th>10008</th>\n",
              "      <td>5640</td>\n",
              "      <td>15744</td>\n",
              "      <td>15744002</td>\n",
              "      <td>box full</td>\n",
              "      <td>COCO_train2014_000000015744.jpg</td>\n",
              "      <td>[4.47237e-05, 0.0001909103, 1.59931e-05, 2.537...</td>\n",
              "    </tr>\n",
              "    <tr>\n",
              "      <th>10009</th>\n",
              "      <td>4885</td>\n",
              "      <td>15744</td>\n",
              "      <td>15744003</td>\n",
              "      <td>mostly sweet savory</td>\n",
              "      <td>COCO_train2014_000000015744.jpg</td>\n",
              "      <td>[4.47237e-05, 0.0001909103, 1.59931e-05, 2.537...</td>\n",
              "    </tr>\n",
              "    <tr>\n",
              "      <th>1001</th>\n",
              "      <td>1496</td>\n",
              "      <td>1522</td>\n",
              "      <td>1522002</td>\n",
              "      <td>kind cake</td>\n",
              "      <td>COCO_train2014_000000001522.jpg</td>\n",
              "      <td>[9.9e-09, 3.589e-07, 9.6e-09, 7e-10, 5.8e-09, ...</td>\n",
              "    </tr>\n",
              "    <tr>\n",
              "      <th>10010</th>\n",
              "      <td>24</td>\n",
              "      <td>15744</td>\n",
              "      <td>15744004</td>\n",
              "      <td>many chocolate donuts</td>\n",
              "      <td>COCO_train2014_000000015744.jpg</td>\n",
              "      <td>[4.47237e-05, 0.0001909103, 1.59931e-05, 2.537...</td>\n",
              "    </tr>\n",
              "    <tr>\n",
              "      <th>10011</th>\n",
              "      <td>722</td>\n",
              "      <td>15744</td>\n",
              "      <td>15744005</td>\n",
              "      <td>meat top 3 maple donuts</td>\n",
              "      <td>COCO_train2014_000000015744.jpg</td>\n",
              "      <td>[4.47237e-05, 0.0001909103, 1.59931e-05, 2.537...</td>\n",
              "    </tr>\n",
              "    <tr>\n",
              "      <th>10012</th>\n",
              "      <td>5640</td>\n",
              "      <td>15745</td>\n",
              "      <td>15745000</td>\n",
              "      <td>urinal</td>\n",
              "      <td>COCO_train2014_000000015745.jpg</td>\n",
              "      <td>[1.546e-07, 4.2782e-06, 9.889e-07, 1.615e-07, ...</td>\n",
              "    </tr>\n",
              "    <tr>\n",
              "      <th>10013</th>\n",
              "      <td>3076</td>\n",
              "      <td>15745</td>\n",
              "      <td>15745001</td>\n",
              "      <td>restroom male female</td>\n",
              "      <td>COCO_train2014_000000015745.jpg</td>\n",
              "      <td>[1.546e-07, 4.2782e-06, 9.889e-07, 1.615e-07, ...</td>\n",
              "    </tr>\n",
              "    <tr>\n",
              "      <th>10014</th>\n",
              "      <td>3363</td>\n",
              "      <td>15745</td>\n",
              "      <td>15745002</td>\n",
              "      <td>door opened</td>\n",
              "      <td>COCO_train2014_000000015745.jpg</td>\n",
              "      <td>[1.546e-07, 4.2782e-06, 9.889e-07, 1.615e-07, ...</td>\n",
              "    </tr>\n",
              "    <tr>\n",
              "      <th>10015</th>\n",
              "      <td>2841</td>\n",
              "      <td>23673</td>\n",
              "      <td>23673000</td>\n",
              "      <td>kites people photo</td>\n",
              "      <td>COCO_train2014_000000023673.jpg</td>\n",
              "      <td>[2.6528e-06, 2.31035e-05, 3.91136e-05, 5.13425...</td>\n",
              "    </tr>\n",
              "    <tr>\n",
              "      <th>10016</th>\n",
              "      <td>2839</td>\n",
              "      <td>23673</td>\n",
              "      <td>23673001</td>\n",
              "      <td>flying directly man</td>\n",
              "      <td>COCO_train2014_000000023673.jpg</td>\n",
              "      <td>[2.6528e-06, 2.31035e-05, 3.91136e-05, 5.13425...</td>\n",
              "    </tr>\n",
              "    <tr>\n",
              "      <th>10017</th>\n",
              "      <td>2333</td>\n",
              "      <td>23673</td>\n",
              "      <td>23673002</td>\n",
              "      <td>color sky</td>\n",
              "      <td>COCO_train2014_000000023673.jpg</td>\n",
              "      <td>[2.6528e-06, 2.31035e-05, 3.91136e-05, 5.13425...</td>\n",
              "    </tr>\n",
              "    <tr>\n",
              "      <th>10018</th>\n",
              "      <td>5640</td>\n",
              "      <td>23673</td>\n",
              "      <td>23673003</td>\n",
              "      <td>nice day fly kites</td>\n",
              "      <td>COCO_train2014_000000023673.jpg</td>\n",
              "      <td>[2.6528e-06, 2.31035e-05, 3.91136e-05, 5.13425...</td>\n",
              "    </tr>\n",
              "    <tr>\n",
              "      <th>10019</th>\n",
              "      <td>3014</td>\n",
              "      <td>23673</td>\n",
              "      <td>23673004</td>\n",
              "      <td>type building</td>\n",
              "      <td>COCO_train2014_000000023673.jpg</td>\n",
              "      <td>[2.6528e-06, 2.31035e-05, 3.91136e-05, 5.13425...</td>\n",
              "    </tr>\n",
              "    <tr>\n",
              "      <th>1002</th>\n",
              "      <td>3181</td>\n",
              "      <td>1526</td>\n",
              "      <td>1526000</td>\n",
              "      <td>device middle picture</td>\n",
              "      <td>COCO_train2014_000000001526.jpg</td>\n",
              "      <td>[2.985e-07, 2.81564e-05, 5.813e-06, 1.58e-06, ...</td>\n",
              "    </tr>\n",
              "    <tr>\n",
              "      <th>10020</th>\n",
              "      <td>249</td>\n",
              "      <td>23673</td>\n",
              "      <td>23673005</td>\n",
              "      <td>many people see photo</td>\n",
              "      <td>COCO_train2014_000000023673.jpg</td>\n",
              "      <td>[2.6528e-06, 2.31035e-05, 3.91136e-05, 5.13425...</td>\n",
              "    </tr>\n",
              "    <tr>\n",
              "      <th>10021</th>\n",
              "      <td>249</td>\n",
              "      <td>23673</td>\n",
              "      <td>23673006</td>\n",
              "      <td>many people picture</td>\n",
              "      <td>COCO_train2014_000000023673.jpg</td>\n",
              "      <td>[2.6528e-06, 2.31035e-05, 3.91136e-05, 5.13425...</td>\n",
              "    </tr>\n",
              "    <tr>\n",
              "      <th>10022</th>\n",
              "      <td>3363</td>\n",
              "      <td>15757</td>\n",
              "      <td>15757000</td>\n",
              "      <td>sand smooth</td>\n",
              "      <td>COCO_train2014_000000015757.jpg</td>\n",
              "      <td>[1.7749e-06, 1.4288e-06, 2.59871e-05, 1.17391e...</td>\n",
              "    </tr>\n",
              "    <tr>\n",
              "      <th>...</th>\n",
              "      <td>...</td>\n",
              "      <td>...</td>\n",
              "      <td>...</td>\n",
              "      <td>...</td>\n",
              "      <td>...</td>\n",
              "      <td>...</td>\n",
              "    </tr>\n",
              "    <tr>\n",
              "      <th>9972</th>\n",
              "      <td>4977</td>\n",
              "      <td>15658</td>\n",
              "      <td>15658003</td>\n",
              "      <td>sport</td>\n",
              "      <td>COCO_train2014_000000015658.jpg</td>\n",
              "      <td>[1.577e-07, 0.0009482352, 1.01606e-05, 1.3679e...</td>\n",
              "    </tr>\n",
              "    <tr>\n",
              "      <th>9973</th>\n",
              "      <td>3363</td>\n",
              "      <td>15658</td>\n",
              "      <td>15658004</td>\n",
              "      <td>ball served</td>\n",
              "      <td>COCO_train2014_000000015658.jpg</td>\n",
              "      <td>[1.577e-07, 0.0009482352, 1.01606e-05, 1.3679e...</td>\n",
              "    </tr>\n",
              "    <tr>\n",
              "      <th>9974</th>\n",
              "      <td>4977</td>\n",
              "      <td>15658</td>\n",
              "      <td>15658005</td>\n",
              "      <td>people playing</td>\n",
              "      <td>COCO_train2014_000000015658.jpg</td>\n",
              "      <td>[1.577e-07, 0.0009482352, 1.01606e-05, 1.3679e...</td>\n",
              "    </tr>\n",
              "    <tr>\n",
              "      <th>9975</th>\n",
              "      <td>3442</td>\n",
              "      <td>48531</td>\n",
              "      <td>48531000</td>\n",
              "      <td>team</td>\n",
              "      <td>COCO_train2014_000000048531.jpg</td>\n",
              "      <td>[2e-10, 1.76e-08, 5.2e-09, 1.2e-09, 5.93e-08, ...</td>\n",
              "    </tr>\n",
              "    <tr>\n",
              "      <th>9976</th>\n",
              "      <td>5640</td>\n",
              "      <td>48531</td>\n",
              "      <td>48531001</td>\n",
              "      <td>lawn need maintenance</td>\n",
              "      <td>COCO_train2014_000000048531.jpg</td>\n",
              "      <td>[2e-10, 1.76e-08, 5.2e-09, 1.2e-09, 5.93e-08, ...</td>\n",
              "    </tr>\n",
              "    <tr>\n",
              "      <th>9977</th>\n",
              "      <td>4977</td>\n",
              "      <td>48531</td>\n",
              "      <td>48531002</td>\n",
              "      <td>game playing</td>\n",
              "      <td>COCO_train2014_000000048531.jpg</td>\n",
              "      <td>[2e-10, 1.76e-08, 5.2e-09, 1.2e-09, 5.93e-08, ...</td>\n",
              "    </tr>\n",
              "    <tr>\n",
              "      <th>9978</th>\n",
              "      <td>4239</td>\n",
              "      <td>48531</td>\n",
              "      <td>48531003</td>\n",
              "      <td>player right left handed</td>\n",
              "      <td>COCO_train2014_000000048531.jpg</td>\n",
              "      <td>[2e-10, 1.76e-08, 5.2e-09, 1.2e-09, 5.93e-08, ...</td>\n",
              "    </tr>\n",
              "    <tr>\n",
              "      <th>9979</th>\n",
              "      <td>4977</td>\n",
              "      <td>48531</td>\n",
              "      <td>48531004</td>\n",
              "      <td>sport</td>\n",
              "      <td>COCO_train2014_000000048531.jpg</td>\n",
              "      <td>[2e-10, 1.76e-08, 5.2e-09, 1.2e-09, 5.93e-08, ...</td>\n",
              "    </tr>\n",
              "    <tr>\n",
              "      <th>998</th>\n",
              "      <td>1105</td>\n",
              "      <td>1518</td>\n",
              "      <td>1518004</td>\n",
              "      <td>sticking truck window</td>\n",
              "      <td>COCO_train2014_000000001518.jpg</td>\n",
              "      <td>[4.7388e-06, 7.17814e-05, 0.0002280365, 0.0014...</td>\n",
              "    </tr>\n",
              "    <tr>\n",
              "      <th>9980</th>\n",
              "      <td>1263</td>\n",
              "      <td>68147</td>\n",
              "      <td>68147000</td>\n",
              "      <td>kind shorts wearing</td>\n",
              "      <td>COCO_train2014_000000068147.jpg</td>\n",
              "      <td>[4.515e-07, 2.88964e-05, 1.16328e-05, 4.5934e-...</td>\n",
              "    </tr>\n",
              "    <tr>\n",
              "      <th>9981</th>\n",
              "      <td>5640</td>\n",
              "      <td>68147</td>\n",
              "      <td>68147001</td>\n",
              "      <td>wearing shoes</td>\n",
              "      <td>COCO_train2014_000000068147.jpg</td>\n",
              "      <td>[4.515e-07, 2.88964e-05, 1.16328e-05, 4.5934e-...</td>\n",
              "    </tr>\n",
              "    <tr>\n",
              "      <th>9982</th>\n",
              "      <td>3363</td>\n",
              "      <td>68147</td>\n",
              "      <td>68147002</td>\n",
              "      <td>sunny day</td>\n",
              "      <td>COCO_train2014_000000068147.jpg</td>\n",
              "      <td>[4.515e-07, 2.88964e-05, 1.16328e-05, 4.5934e-...</td>\n",
              "    </tr>\n",
              "    <tr>\n",
              "      <th>9983</th>\n",
              "      <td>4127</td>\n",
              "      <td>68147</td>\n",
              "      <td>68147003</td>\n",
              "      <td>umbrella top</td>\n",
              "      <td>COCO_train2014_000000068147.jpg</td>\n",
              "      <td>[4.515e-07, 2.88964e-05, 1.16328e-05, 4.5934e-...</td>\n",
              "    </tr>\n",
              "    <tr>\n",
              "      <th>9984</th>\n",
              "      <td>5640</td>\n",
              "      <td>68147</td>\n",
              "      <td>68147004</td>\n",
              "      <td>raining</td>\n",
              "      <td>COCO_train2014_000000068147.jpg</td>\n",
              "      <td>[4.515e-07, 2.88964e-05, 1.16328e-05, 4.5934e-...</td>\n",
              "    </tr>\n",
              "    <tr>\n",
              "      <th>9985</th>\n",
              "      <td>5575</td>\n",
              "      <td>68147</td>\n",
              "      <td>68147005</td>\n",
              "      <td>holding umbrella</td>\n",
              "      <td>COCO_train2014_000000068147.jpg</td>\n",
              "      <td>[4.515e-07, 2.88964e-05, 1.16328e-05, 4.5934e-...</td>\n",
              "    </tr>\n",
              "    <tr>\n",
              "      <th>9986</th>\n",
              "      <td>3363</td>\n",
              "      <td>46303</td>\n",
              "      <td>46303000</td>\n",
              "      <td>man wearing protective gear</td>\n",
              "      <td>COCO_train2014_000000046303.jpg</td>\n",
              "      <td>[4.7581e-06, 1.89128e-05, 0.0002433885, 0.0003...</td>\n",
              "    </tr>\n",
              "    <tr>\n",
              "      <th>9987</th>\n",
              "      <td>3363</td>\n",
              "      <td>46303</td>\n",
              "      <td>46303001</td>\n",
              "      <td>summer scene</td>\n",
              "      <td>COCO_train2014_000000046303.jpg</td>\n",
              "      <td>[4.7581e-06, 1.89128e-05, 0.0002433885, 0.0003...</td>\n",
              "    </tr>\n",
              "    <tr>\n",
              "      <th>9988</th>\n",
              "      <td>4546</td>\n",
              "      <td>46303</td>\n",
              "      <td>46303002</td>\n",
              "      <td>person riding</td>\n",
              "      <td>COCO_train2014_000000046303.jpg</td>\n",
              "      <td>[4.7581e-06, 1.89128e-05, 0.0002433885, 0.0003...</td>\n",
              "    </tr>\n",
              "    <tr>\n",
              "      <th>9989</th>\n",
              "      <td>4834</td>\n",
              "      <td>15684</td>\n",
              "      <td>15684000</td>\n",
              "      <td>behind blender</td>\n",
              "      <td>COCO_train2014_000000015684.jpg</td>\n",
              "      <td>[3.51e-08, 1.03589e-05, 7.04e-08, 2.48e-08, 9....</td>\n",
              "    </tr>\n",
              "    <tr>\n",
              "      <th>999</th>\n",
              "      <td>5640</td>\n",
              "      <td>1522</td>\n",
              "      <td>1522000</td>\n",
              "      <td>daytime outside</td>\n",
              "      <td>COCO_train2014_000000001522.jpg</td>\n",
              "      <td>[9.9e-09, 3.589e-07, 9.6e-09, 7e-10, 5.8e-09, ...</td>\n",
              "    </tr>\n",
              "    <tr>\n",
              "      <th>9990</th>\n",
              "      <td>5640</td>\n",
              "      <td>15684</td>\n",
              "      <td>15684001</td>\n",
              "      <td>beer mug table</td>\n",
              "      <td>COCO_train2014_000000015684.jpg</td>\n",
              "      <td>[3.51e-08, 1.03589e-05, 7.04e-08, 2.48e-08, 9....</td>\n",
              "    </tr>\n",
              "    <tr>\n",
              "      <th>9991</th>\n",
              "      <td>5493</td>\n",
              "      <td>15684</td>\n",
              "      <td>15684002</td>\n",
              "      <td>color refrigerator</td>\n",
              "      <td>COCO_train2014_000000015684.jpg</td>\n",
              "      <td>[3.51e-08, 1.03589e-05, 7.04e-08, 2.48e-08, 9....</td>\n",
              "    </tr>\n",
              "    <tr>\n",
              "      <th>9992</th>\n",
              "      <td>2175</td>\n",
              "      <td>2614</td>\n",
              "      <td>2614000</td>\n",
              "      <td>man blue shirt hand</td>\n",
              "      <td>COCO_train2014_000000002614.jpg</td>\n",
              "      <td>[2.0013e-06, 0.0003572757, 0.0004149925, 9.468...</td>\n",
              "    </tr>\n",
              "    <tr>\n",
              "      <th>9993</th>\n",
              "      <td>5640</td>\n",
              "      <td>2614</td>\n",
              "      <td>2614001</td>\n",
              "      <td>people beach</td>\n",
              "      <td>COCO_train2014_000000002614.jpg</td>\n",
              "      <td>[2.0013e-06, 0.0003572757, 0.0004149925, 9.468...</td>\n",
              "    </tr>\n",
              "    <tr>\n",
              "      <th>9994</th>\n",
              "      <td>2175</td>\n",
              "      <td>2614</td>\n",
              "      <td>2614002</td>\n",
              "      <td>man blue shirt hand</td>\n",
              "      <td>COCO_train2014_000000002614.jpg</td>\n",
              "      <td>[2.0013e-06, 0.0003572757, 0.0004149925, 9.468...</td>\n",
              "    </tr>\n",
              "    <tr>\n",
              "      <th>9995</th>\n",
              "      <td>2084</td>\n",
              "      <td>15693</td>\n",
              "      <td>15693000</td>\n",
              "      <td>shoes</td>\n",
              "      <td>COCO_train2014_000000015693.jpg</td>\n",
              "      <td>[1.64e-07, 3.6264e-06, 3.5758e-06, 1.2844e-06,...</td>\n",
              "    </tr>\n",
              "    <tr>\n",
              "      <th>9996</th>\n",
              "      <td>2114</td>\n",
              "      <td>15693</td>\n",
              "      <td>15693001</td>\n",
              "      <td>green colored pillow</td>\n",
              "      <td>COCO_train2014_000000015693.jpg</td>\n",
              "      <td>[1.64e-07, 3.6264e-06, 3.5758e-06, 1.2844e-06,...</td>\n",
              "    </tr>\n",
              "    <tr>\n",
              "      <th>9997</th>\n",
              "      <td>4937</td>\n",
              "      <td>15693</td>\n",
              "      <td>15693002</td>\n",
              "      <td>color bed</td>\n",
              "      <td>COCO_train2014_000000015693.jpg</td>\n",
              "      <td>[1.64e-07, 3.6264e-06, 3.5758e-06, 1.2844e-06,...</td>\n",
              "    </tr>\n",
              "    <tr>\n",
              "      <th>9998</th>\n",
              "      <td>3363</td>\n",
              "      <td>15693</td>\n",
              "      <td>15693003</td>\n",
              "      <td>bed made</td>\n",
              "      <td>COCO_train2014_000000015693.jpg</td>\n",
              "      <td>[1.64e-07, 3.6264e-06, 3.5758e-06, 1.2844e-06,...</td>\n",
              "    </tr>\n",
              "    <tr>\n",
              "      <th>9999</th>\n",
              "      <td>5550</td>\n",
              "      <td>15693</td>\n",
              "      <td>15693004</td>\n",
              "      <td>open</td>\n",
              "      <td>COCO_train2014_000000015693.jpg</td>\n",
              "      <td>[1.64e-07, 3.6264e-06, 3.5758e-06, 1.2844e-06,...</td>\n",
              "    </tr>\n",
              "  </tbody>\n",
              "</table>\n",
              "<p>53326 rows × 6 columns</p>\n",
              "</div>"
            ],
            "text/plain": [
              "        ans  ...                                      image_feature\n",
              "0      5218  ...  [1.38433e-05, 5.34205e-05, 0.0001280025, 0.000...\n",
              "1      1887  ...  [1.38433e-05, 5.34205e-05, 0.0001280025, 0.000...\n",
              "10     2993  ...  [1.38433e-05, 5.34205e-05, 0.0001280025, 0.000...\n",
              "100    3363  ...  [3.93909e-05, 1.6657e-05, 9.6804e-06, 3.1817e-...\n",
              "1000   4219  ...  [9.9e-09, 3.589e-07, 9.6e-09, 7e-10, 5.8e-09, ...\n",
              "10000  3302  ...  [0.0001657593, 6.68884e-05, 1.98387e-05, 5.787...\n",
              "10001  5640  ...  [0.0001657593, 6.68884e-05, 1.98387e-05, 5.787...\n",
              "10002  5640  ...  [0.0001657593, 6.68884e-05, 1.98387e-05, 5.787...\n",
              "10003   974  ...  [1.17058e-05, 7.17537e-05, 0.0002711012, 0.000...\n",
              "10004  5640  ...  [1.17058e-05, 7.17537e-05, 0.0002711012, 0.000...\n",
              "10005  5640  ...  [1.17058e-05, 7.17537e-05, 0.0002711012, 0.000...\n",
              "10006  3363  ...  [4.47237e-05, 0.0001909103, 1.59931e-05, 2.537...\n",
              "10007   722  ...  [4.47237e-05, 0.0001909103, 1.59931e-05, 2.537...\n",
              "10008  5640  ...  [4.47237e-05, 0.0001909103, 1.59931e-05, 2.537...\n",
              "10009  4885  ...  [4.47237e-05, 0.0001909103, 1.59931e-05, 2.537...\n",
              "1001   1496  ...  [9.9e-09, 3.589e-07, 9.6e-09, 7e-10, 5.8e-09, ...\n",
              "10010    24  ...  [4.47237e-05, 0.0001909103, 1.59931e-05, 2.537...\n",
              "10011   722  ...  [4.47237e-05, 0.0001909103, 1.59931e-05, 2.537...\n",
              "10012  5640  ...  [1.546e-07, 4.2782e-06, 9.889e-07, 1.615e-07, ...\n",
              "10013  3076  ...  [1.546e-07, 4.2782e-06, 9.889e-07, 1.615e-07, ...\n",
              "10014  3363  ...  [1.546e-07, 4.2782e-06, 9.889e-07, 1.615e-07, ...\n",
              "10015  2841  ...  [2.6528e-06, 2.31035e-05, 3.91136e-05, 5.13425...\n",
              "10016  2839  ...  [2.6528e-06, 2.31035e-05, 3.91136e-05, 5.13425...\n",
              "10017  2333  ...  [2.6528e-06, 2.31035e-05, 3.91136e-05, 5.13425...\n",
              "10018  5640  ...  [2.6528e-06, 2.31035e-05, 3.91136e-05, 5.13425...\n",
              "10019  3014  ...  [2.6528e-06, 2.31035e-05, 3.91136e-05, 5.13425...\n",
              "1002   3181  ...  [2.985e-07, 2.81564e-05, 5.813e-06, 1.58e-06, ...\n",
              "10020   249  ...  [2.6528e-06, 2.31035e-05, 3.91136e-05, 5.13425...\n",
              "10021   249  ...  [2.6528e-06, 2.31035e-05, 3.91136e-05, 5.13425...\n",
              "10022  3363  ...  [1.7749e-06, 1.4288e-06, 2.59871e-05, 1.17391e...\n",
              "...     ...  ...                                                ...\n",
              "9972   4977  ...  [1.577e-07, 0.0009482352, 1.01606e-05, 1.3679e...\n",
              "9973   3363  ...  [1.577e-07, 0.0009482352, 1.01606e-05, 1.3679e...\n",
              "9974   4977  ...  [1.577e-07, 0.0009482352, 1.01606e-05, 1.3679e...\n",
              "9975   3442  ...  [2e-10, 1.76e-08, 5.2e-09, 1.2e-09, 5.93e-08, ...\n",
              "9976   5640  ...  [2e-10, 1.76e-08, 5.2e-09, 1.2e-09, 5.93e-08, ...\n",
              "9977   4977  ...  [2e-10, 1.76e-08, 5.2e-09, 1.2e-09, 5.93e-08, ...\n",
              "9978   4239  ...  [2e-10, 1.76e-08, 5.2e-09, 1.2e-09, 5.93e-08, ...\n",
              "9979   4977  ...  [2e-10, 1.76e-08, 5.2e-09, 1.2e-09, 5.93e-08, ...\n",
              "998    1105  ...  [4.7388e-06, 7.17814e-05, 0.0002280365, 0.0014...\n",
              "9980   1263  ...  [4.515e-07, 2.88964e-05, 1.16328e-05, 4.5934e-...\n",
              "9981   5640  ...  [4.515e-07, 2.88964e-05, 1.16328e-05, 4.5934e-...\n",
              "9982   3363  ...  [4.515e-07, 2.88964e-05, 1.16328e-05, 4.5934e-...\n",
              "9983   4127  ...  [4.515e-07, 2.88964e-05, 1.16328e-05, 4.5934e-...\n",
              "9984   5640  ...  [4.515e-07, 2.88964e-05, 1.16328e-05, 4.5934e-...\n",
              "9985   5575  ...  [4.515e-07, 2.88964e-05, 1.16328e-05, 4.5934e-...\n",
              "9986   3363  ...  [4.7581e-06, 1.89128e-05, 0.0002433885, 0.0003...\n",
              "9987   3363  ...  [4.7581e-06, 1.89128e-05, 0.0002433885, 0.0003...\n",
              "9988   4546  ...  [4.7581e-06, 1.89128e-05, 0.0002433885, 0.0003...\n",
              "9989   4834  ...  [3.51e-08, 1.03589e-05, 7.04e-08, 2.48e-08, 9....\n",
              "999    5640  ...  [9.9e-09, 3.589e-07, 9.6e-09, 7e-10, 5.8e-09, ...\n",
              "9990   5640  ...  [3.51e-08, 1.03589e-05, 7.04e-08, 2.48e-08, 9....\n",
              "9991   5493  ...  [3.51e-08, 1.03589e-05, 7.04e-08, 2.48e-08, 9....\n",
              "9992   2175  ...  [2.0013e-06, 0.0003572757, 0.0004149925, 9.468...\n",
              "9993   5640  ...  [2.0013e-06, 0.0003572757, 0.0004149925, 9.468...\n",
              "9994   2175  ...  [2.0013e-06, 0.0003572757, 0.0004149925, 9.468...\n",
              "9995   2084  ...  [1.64e-07, 3.6264e-06, 3.5758e-06, 1.2844e-06,...\n",
              "9996   2114  ...  [1.64e-07, 3.6264e-06, 3.5758e-06, 1.2844e-06,...\n",
              "9997   4937  ...  [1.64e-07, 3.6264e-06, 3.5758e-06, 1.2844e-06,...\n",
              "9998   3363  ...  [1.64e-07, 3.6264e-06, 3.5758e-06, 1.2844e-06,...\n",
              "9999   5550  ...  [1.64e-07, 3.6264e-06, 3.5758e-06, 1.2844e-06,...\n",
              "\n",
              "[53326 rows x 6 columns]"
            ]
          },
          "metadata": {
            "tags": []
          },
          "execution_count": 16
        }
      ]
    },
    {
      "cell_type": "markdown",
      "metadata": {
        "id": "QDwm0gYFwKua",
        "colab_type": "text"
      },
      "source": [
        "##Final Dump to Json"
      ]
    },
    {
      "cell_type": "code",
      "metadata": {
        "id": "kCbSrafufG88",
        "colab_type": "code",
        "colab": {}
      },
      "source": [
        "train_data.to_json('/gdrive/My Drive/Colab Notebooks/VQA_DATASET/Final_Dataset.json')"
      ],
      "execution_count": 0,
      "outputs": []
    },
    {
      "cell_type": "code",
      "metadata": {
        "id": "d8UNNKe0TtpE",
        "colab_type": "code",
        "colab": {}
      },
      "source": [
        "#Copy backup_dataset\n",
        "final_data.to_json('/gdrive/My Drive/Colab Notebooks/VQA_DATASET/Final_Dataset1.json')"
      ],
      "execution_count": 0,
      "outputs": []
    }
  ]
}