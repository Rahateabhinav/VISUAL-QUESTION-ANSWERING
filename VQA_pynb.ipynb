{
  "nbformat": 4,
  "nbformat_minor": 0,
  "metadata": {
    "colab": {
      "name": " VQA.pynb",
      "version": "0.3.2",
      "provenance": [],
      "collapsed_sections": [],
      "machine_shape": "hm"
    },
    "kernelspec": {
      "name": "python3",
      "display_name": "Python 3"
    },
    "accelerator": "TPU"
  },
  "cells": [
    {
      "cell_type": "markdown",
      "metadata": {
        "id": "x7vNF6QzwrFR",
        "colab_type": "text"
      },
      "source": [
        "##Setting up Keras And loading Data And Libraries"
      ]
    },
    {
      "cell_type": "code",
      "metadata": {
        "id": "95VtxHFHYPbm",
        "colab_type": "code",
        "outputId": "a4ca90a8-0022-48b2-9022-9aecec28ce80",
        "colab": {
          "base_uri": "https://localhost:8080/",
          "height": 357
        }
      },
      "source": [
        "pip install keras==1.2.2"
      ],
      "execution_count": 1,
      "outputs": [
        {
          "output_type": "stream",
          "text": [
            "Collecting keras==1.2.2\n",
            "\u001b[?25l  Downloading https://files.pythonhosted.org/packages/75/3e/9926ce5c678b7a7978724a2ecf24857d89a415d152b8d3443e6d45c228b2/Keras-1.2.2.tar.gz (175kB)\n",
            "\r\u001b[K     |█▉                              | 10kB 13.3MB/s eta 0:00:01\r\u001b[K     |███▊                            | 20kB 2.2MB/s eta 0:00:01\r\u001b[K     |█████▋                          | 30kB 3.2MB/s eta 0:00:01\r\u001b[K     |███████▌                        | 40kB 2.1MB/s eta 0:00:01\r\u001b[K     |█████████▍                      | 51kB 2.6MB/s eta 0:00:01\r\u001b[K     |███████████▏                    | 61kB 3.1MB/s eta 0:00:01\r\u001b[K     |█████████████                   | 71kB 3.5MB/s eta 0:00:01\r\u001b[K     |███████████████                 | 81kB 4.0MB/s eta 0:00:01\r\u001b[K     |████████████████▉               | 92kB 4.5MB/s eta 0:00:01\r\u001b[K     |██████████████████▊             | 102kB 3.5MB/s eta 0:00:01\r\u001b[K     |████████████████████▌           | 112kB 3.5MB/s eta 0:00:01\r\u001b[K     |██████████████████████▍         | 122kB 3.5MB/s eta 0:00:01\r\u001b[K     |████████████████████████▎       | 133kB 3.5MB/s eta 0:00:01\r\u001b[K     |██████████████████████████▏     | 143kB 3.5MB/s eta 0:00:01\r\u001b[K     |████████████████████████████    | 153kB 3.5MB/s eta 0:00:01\r\u001b[K     |█████████████████████████████▉  | 163kB 3.5MB/s eta 0:00:01\r\u001b[K     |███████████████████████████████▊| 174kB 3.5MB/s eta 0:00:01\r\u001b[K     |████████████████████████████████| 184kB 3.5MB/s \n",
            "\u001b[?25hRequirement already satisfied: theano in /usr/local/lib/python3.6/dist-packages (from keras==1.2.2) (1.0.4)\n",
            "Requirement already satisfied: pyyaml in /usr/local/lib/python3.6/dist-packages (from keras==1.2.2) (3.13)\n",
            "Requirement already satisfied: six in /usr/local/lib/python3.6/dist-packages (from keras==1.2.2) (1.12.0)\n",
            "Requirement already satisfied: numpy>=1.9.1 in /usr/local/lib/python3.6/dist-packages (from theano->keras==1.2.2) (1.16.4)\n",
            "Requirement already satisfied: scipy>=0.14 in /usr/local/lib/python3.6/dist-packages (from theano->keras==1.2.2) (1.3.0)\n",
            "Building wheels for collected packages: keras\n",
            "  Building wheel for keras (setup.py) ... \u001b[?25l\u001b[?25hdone\n",
            "  Stored in directory: /root/.cache/pip/wheels/55/07/cf/b32db0a8d243b2fd6759d5d7cb650aa20670b2b740209cbf7e\n",
            "Successfully built keras\n",
            "\u001b[31mERROR: textgenrnn 1.4.1 has requirement keras>=2.1.5, but you'll have keras 1.2.2 which is incompatible.\u001b[0m\n",
            "\u001b[31mERROR: kapre 0.1.3.1 has requirement keras>=2.0.0, but you'll have keras 1.2.2 which is incompatible.\u001b[0m\n",
            "\u001b[31mERROR: fancyimpute 0.4.3 has requirement keras>=2.0.0, but you'll have keras 1.2.2 which is incompatible.\u001b[0m\n",
            "Installing collected packages: keras\n",
            "  Found existing installation: Keras 2.2.4\n",
            "    Uninstalling Keras-2.2.4:\n",
            "      Successfully uninstalled Keras-2.2.4\n",
            "Successfully installed keras-1.2.2\n"
          ],
          "name": "stdout"
        }
      ]
    },
    {
      "cell_type": "code",
      "metadata": {
        "id": "NBxKF-sBrQu6",
        "colab_type": "code",
        "colab": {
          "base_uri": "https://localhost:8080/",
          "height": 68
        },
        "outputId": "b6730ae9-baa5-4f5d-95b8-2b051dc88633"
      },
      "source": [
        "pip install np_utils"
      ],
      "execution_count": 2,
      "outputs": [
        {
          "output_type": "stream",
          "text": [
            "Requirement already satisfied: np_utils in /usr/local/lib/python3.6/dist-packages (0.5.10.0)\n",
            "Requirement already satisfied: future>=0.16 in /usr/local/lib/python3.6/dist-packages (from np_utils) (0.16.0)\n",
            "Requirement already satisfied: numpy>=1.0 in /usr/local/lib/python3.6/dist-packages (from np_utils) (1.16.4)\n"
          ],
          "name": "stdout"
        }
      ]
    },
    {
      "cell_type": "code",
      "metadata": {
        "id": "ei4RiSbjPOMy",
        "colab_type": "code",
        "colab": {}
      },
      "source": [
        "from keras.applications.vgg16 import VGG16\n",
        "import cv2\n",
        "import numpy as np\n",
        "from keras.models import model_from_json\n",
        "#from keras.utils.vis_utils import plot_model\n",
        "from keras.applications.vgg16 import preprocess_input\n",
        "import os\n",
        "from keras.preprocessing.image import img_to_array\n",
        "from keras.preprocessing.text import Tokenizer\n",
        "from keras.preprocessing.sequence import pad_sequences\n",
        "import pandas as pd\n",
        "import json\n",
        "from sklearn.model_selection import train_test_split\n",
        "from keras.utils.np_utils import to_categorical\n",
        "from keras.models import load_model"
      ],
      "execution_count": 0,
      "outputs": []
    },
    {
      "cell_type": "markdown",
      "metadata": {
        "id": "d8qc-1KYy0Nr",
        "colab_type": "text"
      },
      "source": [
        "##Loading the Data"
      ]
    },
    {
      "cell_type": "code",
      "metadata": {
        "id": "RrYeEIm9C9TZ",
        "colab_type": "code",
        "outputId": "b02d7ccc-1f53-41ce-ca63-bfdb0a0660b4",
        "colab": {
          "base_uri": "https://localhost:8080/",
          "height": 122
        }
      },
      "source": [
        "from google.colab import drive\n",
        "drive.mount('/gdrive/')"
      ],
      "execution_count": 3,
      "outputs": [
        {
          "output_type": "stream",
          "text": [
            "Go to this URL in a browser: https://accounts.google.com/o/oauth2/auth?client_id=947318989803-6bn6qk8qdgf4n4g3pfee6491hc0brc4i.apps.googleusercontent.com&redirect_uri=urn%3Aietf%3Awg%3Aoauth%3A2.0%3Aoob&scope=email%20https%3A%2F%2Fwww.googleapis.com%2Fauth%2Fdocs.test%20https%3A%2F%2Fwww.googleapis.com%2Fauth%2Fdrive%20https%3A%2F%2Fwww.googleapis.com%2Fauth%2Fdrive.photos.readonly%20https%3A%2F%2Fwww.googleapis.com%2Fauth%2Fpeopleapi.readonly&response_type=code\n",
            "\n",
            "Enter your authorization code:\n",
            "··········\n",
            "Mounted at /gdrive/\n"
          ],
          "name": "stdout"
        }
      ]
    },
    {
      "cell_type": "code",
      "metadata": {
        "id": "EogXtLR8oc_p",
        "colab_type": "code",
        "colab": {}
      },
      "source": [
        "path='/gdrive/My Drive/Colab Notebooks/VQA_DATASET/Final_Dataset1.json'"
      ],
      "execution_count": 0,
      "outputs": []
    },
    {
      "cell_type": "code",
      "metadata": {
        "id": "w1Yqf4NWpWCW",
        "colab_type": "code",
        "colab": {}
      },
      "source": [
        "data = json.load(open(path))\n",
        "train_data = pd.DataFrame(data)"
      ],
      "execution_count": 0,
      "outputs": []
    },
    {
      "cell_type": "code",
      "metadata": {
        "id": "R_eGEFQ_dsZC",
        "colab_type": "code",
        "colab": {
          "base_uri": "https://localhost:8080/",
          "height": 204
        },
        "outputId": "6f11a3cc-c1ce-49d4-9e2d-cb1f549f9008"
      },
      "source": [
        "train_data.head()"
      ],
      "execution_count": 8,
      "outputs": [
        {
          "output_type": "execute_result",
          "data": {
            "text/html": [
              "<div>\n",
              "<style scoped>\n",
              "    .dataframe tbody tr th:only-of-type {\n",
              "        vertical-align: middle;\n",
              "    }\n",
              "\n",
              "    .dataframe tbody tr th {\n",
              "        vertical-align: top;\n",
              "    }\n",
              "\n",
              "    .dataframe thead th {\n",
              "        text-align: right;\n",
              "    }\n",
              "</style>\n",
              "<table border=\"1\" class=\"dataframe\">\n",
              "  <thead>\n",
              "    <tr style=\"text-align: right;\">\n",
              "      <th></th>\n",
              "      <th>ans</th>\n",
              "      <th>ques_id</th>\n",
              "      <th>question</th>\n",
              "      <th>img_id</th>\n",
              "      <th>image_name</th>\n",
              "      <th>image_feature</th>\n",
              "    </tr>\n",
              "  </thead>\n",
              "  <tbody>\n",
              "    <tr>\n",
              "      <th>0</th>\n",
              "      <td>5218</td>\n",
              "      <td>25000</td>\n",
              "      <td>what is in front of the giraffes</td>\n",
              "      <td>25</td>\n",
              "      <td>COCO_train2014_000000000025.jpg</td>\n",
              "      <td>[1.38433e-05, 5.34205e-05, 0.0001280025, 0.000...</td>\n",
              "    </tr>\n",
              "    <tr>\n",
              "      <th>1</th>\n",
              "      <td>1887</td>\n",
              "      <td>25001</td>\n",
              "      <td>what do these giraffes have in common</td>\n",
              "      <td>25</td>\n",
              "      <td>COCO_train2014_000000000025.jpg</td>\n",
              "      <td>[1.38433e-05, 5.34205e-05, 0.0001280025, 0.000...</td>\n",
              "    </tr>\n",
              "    <tr>\n",
              "      <th>10</th>\n",
              "      <td>2993</td>\n",
              "      <td>25010</td>\n",
              "      <td>what is on the ground next to the giraffe on t...</td>\n",
              "      <td>25</td>\n",
              "      <td>COCO_train2014_000000000025.jpg</td>\n",
              "      <td>[1.38433e-05, 5.34205e-05, 0.0001280025, 0.000...</td>\n",
              "    </tr>\n",
              "    <tr>\n",
              "      <th>100</th>\n",
              "      <td>3363</td>\n",
              "      <td>149001</td>\n",
              "      <td>is the sky clear</td>\n",
              "      <td>149</td>\n",
              "      <td>COCO_train2014_000000000149.jpg</td>\n",
              "      <td>[3.93909e-05, 1.6657e-05, 9.6804e-06, 3.1817e-...</td>\n",
              "    </tr>\n",
              "    <tr>\n",
              "      <th>1000</th>\n",
              "      <td>4219</td>\n",
              "      <td>1522001</td>\n",
              "      <td>what kind of place is this</td>\n",
              "      <td>1522</td>\n",
              "      <td>COCO_train2014_000000001522.jpg</td>\n",
              "      <td>[9.9e-09, 3.589e-07, 9.6e-09, 7e-10, 5.8e-09, ...</td>\n",
              "    </tr>\n",
              "  </tbody>\n",
              "</table>\n",
              "</div>"
            ],
            "text/plain": [
              "       ans  ...                                      image_feature\n",
              "0     5218  ...  [1.38433e-05, 5.34205e-05, 0.0001280025, 0.000...\n",
              "1     1887  ...  [1.38433e-05, 5.34205e-05, 0.0001280025, 0.000...\n",
              "10    2993  ...  [1.38433e-05, 5.34205e-05, 0.0001280025, 0.000...\n",
              "100   3363  ...  [3.93909e-05, 1.6657e-05, 9.6804e-06, 3.1817e-...\n",
              "1000  4219  ...  [9.9e-09, 3.589e-07, 9.6e-09, 7e-10, 5.8e-09, ...\n",
              "\n",
              "[5 rows x 6 columns]"
            ]
          },
          "metadata": {
            "tags": []
          },
          "execution_count": 8
        }
      ]
    },
    {
      "cell_type": "markdown",
      "metadata": {
        "id": "jOWWfPMVysFY",
        "colab_type": "text"
      },
      "source": [
        "##Tokenizing the Data"
      ]
    },
    {
      "cell_type": "code",
      "metadata": {
        "id": "Jgb3QUk7OEnH",
        "colab_type": "code",
        "colab": {
          "base_uri": "https://localhost:8080/",
          "height": 71
        },
        "outputId": "a9afb009-89eb-434b-fc11-2c494b074293"
      },
      "source": [
        "# Tokenizing\n",
        "t = Tokenizer()\n",
        "t.fit_on_texts(train_data['question'])\n",
        "vocab_size = len(t.word_index) + 1\n",
        "print(t.word_index)\n",
        "# integer encode the documents\n",
        "\n",
        "train_data['question'] = t.texts_to_sequences(train_data['question'])\n",
        "print(vocab_size)\n"
      ],
      "execution_count": 9,
      "outputs": [
        {
          "output_type": "stream",
          "text": [
            "{'the': 1, 'is': 2, 'what': 3, 'are': 4, 'this': 5, 'in': 6, 'on': 7, 'of': 8, 'a': 9, 'how': 10, 'many': 11, 'color': 12, 'there': 13, 'does': 14, 'man': 15, 'people': 16, 'picture': 17, 'to': 18, 'wearing': 19, 'where': 20, 'it': 21, 'these': 22, 'have': 23, 'photo': 24, 'or': 25, 'kind': 26, 'person': 27, 'do': 28, 'you': 29, 'doing': 30, 'type': 31, 'woman': 32, 'animal': 33, 'be': 34, 'holding': 35, 'they': 36, 'animals': 37, 'room': 38, 'for': 39, 'sign': 40, 'can': 41, 'train': 42, 'at': 43, 'his': 44, 'dog': 45, 'shirt': 46, 'food': 47, 'cat': 48, 'water': 49, 'which': 50, 'he': 51, 'that': 52, 'any': 53, 'bus': 54, 'see': 55, 'an': 56, 'made': 57, 'plate': 58, 'mans': 59, 'sitting': 60, 'why': 61, 'playing': 62, 'time': 63, 'shown': 64, 'taken': 65, 'table': 66, 'left': 67, 'with': 68, 'background': 69, 'right': 70, 'plane': 71, 'was': 72, 'sport': 73, 'number': 74, 'standing': 75, 'look': 76, 'pizza': 77, 'from': 78, 'street': 79, 'who': 80, 'being': 81, 'white': 82, 'boy': 83, 'her': 84, 'day': 85, 'has': 86, 'say': 87, 'sky': 88, 'wall': 89, 'clock': 90, 'hand': 91, 'would': 92, 'ground': 93, 'and': 94, 'top': 95, 'girl': 96, 'men': 97, 'red': 98, 'she': 99, 'visible': 100, 'like': 101, 'all': 102, 'truck': 103, 'here': 104, 'building': 105, 'eating': 106, 'seen': 107, 'looking': 108, 'car': 109, 'game': 110, 'fruit': 111, 'image': 112, 'front': 113, 'going': 114, 'trees': 115, 'up': 116, 'name': 117, 'behind': 118, 'out': 119, 'riding': 120, 'bird': 121, 'one': 122, 'same': 123, 'green': 124, 'hat': 125, 'toilet': 126, 'their': 127, 'horse': 128, 'giraffes': 129, 'bed': 130, 'child': 131, 'light': 132, 'cake': 133, 'two': 134, 'bear': 135, 'horses': 136, 'object': 137, 'flowers': 138, 'did': 139, 'hair': 140, 'black': 141, 'scene': 142, 'vehicle': 143, 'pictured': 144, 'giraffe': 145, 'bike': 146, 'blue': 147, 'colors': 148, 'ball': 149, 'cars': 150, 'used': 151, 'been': 152, 'side': 153, 'brand': 154, 'floor': 155, 'meal': 156, 'head': 157, 'lights': 158, 'glasses': 159, 'grass': 160, 'elephant': 161, 'elephants': 162, 'sunny': 163, 'old': 164, 'shoes': 165, 'birds': 166, 'could': 167, 'window': 168, 'back': 169, 'open': 170, 'umbrella': 171, 'next': 172, 'womans': 173, 'zebras': 174, 'bathroom': 175, 'road': 176, 'down': 177, 'player': 178, 'baby': 179, 'about': 180, 'boat': 181, 'fence': 182, 'bowl': 183, 'outside': 184, 'someone': 185, 'players': 186, 'pants': 187, 'boys': 188, 'shape': 189, 'computer': 190, 'happy': 191, 'around': 192, 'girls': 193, 'called': 194, 'than': 195, 'weather': 196, 'camera': 197, 'glass': 198, 'women': 199, 'bananas': 200, 'place': 201, 'flying': 202, 'will': 203, 'city': 204, 'hanging': 205, 'vase': 206, 'yellow': 207, 'tennis': 208, 'clouds': 209, 'appear': 210, 'dogs': 211, 'snow': 212, 'windows': 213, 'hydrant': 214, 'bench': 215, 'anyone': 216, 'tree': 217, 'house': 218, 'healthy': 219, 'hands': 220, 'guy': 221, 'sandwich': 222, 'persons': 223, 'eat': 224, 'more': 225, 'by': 226, 'laptop': 227, 'real': 228, 'written': 229, 'air': 230, 'lady': 231, 'sheep': 232, 'area': 233, 'moving': 234, 'signs': 235, 'phone': 236, 'both': 237, 'sink': 238, 'door': 239, 'inside': 240, 'jacket': 241, 'kitchen': 242, 'different': 243, 'under': 244, 'traffic': 245, 'frisbee': 246, 'team': 247, 'over': 248, 'kite': 249, 'material': 250, 'other': 251, 'bears': 252, 'item': 253, 'hot': 254, 'pattern': 255, 'direction': 256, 'tv': 257, 'cows': 258, 'stop': 259, 'dish': 260, 'country': 261, 'orange': 262, 'long': 263, 'using': 264, 'tie': 265, 'walking': 266, 'likely': 267, 'items': 268, 'face': 269, 'way': 270, 'cold': 271, 'board': 272, 'its': 273, 'beach': 274, 'boats': 275, 'facing': 276, 'raining': 277, 'fire': 278, 'cats': 279, 'above': 280, 'laying': 281, 'skateboard': 282, 'zebra': 283, 'children': 284, 'helmet': 285, 'new': 286, 'motorcycle': 287, 'near': 288, 'clean': 289, 'think': 290, 'eyes': 291, 'whats': 292, 'off': 293, 'feet': 294, 'shorts': 295, 'chair': 296, 'umbrellas': 297, 'played': 298, 'vegetables': 299, 'restaurant': 300, 'bottom': 301, 'most': 302, 'mirror': 303, 'make': 304, 'vegetable': 305, 'night': 306, 'planes': 307, 'taking': 308, 'large': 309, 'little': 310, 'get': 311, 'season': 312, 'clear': 313, 'fruits': 314, 'meat': 315, 'those': 316, 'wheels': 317, 'play': 318, 'field': 319, 'good': 320, 'parked': 321, 'chairs': 322, 'middle': 323, 'wild': 324, 'need': 325, 'full': 326, 'present': 327, 'sun': 328, 'company': 329, 'sleeping': 330, 'daytime': 331, 'paper': 332, 'surfboard': 333, 'drinking': 334, 'vehicles': 335, 'home': 336, 'trains': 337, 'park': 338, 'stove': 339, 'carrying': 340, 'tracks': 341, 'buses': 342, 'closed': 343, 'cup': 344, 'objects': 345, 'waiting': 346, 'big': 347, 'bikes': 348, 'box': 349, 'cow': 350, 'skiing': 351, 'running': 352, 'bottle': 353, 'cloudy': 354, 'kid': 355, 'if': 356, 'refrigerator': 357, 'not': 358, 'kids': 359, 'plates': 360, 'small': 361, 'couch': 362, 'airplane': 363, 'high': 364, 'types': 365, 'each': 366, 'something': 367, 'donuts': 368, 'seat': 369, 'smiling': 370, 'event': 371, 'tall': 372, 'plant': 373, 'touching': 374, 'flower': 375, 'tower': 376, 'walls': 377, 'use': 378, 'as': 379, 'main': 380, 'style': 381, 'foreground': 382, 'bag': 383, 'numbers': 384, 'kites': 385, 'match': 386, 'hit': 387, 'thing': 388, 'leaves': 389, 'trying': 390, 'lot': 391, 'flag': 392, 'suitcase': 393, 'into': 394, 'wine': 395, 'go': 396, 'baseball': 397, 'store': 398, 'having': 399, 'activity': 400, 'word': 401, 'cut': 402, 'motion': 403, 'transportation': 404, 'surfer': 405, 'screen': 406, 'stuffed': 407, 'neck': 408, 'male': 409, 'modern': 410, 'court': 411, 'located': 412, 'drink': 413, 'mouth': 414, 'just': 415, 'batter': 416, 'tail': 417, 'part': 418, 'desk': 419, 'hotel': 420, 'pic': 421, 'female': 422, 'oven': 423, 'parking': 424, 'slices': 425, 'stripes': 426, 'buildings': 427, 'pointing': 428, 'first': 429, 'teddy': 430, 'should': 431, 'body': 432, 'dressed': 433, 'far': 434, 'counter': 435, 'ready': 436, 'donut': 437, 'childs': 438, 'things': 439, 'young': 440, 'professional': 441, 'skier': 442, 'coming': 443, 'coffee': 444, 'zoo': 445, 'natural': 446, 'banana': 447, 'towels': 448, 'shirts': 449, 'curtains': 450, 'letters': 451, 'scissors': 452, 'brown': 453, 'closest': 454, 'pillows': 455, 'covering': 456, 'ski': 457, 'fridge': 458, 'empty': 459, 'when': 460, 'bat': 461, 'year': 462, 'watching': 463, 'between': 464, 'wet': 465, 'take': 466, 'much': 467, 'eaten': 468, 'recently': 469, 'so': 470, 'pink': 471, 'shadow': 472, 'mountains': 473, 'luggage': 474, 'utensil': 475, 'fall': 476, 'mouse': 477, 'logo': 478, 'surfing': 479, 'letter': 480, 'racket': 481, 'shower': 482, 'cutting': 483, 'anything': 484, 'toy': 485, 'tell': 486, 'might': 487, 'through': 488, 'photograph': 489, 'dark': 490, 'painted': 491, 'center': 492, 'show': 493, 'wear': 494, 'lines': 495, 'gender': 496, 'uniform': 497, 'sunglasses': 498, 'adult': 499, 'legs': 500, 'keyboard': 501, 'motorcycles': 502, 'jersey': 503, 'cooked': 504, 'hats': 505, 'design': 506, 'pictures': 507, 'turned': 508, 'wrist': 509, 'overcast': 510, 'ceiling': 511, 'size': 512, 'suit': 513, 'breed': 514, 'reflection': 515, 'safe': 516, 'lamp': 517, 'trucks': 518, 'corner': 519, 'dress': 520, 'getting': 521, 'clocks': 522, 'trash': 523, 'fast': 524, 'cheese': 525, 'everyone': 526, 'poles': 527, 'bridge': 528, 'waves': 529, 'attached': 530, 'ocean': 531, 'fork': 532, 'airline': 533, 'language': 534, 'doors': 535, 'sidewalk': 536, 'book': 537, 'television': 538, 'blanket': 539, 'batters': 540, 'served': 541, 'some': 542, 'knife': 543, 'line': 544, 'pole': 545, 'arrow': 546, 'bread': 547, 'meter': 548, 'alone': 549, 'dirty': 550, 'bottles': 551, 'covered': 552, 'metal': 553, 'appliance': 554, 'pulling': 555, 'pieces': 556, 'coat': 557, 'womens': 558, 'breakfast': 559, 'device': 560, 'apples': 561, 'advertised': 562, 'skiers': 563, 'guys': 564, 'race': 565, 'trick': 566, 'sort': 567, 'landing': 568, 'enough': 569, 'working': 570, 'suitcases': 571, 'station': 572, 'shot': 573, 'piece': 574, 'still': 575, 'away': 576, 'making': 577, 'lying': 578, 'work': 579, 'read': 580, 'wave': 581, 'colored': 582, 'surface': 583, 'depicted': 584, 'position': 585, 'license': 586, 'short': 587, 'words': 588, 'summer': 589, 'mean': 590, 'towel': 591, 'displayed': 592, 'candles': 593, 'computers': 594, 'graffiti': 595, 'furniture': 596, 'structure': 597, 'family': 598, 'clothes': 599, 'cooking': 600, 'busy': 601, 'tray': 602, 'microwave': 603, 'setting': 604, 'container': 605, 'plants': 606, 'sit': 607, 'airport': 608, 'deep': 609, 'sinks': 610, 'watch': 611, 'tiles': 612, 'cabinets': 613, 'call': 614, 'normal': 615, 'ears': 616, 'handle': 617, 'warm': 618, 'carrots': 619, 'mountain': 620, 'passenger': 621, 'oranges': 622, 'birthday': 623, 'skis': 624, 'pan': 625, 'display': 626, 'monitor': 627, 'clothing': 628, 'shelf': 629, 'seem': 630, 'showing': 631, 'system': 632, 'remote': 633, 'leaning': 634, 'cross': 635, 'we': 636, 'belong': 637, 'broccoli': 638, 'arm': 639, 'books': 640, 'helmets': 641, 'benches': 642, 'considered': 643, 'three': 644, 'indoors': 645, 'land': 646, 'winter': 647, 'snowing': 648, 'round': 649, 'lit': 650, 'vases': 651, 'group': 652, 'shade': 653, 'ripe': 654, 'painting': 655, 'walk': 656, 'pizzas': 657, 'vegetarian': 658, 'beside': 659, 'missing': 660, 'species': 661, 'flags': 662, 'curtain': 663, 'placed': 664, 'outfit': 665, 'calm': 666, 'too': 667, 'colorful': 668, 'driving': 669, 'photographer': 670, 'apple': 671, 'featured': 672, 'hill': 673, 'business': 674, 'during': 675, 'age': 676, 'represent': 677, 'pot': 678, 'sand': 679, 'english': 680, 'cap': 681, 'taller': 682, 'tires': 683, 'rocks': 684, 'dessert': 685, 'gloves': 686, 'them': 687, 'probably': 688, 'sad': 689, 'asleep': 690, 'know': 691, 'beverage': 692, 'only': 693, 'stuff': 694, 'gear': 695, 'edible': 696, 'sauce': 697, 'fly': 698, 'wood': 699, 'were': 700, 'seats': 701, 'catch': 702, 'throwing': 703, 'last': 704, 'surfboards': 705, 'shining': 706, 'well': 707, 'bright': 708, 'distance': 709, 'half': 710, 'symbol': 711, 'utensils': 712, 'hold': 713, 'skateboarder': 714, 'participating': 715, 'liquid': 716, 'levels': 717, 'holiday': 718, 'cabinet': 719, 'grazing': 720, 'town': 721, 'socks': 722, 'driver': 723, 'america': 724, 'beer': 725, 'statue': 726, 'dinner': 727, 'post': 728, 'couple': 729, 'mens': 730, 'human': 731, 'vegan': 732, 'blurry': 733, 'roof': 734, 'collar': 735, 'school': 736, 'fun': 737, 'tile': 738, 'jumping': 739, 'doughnuts': 740, 'track': 741, 'spoon': 742, 'bicycle': 743, 'stand': 744, 'able': 745, 'bowls': 746, 'wetsuit': 747, 'habitat': 748, 'outdoors': 749, 'yet': 750, 'basket': 751, 'ride': 752, 'close': 753, 'across': 754, 'cell': 755, 'silver': 756, 'wooden': 757, 'market': 758, 'heads': 759, 'turn': 760, 'rain': 761, 'living': 762, 'crowded': 763, 'foot': 764, 'handed': 765, 'us': 766, 'purple': 767, 'live': 768, 'writing': 769, 'kinds': 770, 'sold': 771, 'adults': 772, 'together': 773, 'traveling': 774, 'beds': 775, 'video': 776, 'toppings': 777, 'bathtub': 778, 'location': 779, 'catcher': 780, 'engine': 781, 'desert': 782, '2': 783, 'flat': 784, 'screens': 785, 'shelves': 786, 'surfers': 787, 'lamps': 788, 'engines': 789, 'talking': 790, 'shoe': 791, 'growing': 792, 'free': 793, 'lake': 794, 'mode': 795, 'bags': 796, 'laptops': 797, 'purpose': 798, 'recent': 799, 'gray': 800, 'sofa': 801, 'skateboarding': 802, 'tool': 803, 'cups': 804, 'topping': 805, 'stands': 806, 'fireplace': 807, 'throw': 808, 'fit': 809, 'tusks': 810, 'pitcher': 811, 'stories': 812, 'plastic': 813, 'doughnut': 814, 'rider': 815, 'lunch': 816, 'rug': 817, 'your': 818, 'occasion': 819, 'someones': 820, 'straight': 821, 'cones': 822, 'lid': 823, 'come': 824, 'boots': 825, 'ladies': 826, 'against': 827, 'already': 828, 'job': 829, 'swimming': 830, 'dishes': 831, 'sale': 832, 'resting': 833, 'seated': 834, 'nose': 835, 'stacked': 836, 'toothbrush': 837, 'want': 838, 'very': 839, 'foods': 840, 'represented': 841, 'messy': 842, 'pillow': 843, 'nearby': 844, 'frame': 845, 'office': 846, 'united': 847, 'states': 848, 'tub': 849, 'roll': 850, 'drive': 851, 'spots': 852, 'nighttime': 853, 'ethnicity': 854, 'military': 855, 'goggles': 856, 'normally': 857, 'soap': 858, 'find': 859, 'american': 860, 'ship': 861, 'skating': 862, 'riders': 863, 'paint': 864, 'double': 865, 'power': 866, 'carpet': 867, 'set': 868, 'whose': 869, 'toys': 870, 'dry': 871, 'hungry': 872, 'safety': 873, 'jet': 874, 'currently': 875, 'downhill': 876, 'jeans': 877, 'towards': 878, 'another': 879, 'backpack': 880, 'headlights': 881, 'equipment': 882, 'beard': 883, 'soda': 884, 'ice': 885, 'babys': 886, 'public': 887, 'leg': 888, 'salad': 889, 'before': 890, 'shadows': 891, 'striped': 892, 'machine': 893, 'monitors': 894, 'shop': 895, 'tablecloth': 896, 'crossing': 897, 'celebrating': 898, 'church': 899, 'tied': 900, 'hairstyle': 901, 'blinds': 902, 'police': 903, 'cakes': 904, 'arms': 905, 'passengers': 906, 'vest': 907, '3': 908, 'second': 909, 'fur': 910, 'soccer': 911, 'forest': 912, 'usually': 913, 'platform': 914, 'clearly': 915, 'sliced': 916, 'happened': 917, 'put': 918, 'flooring': 919, 'urban': 920, 'instrument': 921, 'wires': 922, 'spot': 923, 'females': 924, 'fingers': 925, 'sweater': 926, 'grown': 927, 'older': 928, 'horns': 929, 'broken': 930, 'case': 931, 'tomatoes': 932, 'trunk': 933, 'solid': 934, 'catching': 935, 'along': 936, 'now': 937, 'eggs': 938, 'sweet': 939, 'chocolate': 940, 'character': 941, 'signal': 942, 'jewelry': 943, 'purse': 944, 'faces': 945, 'whole': 946, 'uniforms': 947, 'sandwiches': 948, 'wind': 949, 'pet': 950, 'ear': 951, 'humans': 952, 'indicate': 953, 'napkin': 954, 'balls': 955, 'party': 956, 'no': 957, 'skirt': 958, 'falling': 959, 'drinks': 960, 'movie': 961, 'travel': 962, 'mirrors': 963, 'houses': 964, 'van': 965, 'art': 966, 'catchers': 967, 'makes': 968, 'ladys': 969, 'focus': 970, 'gate': 971, 'nice': 972, 'appropriate': 973, 'alive': 974, 'sponsor': 975, 'dominant': 976, 'commercial': 977, 'else': 978, 'rainy': 979, 'owns': 980, 'asian': 981, 'ring': 982, 'fish': 983, 'toothbrushes': 984, 'controller': 985, 'boards': 986, 'end': 987, 'typical': 988, 'bun': 989, 'model': 990, 'bald': 991, 'intersection': 992, 'reflected': 993, 'below': 994, 'reading': 995, 'common': 996, 'feel': 997, 'environment': 998, 'puppy': 999, 'after': 1000, 'blender': 1001, 'cook': 1002, 'sticking': 1003, 'run': 1004, 'level': 1005, 'holds': 1006, 'cover': 1007, 'competition': 1008, 'forward': 1009, 'years': 1010, 'performing': 1011, 'serving': 1012, 'countertop': 1013, 'bigger': 1014, 'toward': 1015, 'mitt': 1016, 'skater': 1017, 'forks': 1018, 'bedroom': 1019, 'tag': 1020, 'facial': 1021, 'jump': 1022, 'besides': 1023, 'stripe': 1024, 'tshirt': 1025, 'space': 1026, 'ingredients': 1027, 'worn': 1028, 'streets': 1029, 'teeth': 1030, 'related': 1031, 'dining': 1032, 'isnt': 1033, 'sleep': 1034, 'posing': 1035, 'fan': 1036, 'dangerous': 1037, 'decorated': 1038, 'selling': 1039, 'own': 1040, 'ties': 1041, 'four': 1042, 'sneakers': 1043, 'snowboarding': 1044, 'skateboards': 1045, 'trip': 1046, 'sticker': 1047, 'primary': 1048, 'snack': 1049, 'palm': 1050, 'him': 1051, 'view': 1052, 'brick': 1053, 'private': 1054, 'source': 1055, 'shopping': 1056, 'keep': 1057, 'sell': 1058, 'skate': 1059, 'gas': 1060, 'dirt': 1061, 'containers': 1062, 'aircraft': 1063, 'slope': 1064, 'leash': 1065, 'stopped': 1066, 'flavor': 1067, 'found': 1068, 'steps': 1069, 'sex': 1070, 'skateboarders': 1071, 'scared': 1072, 'river': 1073, 'done': 1074, 'shaped': 1075, 'dolls': 1076, 'cart': 1077, 'toilets': 1078, 'construction': 1079, 'snowboard': 1080, 'frosting': 1081, 'saddle': 1082, 'largest': 1083, 'chain': 1084, 'larger': 1085, 'belt': 1086, 'bedspread': 1087, 'fresh': 1088, 'upper': 1089, 'blonde': 1090, 'countrys': 1091, 'sunset': 1092, 'sports': 1093, 'allowed': 1094, 'magnets': 1095, 'supposed': 1096, 'easily': 1097, 'babies': 1098, 'taxi': 1099, 'comfortable': 1100, 'i': 1101, 'carry': 1102, 'tables': 1103, 'devices': 1104, 'decker': 1105, 'dead': 1106, 'feeding': 1107, 'floating': 1108, 'spectators': 1109, 'held': 1110, 'bar': 1111, 'plugged': 1112, 'finger': 1113, 'slice': 1114, 'state': 1115, 'pairs': 1116, 'popular': 1117, 'lift': 1118, 'figure': 1119, 'bicycles': 1120, 'tomato': 1121, 'lower': 1122, 'landscape': 1123, 'floors': 1124, 'lighting': 1125, 'sides': 1126, 'silverware': 1127, 'sponsoring': 1128, 'morning': 1129, 'tallest': 1130, 'feature': 1131, 'kitten': 1132, 'surrounding': 1133, 'covers': 1134, 'tags': 1135, 'website': 1136, 'milk': 1137, 'tea': 1138, 'rural': 1139, 'bracelet': 1140, 'cloth': 1141, 'low': 1142, 'temperature': 1143, 'handles': 1144, 'properly': 1145, 'single': 1146, 'crust': 1147, 'condition': 1148, 'phones': 1149, 'paved': 1150, 'onto': 1151, 'famous': 1152, 'pasta': 1153, 'toothpaste': 1154, 'tidy': 1155, 'hard': 1156, 'peoples': 1157, 'rock': 1158, 'mug': 1159, 'farm': 1160, 'crowd': 1161, 'cargo': 1162, 'life': 1163, 'teams': 1164, 'mother': 1165, 'reaching': 1166, 'printed': 1167, 'homemade': 1168, 'bars': 1169, 'opened': 1170, 'telephone': 1171, 'glove': 1172, 'airplanes': 1173, 'lap': 1174, 'serve': 1175, 'feeling': 1176, 'owner': 1177, 'took': 1178, 'happening': 1179, 'shades': 1180, 'buy': 1181, 'contain': 1182, 'underneath': 1183, 'button': 1184, 'knees': 1185, 'world': 1186, 'unusual': 1187, 'bow': 1188, 'control': 1189, 'soup': 1190, 'freight': 1191, 'rolls': 1192, 'captivity': 1193, 'carpeted': 1194, 'turning': 1195, 'excited': 1196, 'product': 1197, 'hitting': 1198, 'expensive': 1199, 'antique': 1200, 'snowboarder': 1201, 'net': 1202, 'square': 1203, 'prepared': 1204, 'service': 1205, 'afraid': 1206, 'enjoying': 1207, 'fishing': 1208, 'cast': 1209, 'banner': 1210, 'preparing': 1211, 'bad': 1212, 'eye': 1213, 'mess': 1214, 'mostly': 1215, 'directly': 1216, 'soft': 1217, 'wrapped': 1218, 'tattoo': 1219, 'decoration': 1220, 'frisbees': 1221, 'grassy': 1222, 'storm': 1223, 'smaller': 1224, 'friends': 1225, 'tongue': 1226, 'blowing': 1227, 'scissor': 1228, 'keyboards': 1229, 'bucket': 1230, 'finished': 1231, 'pretty': 1232, 'ramp': 1233, 'hurt': 1234, 'boxes': 1235, 'majority': 1236, 'designed': 1237, 'heavy': 1238, 'ladder': 1239, 'windy': 1240, 'ketchup': 1241, 'protective': 1242, 'ribbon': 1243, 'point': 1244, 'meters': 1245, 'bushes': 1246, 'nearest': 1247, 'pavement': 1248, 'stadium': 1249, 'candle': 1250, 'sheets': 1251, 'electric': 1252, 'rack': 1253, 'smoke': 1254, 'today': 1255, 'headed': 1256, 'angry': 1257, 'cream': 1258, 'boarding': 1259, 'napkins': 1260, 'tired': 1261, 'nationality': 1262, 'bite': 1263, 'married': 1264, 'filled': 1265, 'cage': 1266, 'profession': 1267, 'markings': 1268, 'icing': 1269, 'mat': 1270, 'closer': 1271, 'saying': 1272, 'earrings': 1273, 'goats': 1274, 'lead': 1275, 'bare': 1276, 'speed': 1277, 'base': 1278, 'electronic': 1279, 'third': 1280, 'waving': 1281, 'thrown': 1282, 'theme': 1283, 'uphill': 1284, 'pasture': 1285, 'count': 1286, 'beautiful': 1287, 'delicious': 1288, 'least': 1289, 'wedding': 1290, 'bedding': 1291, 'everything': 1292, 'arrows': 1293, 'posts': 1294, 'available': 1295, 'outdoor': 1296, 'awake': 1297, 'special': 1298, 'cleaned': 1299, 'pad': 1300, 'appliances': 1301, 'sleeves': 1302, 'backwards': 1303, 'railing': 1304, 'looks': 1305, 'happen': 1306, 'stickers': 1307, 'without': 1308, 'row': 1309, 'highway': 1310, 'substance': 1311, 'trunks': 1312, 'faucet': 1313, 'completely': 1314, 'giving': 1315, 'plain': 1316, 'restroom': 1317, '5': 1318, 'sets': 1319, 'danger': 1320, 'wings': 1321, 'athlete': 1322, 'tents': 1323, 'artificial': 1324, 'terrain': 1325, 'folded': 1326, 'rear': 1327, 'sporting': 1328, 'powers': 1329, 'doll': 1330, 'listed': 1331, 'meant': 1332, 'total': 1333, 'farthest': 1334, 'pie': 1335, 'ad': 1336, 'patterns': 1337, 'ponytail': 1338, 'sheet': 1339, 'funny': 1340, 'crosswalk': 1341, 'limit': 1342, 'tent': 1343, 'wheel': 1344, 'veggies': 1345, 'pitchers': 1346, 'raw': 1347, 'rest': 1348, 'drawers': 1349, 'star': 1350, 'buttons': 1351, 'route': 1352, 'console': 1353, 'pepperoni': 1354, 'climate': 1355, 'neat': 1356, 'chef': 1357, 'break': 1358, 'airborne': 1359, 'celebrated': 1360, 'christmas': 1361, 'bricks': 1362, 'form': 1363, 'condiments': 1364, 'uses': 1365, 'hiding': 1366, 'roses': 1367, 'times': 1368, 'numerals': 1369, 'must': 1370, 'fancy': 1371, 'grapes': 1372, 'flight': 1373, 'fighting': 1374, 'swinging': 1375, 'major': 1376, 'cookies': 1377, 'trouble': 1378, 'enjoy': 1379, 'sunlight': 1380, 'possible': 1381, 'typically': 1382, 'perched': 1383, 'appears': 1384, 'wagon': 1385, 'subway': 1386, 'jets': 1387, 'heading': 1388, 'pipe': 1389, 'destination': 1390, 'holder': 1391, 'egg': 1392, 'males': 1393, 'continent': 1394, 'fries': 1395, 'gaming': 1396, 'cool': 1397, 'rings': 1398, 'somebody': 1399, 'holes': 1400, 'transport': 1401, 'string': 1402, 'tissue': 1403, 'surf': 1404, 'pocket': 1405, 'title': 1406, 'function': 1407, 'scheme': 1408, 'hung': 1409, 'bathing': 1410, 'lots': 1411, 'somewhere': 1412, 'resemble': 1413, 'pots': 1414, 'mane': 1415, 'advertisement': 1416, 'roam': 1417, 'lawn': 1418, 'locked': 1419, 'creature': 1420, 'regular': 1421, 'leading': 1422, 'range': 1423, 'according': 1424, 'atop': 1425, 'drawn': 1426, 'yard': 1427, 'love': 1428, 'difference': 1429, 'chicken': 1430, 'date': 1431, 'toast': 1432, 'competing': 1433, 'proper': 1434, 'similar': 1435, 'cupcakes': 1436, 'countryside': 1437, 'staring': 1438, 'sea': 1439, 'motorbike': 1440, 'brush': 1441, 'roman': 1442, 'bikers': 1443, 'paws': 1444, 'scooter': 1445, 'propeller': 1446, 'motor': 1447, 'horizon': 1448, 'wrong': 1449, 'chefs': 1450, 'league': 1451, 'selfie': 1452, 'parade': 1453, 'hole': 1454, 'necklace': 1455, 'runway': 1456, 'calories': 1457, 'hugging': 1458, 'olives': 1459, 'beak': 1460, 'roofs': 1461, 'papers': 1462, 'juice': 1463, 'steel': 1464, 'fallen': 1465, 'stairs': 1466, 'sugar': 1467, 'desktop': 1468, 'anybody': 1469, 'dock': 1470, 'knee': 1471, 'athletic': 1472, 'sharp': 1473, 'ever': 1474, 'hes': 1475, 'friendly': 1476, 'personal': 1477, 'maker': 1478, 'swim': 1479, 'picnic': 1480, 'batting': 1481, 'engaged': 1482, 'circle': 1483, 'headboard': 1484, 'herself': 1485, 'fenced': 1486, 'exit': 1487, 'stoplight': 1488, 'weight': 1489, 'headband': 1490, 'sponsored': 1491, 'neighborhood': 1492, 'domesticated': 1493, 'racquet': 1494, 'enclosure': 1495, 'cluttered': 1496, 'text': 1497, 'path': 1498, 'pool': 1499, 'photographed': 1500, 'quality': 1501, '10': 1502, 'museum': 1503, 'himself': 1504, 'umpire': 1505, 'garbage': 1506, 'peppers': 1507, 'lane': 1508, 'jackets': 1509, 'raised': 1510, 'hardwood': 1511, 'avenue': 1512, 'feed': 1513, 'bath': 1514, 'hotdog': 1515, 'music': 1516, 'upright': 1517, 'course': 1518, 'entire': 1519, 'apron': 1520, 'dancing': 1521, 'organized': 1522, 'directions': 1523, 'sprinkles': 1524, 'interested': 1525, 'current': 1526, 'haircut': 1527, 'keeps': 1528, 'rough': 1529, 'trail': 1530, 'audience': 1531, 'racing': 1532, 'functional': 1533, 'balanced': 1534, 'odd': 1535, 'either': 1536, 'names': 1537, 'rail': 1538, 'peeled': 1539, 'skies': 1540, 'woods': 1541, 'baskets': 1542, 'produce': 1543, 'stone': 1544, 'print': 1545, 'cans': 1546, 'dots': 1547, 'arranged': 1548, 'emotion': 1549, 'creatures': 1550, 'jars': 1551, 'longer': 1552, 'squares': 1553, 'lose': 1554, 'protein': 1555, 'smooth': 1556, 'backyard': 1557, 'wire': 1558, 'says': 1559, 'tan': 1560, 'shorter': 1561, 'action': 1562, 'teapot': 1563, 'carriage': 1564, 'chips': 1565, 'alcohol': 1566, 'move': 1567, 'based': 1568, 'give': 1569, 'heart': 1570, 'edge': 1571, 'bakery': 1572, 'airlines': 1573, 'had': 1574, 'drawing': 1575, 'keeping': 1576, 'veggie': 1577, 'awning': 1578, 'leave': 1579, 'stored': 1580, 'within': 1581, 'petting': 1582, 'workers': 1583, 'really': 1584, 'tiers': 1585, 'stars': 1586, 'pen': 1587, 'sill': 1588, 'kettle': 1589, 'health': 1590, 'costume': 1591, 'assume': 1592, 'protecting': 1593, 'plaid': 1594, 'neatly': 1595, 'expression': 1596, 'vests': 1597, 'wii': 1598, 'lettering': 1599, 'easy': 1600, 'while': 1601, 'cattle': 1602, 'trimmed': 1603, '4': 1604, 'pay': 1605, 'digital': 1606, 'anywhere': 1607, 'engaging': 1608, 'fake': 1609, 'associated': 1610, 'tourist': 1611, 'haired': 1612, 'mask': 1613, 'built': 1614, 'every': 1615, 'glowing': 1616, 'upside': 1617, 'gold': 1618, 'barn': 1619, 'lens': 1620, 'great': 1621, 'tools': 1622, 'others': 1623, 'doorway': 1624, 'rice': 1625, 'celebration': 1626, 'desserts': 1627, 'steep': 1628, 'footwear': 1629, 'relaxing': 1630, 'architecture': 1631, 'actually': 1632, 'tour': 1633, 'rusty': 1634, 'wetsuits': 1635, 'frames': 1636, 'marks': 1637, 'strap': 1638, 'ducks': 1639, 'chains': 1640, 'sized': 1641, 'higher': 1642, 'money': 1643, 'noodles': 1644, 'north': 1645, 'lettuce': 1646, 'advertising': 1647, 'residential': 1648, 'seeds': 1649, 'circles': 1650, 'moment': 1651, 'harbor': 1652, 'structures': 1653, 'shapes': 1654, 'sponsors': 1655, 'sweatshirt': 1656, 'reach': 1657, 'tire': 1658, 'decor': 1659, 'foggy': 1660, 'indoor': 1661, 'tank': 1662, 'formal': 1663, 'cartoon': 1664, 'shaved': 1665, 'outlet': 1666, 'usa': 1667, 'teenager': 1668, 'mac': 1669, 'often': 1670, 'tasty': 1671, 'brushing': 1672, 'classroom': 1673, 'disk': 1674, 'photos': 1675, 'rope': 1676, 'rooms': 1677, 'arent': 1678, 'vintage': 1679, 'windshield': 1680, 'approaching': 1681, 'tops': 1682, 'rails': 1683, 'tide': 1684, 'texture': 1685, 'kept': 1686, 'jar': 1687, 'mushrooms': 1688, 'skaters': 1689, 'pads': 1690, 'order': 1691, 'doesnt': 1692, 'cafe': 1693, 'approximately': 1694, 'cuisine': 1695, 'until': 1696, 'poster': 1697, 'depict': 1698, 'flown': 1699, 'africa': 1700, 'hoodie': 1701, 'connected': 1702, 'rights': 1703, 'musical': 1704, 'wallpaper': 1705, 'caught': 1706, 'sandals': 1707, 'baking': 1708, 'also': 1709, 'recipe': 1710, 'waist': 1711, 'smell': 1712, 'trained': 1713, 'potatoes': 1714, 'score': 1715, 'scarf': 1716, 'ones': 1717, 'highest': 1718, 'lined': 1719, 'stopping': 1720, 'bull': 1721, 'mowed': 1722, 'reflective': 1723, 'terminal': 1724, 'fried': 1725, 'tails': 1726, 'pass': 1727, 'attention': 1728, 'typing': 1729, 'conditions': 1730, 'drunk': 1731, 'dresser': 1732, 'thinking': 1733, 'ago': 1734, 'photography': 1735, 'cushions': 1736, 'muddy': 1737, 'transporting': 1738, 'balloon': 1739, 'practice': 1740, 'crying': 1741, 'skin': 1742, 'fabric': 1743, 'wheelchair': 1744, 'underwater': 1745, 'traditional': 1746, 'supermarket': 1747, 'plunger': 1748, 'sleeve': 1749, 'soon': 1750, 'lonely': 1751, 'height': 1752, 't': 1753, 'band': 1754, 'prepare': 1755, 'cowboy': 1756, 'leaving': 1757, 'evening': 1758, 'italian': 1759, 'pregnant': 1760, 'grocery': 1761, 'flush': 1762, 'enclosed': 1763, 'ways': 1764, 'knives': 1765, 'corn': 1766, 'toasted': 1767, 'help': 1768, 'injured': 1769, 'means': 1770, 'suitable': 1771, 'faster': 1772, 'smallest': 1773, 'powered': 1774, 'vacation': 1775, 'past': 1776, 'sheeps': 1777, 'emblem': 1778, 'partially': 1779, 'rackets': 1780, 'wears': 1781, 'border': 1782, 'kitty': 1783, 'pedestrians': 1784, 'ceramic': 1785, 'swing': 1786, 'companys': 1787, 'tiled': 1788, 'tournament': 1789, 'images': 1790, 'cookie': 1791, 'ridden': 1792, 'hose': 1793, 'gone': 1794, 'trim': 1795, 'performed': 1796, 'propellers': 1797, 'curb': 1798, 'potty': 1799, 'burning': 1800, 'cone': 1801, 'learning': 1802, 'carrot': 1803, 'shave': 1804, 'pm': 1805, 'arrangement': 1806, 'spring': 1807, 'onions': 1808, 'grill': 1809, 'bell': 1810, 'afternoon': 1811, 'resort': 1812, 'garment': 1813, 'fixture': 1814, 'accent': 1815, 'curly': 1816, 'stick': 1817, 'bats': 1818, 'finish': 1819, 'backward': 1820, 'fans': 1821, 'king': 1822, 'fully': 1823, 'protect': 1824, 'overweight': 1825, 'accident': 1826, 'caucasian': 1827, 'parallel': 1828, 'balding': 1829, 'feathers': 1830, 'planter': 1831, 'darker': 1832, 'emergency': 1833, 'circular': 1834, 'site': 1835, 'forefront': 1836, 'cost': 1837, 'pulled': 1838, 'grow': 1839, 'younger': 1840, 'story': 1841, 'passing': 1842, 'attire': 1843, 'putting': 1844, 'places': 1845, 'necktie': 1846, 'establishment': 1847, 'cab': 1848, 'strike': 1849, 'p': 1850, 'drivers': 1851, 'kickstand': 1852, 'beneath': 1853, 'wing': 1854, 'toaster': 1855, 'thirsty': 1856, 'named': 1857, 'pens': 1858, 'winning': 1859, 'mixer': 1860, 'sharing': 1861, 'peeking': 1862, 'lefts': 1863, 'stools': 1864, 'herd': 1865, 'primarily': 1866, 'matching': 1867, 'landmark': 1868, 'barefoot': 1869, 'legal': 1870, 'religious': 1871, 'wristband': 1872, 'pastry': 1873, 'stores': 1874, 'duck': 1875, 'fingernails': 1876, 'knobs': 1877, 'casting': 1878, 'visor': 1879, 'parts': 1880, 'york': 1881, 'pack': 1882, 'bikini': 1883, 'chinese': 1884, 'vendor': 1885, 'hazy': 1886, 'snowed': 1887, 'deck': 1888, 'branches': 1889, 'battery': 1890, 'microphone': 1891, 'start': 1892, 'belly': 1893, 'pier': 1894, 'bank': 1895, 'helicopter': 1896, 'pets': 1897, 'remotes': 1898, 'reflecting': 1899, 'walkway': 1900, 'manufactured': 1901, 'mainly': 1902, 'crash': 1903, 'points': 1904, 'printer': 1905, 'potato': 1906, 'operating': 1907, 'burners': 1908, 'mini': 1909, 'wait': 1910, 'magazine': 1911, 'mounted': 1912, 'planning': 1913, 'lanes': 1914, 'tape': 1915, 'generally': 1916, 'even': 1917, 'mugs': 1918, 'dugout': 1919, 'gift': 1920, 'cant': 1921, 'shore': 1922, 'urinals': 1923, 'stay': 1924, 'yarn': 1925, 'sunrise': 1926, 'mammal': 1927, 'best': 1928, 'outfits': 1929, 'try': 1930, 'strawberries': 1931, 'several': 1932, 'smile': 1933, 'identical': 1934, 'secured': 1935, 'cloud': 1936, 'balloons': 1937, 'stroller': 1938, 'buss': 1939, 'tissues': 1940, 'runner': 1941, 'treatment': 1942, 'rolling': 1943, 'kissing': 1944, 'platter': 1945, 'write': 1946, 'stainless': 1947, 'commonly': 1948, 'drawer': 1949, 'mud': 1950, 'waste': 1951, 'wrapper': 1952, 'rugs': 1953, 'sits': 1954, 'rose': 1955, 'groups': 1956, 'rides': 1957, 'overseas': 1958, 'extra': 1959, 'geometric': 1960, 'diet': 1961, 'block': 1962, 'hygiene': 1963, 'vision': 1964, 'st': 1965, 'canoe': 1966, 'mustard': 1967, 'college': 1968, '8': 1969, 'childrens': 1970, 'neon': 1971, 'lighthouse': 1972, 'closet': 1973, 'nutritious': 1974, 'paw': 1975, 'polka': 1976, 'casual': 1977, 'president': 1978, 'likes': 1979, 'newer': 1980, 'angle': 1981, 'suburban': 1982, 'twins': 1983, 'shoelaces': 1984, 'expect': 1985, 'necks': 1986, 'clutter': 1987, 'bush': 1988, 'carton': 1989, 'practicing': 1990, 'signals': 1991, 'nuts': 1992, 'china': 1993, 'taste': 1994, 'steam': 1995, 'nightstand': 1996, 'booth': 1997, 'thru': 1998, 'columns': 1999, 'shoulder': 2000, 'electrical': 2001, 'tropical': 2002, 'dishwasher': 2003, 'gravel': 2004, 'win': 2005, 'posted': 2006, 'bent': 2007, 'describe': 2008, 'library': 2009, 'games': 2010, 'stuck': 2011, 'pair': 2012, 'focused': 2013, 'flooded': 2014, 'ok': 2015, 'may': 2016, 'tiny': 2017, 'upon': 2018, 'illuminated': 2019, 'exposed': 2020, 'believe': 2021, 'rocking': 2022, 'hour': 2023, 'standard': 2024, 'kick': 2025, 'cables': 2026, 'necessary': 2027, 'attempting': 2028, 'opening': 2029, 'rectangular': 2030, 'filling': 2031, 'placid': 2032, 'log': 2033, 'pointed': 2034, 'stationary': 2035, 'network': 2036, 'pickup': 2037, 'cute': 2038, '20': 2039, 'war': 2040, 'strip': 2041, 'busses': 2042, 'lamb': 2043, 'lambs': 2044, 'architectural': 2045, 'planted': 2046, 'perspective': 2047, 'disposable': 2048, 'coats': 2049, 'experienced': 2050, 'dont': 2051, 'smoking': 2052, 'bleachers': 2053, 'roads': 2054, 'fountain': 2055, 'pond': 2056, 'shiny': 2057, 'culture': 2058, 'characters': 2059, 'pony': 2060, 'factory': 2061, 'predominant': 2062, 'technology': 2063, 'contained': 2064, 'laces': 2065, 'briefcase': 2066, 'parrot': 2067, 'condiment': 2068, 'panes': 2069, 'cubicle': 2070, 'wireless': 2071, 'freely': 2072, 'bunches': 2073, 'goal': 2074, 'righthanded': 2075, 'causing': 2076, 'hillside': 2077, 'counters': 2078, 'department': 2079, 'burger': 2080, 'pepper': 2081, 'relaxed': 2082, 'athletes': 2083, 'members': 2084, 'flip': 2085, 'variety': 2086, 'smartphone': 2087, 'hooves': 2088, 'symbolize': 2089, 'gesture': 2090, 'candy': 2091, 'sleepy': 2092, 'baked': 2093, 'vans': 2094, 'figurines': 2095, 'festival': 2096, 'snowy': 2097, 'subject': 2098, 'railroad': 2099, 'pancakes': 2100, 'original': 2101, 'lining': 2102, 'figures': 2103, 'mailbox': 2104, 'noon': 2105, 'average': 2106, 'bagel': 2107, 'chewing': 2108, 'originate': 2109, 'lives': 2110, 'supporting': 2111, 'automobile': 2112, 'trolley': 2113, 'goes': 2114, 'motorbikes': 2115, 'quickly': 2116, 'contact': 2117, 'tourists': 2118, 'triangle': 2119, 'enter': 2120, 'backsplash': 2121, 'robot': 2122, 'bulbs': 2123, 'branch': 2124, 'fat': 2125, 'okay': 2126, 'frozen': 2127, 'hours': 2128, 'balcony': 2129, 'europe': 2130, 'buns': 2131, 'buffet': 2132, 'remodeled': 2133, 'departing': 2134, 'concrete': 2135, 'sisters': 2136, 'perfect': 2137, 'tip': 2138, 'goat': 2139, 'religion': 2140, 'toothpicks': 2141, 'homeless': 2142, 'hills': 2143, 'themselves': 2144, 'patterned': 2145, 'electricity': 2146, 'surrounded': 2147, 'equipped': 2148, 'multicolored': 2149, 'fed': 2150, 'beverages': 2151, 'modes': 2152, 'interesting': 2153, 'farmers': 2154, 'singing': 2155, 'decade': 2156, 'runs': 2157, 'lost': 2158, 'feeder': 2159, 'hummingbird': 2160, 'calendar': 2161, 'whiskers': 2162, 'method': 2163, 'meeting': 2164, 'gentlemen': 2165, 'doe': 2166, 'paddle': 2167, 'suv': 2168, 'instruments': 2169, 'stones': 2170, 'crossed': 2171, 'cooler': 2172, 'shirtless': 2173, 'golden': 2174, 'keys': 2175, 'brightly': 2176, 'bicyclist': 2177, 'mall': 2178, 'following': 2179, 'training': 2180, 'pitch': 2181, 'starts': 2182, 'eyeglasses': 2183, 'strong': 2184, 'accessories': 2185, 'picked': 2186, 'needs': 2187, 'robe': 2188, 'actual': 2189, 'blades': 2190, 'measuring': 2191, 'dipping': 2192, 'picking': 2193, 'jam': 2194, 'returning': 2195, 'sailboats': 2196, 'seems': 2197, 'grab': 2198, 'sail': 2199, 'separate': 2200, 'cause': 2201, 'tattoos': 2202, 'ambulance': 2203, 'aware': 2204, 'pine': 2205, 'arches': 2206, 'comforter': 2207, 'roaming': 2208, 'garnish': 2209, 'rim': 2210, 'furthest': 2211, 'sandy': 2212, 'groomed': 2213, 'week': 2214, 'leather': 2215, 'itself': 2216, 'countertops': 2217, 'district': 2218, 'footprints': 2219, 'students': 2220, 'fuel': 2221, 'operates': 2222, 'mammals': 2223, 'almost': 2224, 'cleaning': 2225, 'maintained': 2226, 'elderly': 2227, 'facility': 2228, 'lifted': 2229, 'barrel': 2230, 'jungle': 2231, 'filtered': 2232, 'ahead': 2233, 'shops': 2234, 'sheared': 2235, 'garage': 2236, 'progress': 2237, 'knot': 2238, 'because': 2239, 'removed': 2240, 'licking': 2241, 'protected': 2242, 'couches': 2243, 'balance': 2244, 'dressing': 2245, 'sources': 2246, 'onion': 2247, 'trays': 2248, 'foliage': 2249, 'father': 2250, 'geese': 2251, 'minutes': 2252, 'pies': 2253, '18': 2254, 'packed': 2255, 'spotted': 2256, 'seating': 2257, 'camo': 2258, 'chopsticks': 2259, 'calf': 2260, 'lite': 2261, 'snowboarders': 2262, 'cord': 2263, '1': 2264, 'leafy': 2265, 'tunnel': 2266, 'arrive': 2267, 'towed': 2268, 'nails': 2269, 'jelly': 2270, 'kittens': 2271, 'nail': 2272, 'bill': 2273, 'consider': 2274, 'happens': 2275, 'organic': 2276, 'relationship': 2277, 'marble': 2278, 'x': 2279, 'meaning': 2280, 'umpires': 2281, 'kicked': 2282, 'ten': 2283, 'trailer': 2284, 'cheering': 2285, 'marina': 2286, 'usual': 2287, 'stem': 2288, 'portion': 2289, 'cemetery': 2290, 'few': 2291, 'lemon': 2292, 'aligned': 2293, 'ingredient': 2294, 'fixing': 2295, 'alert': 2296, 'blocking': 2297, 'given': 2298, 'accessory': 2299, 'installed': 2300, 'horizontal': 2301, 'amount': 2302, 'climbing': 2303, 'bit': 2304, 'summertime': 2305, 'warming': 2306, 'heat': 2307, 'ships': 2308, 'rising': 2309, 'topped': 2310, 'mouths': 2311, 'vertical': 2312, 'west': 2313, 'overhead': 2314, 'bending': 2315, 'rainbow': 2316, 'sliding': 2317, 'foamy': 2318, 'butter': 2319, 'garden': 2320, 'touch': 2321, 'controls': 2322, 'owl': 2323, 'layers': 2324, 'crates': 2325, 'shows': 2326, 'skyscraper': 2327, 'abandoned': 2328, 'pastries': 2329, 'pushing': 2330, 'length': 2331, 'sailing': 2332, 'element': 2333, 'appropriately': 2334, 'injury': 2335, 'masks': 2336, 'shes': 2337, 'exercise': 2338, 'mass': 2339, 'galloping': 2340, 'composed': 2341, 'port': 2342, 'transparent': 2343, 'laughing': 2344, 'jug': 2345, 'force': 2346, 'series': 2347, 'washing': 2348, 'cellular': 2349, 'bought': 2350, 'theyre': 2351, 'weigh': 2352, 'crosses': 2353, 'dying': 2354, 'autumn': 2355, 'thin': 2356, 'ostrich': 2357, 'certain': 2358, 'vessel': 2359, 'mcdonalds': 2360, 'slide': 2361, 'island': 2362, 'ovens': 2363, 'sat': 2364, 'important': 2365, 'advertiser': 2366, 'decorations': 2367, 'crop': 2368, 'teaching': 2369, 'faucets': 2370, 'sheer': 2371, 'slept': 2372, 'occupied': 2373, 'government': 2374, 'contemporary': 2375, 'camouflaged': 2376, 'charge': 2377, 'caused': 2378, 'gay': 2379, 'inspired': 2380, 'metered': 2381, 'create': 2382, 'hummingbirds': 2383, 'caps': 2384, 'dollar': 2385, 'bloom': 2386, 'shut': 2387, 'repaired': 2388, 'lock': 2389, 'poured': 2390, 'backhand': 2391, 'mobile': 2392, 'officers': 2393, 'rained': 2394, 'gathered': 2395, 'consist': 2396, 'farmer': 2397, 'hidden': 2398, 'teenagers': 2399, 'complete': 2400, 'international': 2401, 'takes': 2402, 'poor': 2403, 'allow': 2404, 'turns': 2405, 'barrels': 2406, 'manicured': 2407, 'seal': 2408, 'spraying': 2409, 'lighted': 2410, 'biker': 2411, 'yogurt': 2412, 'pick': 2413, 'decorating': 2414, 'blend': 2415, 'towers': 2416, 'saucer': 2417, 'then': 2418, 'drapes': 2419, 'rolled': 2420, 'furnished': 2421, '7': 2422, 'paying': 2423, 'freezer': 2424, 'bookcase': 2425, 'paintings': 2426, 'cozy': 2427, 'fluid': 2428, 'cop': 2429, 'exhaust': 2430, 'windowsill': 2431, 'shaven': 2432, 'cardboard': 2433, 'font': 2434, 'racks': 2435, 'convention': 2436, 'sticks': 2437, 'handmade': 2438, 'bubble': 2439, 'nation': 2440, 'owners': 2441, 'falls': 2442, 'daughter': 2443, 'patio': 2444, 'bend': 2445, 'graze': 2446, 'born': 2447, 'pipes': 2448, 'mad': 2449, 'multiple': 2450, 'berries': 2451, 'gathering': 2452, 'dresses': 2453, 'key': 2454, 'tusk': 2455, 'contains': 2456, 'hall': 2457, 'bin': 2458, 'clay': 2459, 'credit': 2460, 'card': 2461, 'frosted': 2462, 'powder': 2463, 'cable': 2464, 'commuter': 2465, 'sausages': 2466, 'decors': 2467, 'lion': 2468, 'cases': 2469, 'legally': 2470, 'spray': 2471, 'fencing': 2472, 'comes': 2473, 'lunchtime': 2474, 'carts': 2475, 'professionally': 2476, 'storage': 2477, 'pajamas': 2478, 'gentleman': 2479, 'relative': 2480, 'pitched': 2481, 'salty': 2482, 'dryer': 2483, 'privacy': 2484, 'classic': 2485, 'moved': 2486, 'camping': 2487, 'carousel': 2488, 'hang': 2489, 'baggage': 2490, 'brunette': 2491, 'beyond': 2492, 'known': 2493, 'bulls': 2494, 'naturally': 2495, 'kicking': 2496, 'lay': 2497, 'step': 2498, 'roadway': 2499, 'blankets': 2500, 'spell': 2501, 'crane': 2502, 'wrap': 2503, 'visiting': 2504, 'prominent': 2505, 'parent': 2506, 'sections': 2507, 'fashioned': 2508, 'warmer': 2509, 'parasols': 2510, 'mid': 2511, 'officer': 2512, 'bridges': 2513, 'thats': 2514, 'fixed': 2515, 'worms': 2516, 'statues': 2517, 'batteries': 2518, 'hauling': 2519, 'processed': 2520, 'blow': 2521, 'exhibit': 2522, 'swiss': 2523, 'biggest': 2524, 'concerned': 2525, 'property': 2526, 'marking': 2527, 'hippos': 2528, 'beginning': 2529, 'artist': 2530, 'touched': 2531, 'wheres': 2532, 'fell': 2533, 'suggest': 2534, 'escape': 2535, 'difficult': 2536, 'wifi': 2537, 'functioning': 2538, 'escalator': 2539, 'squatting': 2540, 'citrus': 2541, 'stomach': 2542, 'official': 2543, 'bandana': 2544, 'hook': 2545, 'sculpture': 2546, 'spices': 2547, 'kill': 2548, 'once': 2549, 'models': 2550, 'jeep': 2551, 'lighter': 2552, 'denote': 2553, 'monument': 2554, 'task': 2555, 'balconies': 2556, 'lush': 2557, 'information': 2558, 'kneeling': 2559, 'five': 2560, 'ate': 2561, 'altered': 2562, 'lefthanded': 2563, 'santa': 2564, 'alike': 2565, 'pierced': 2566, 'bib': 2567, 'manipulated': 2568, 'plenty': 2569, 'mattress': 2570, 'peaceful': 2571, 'pickles': 2572, 'steer': 2573, 'era': 2574, 'supplies': 2575, 'haul': 2576, 'circus': 2577, 'perpendicular': 2578, 'partaking': 2579, 'program': 2580, 'caboose': 2581, 'sails': 2582, 'said': 2583, 'freebee': 2584, 'exactly': 2585, 'bookshelves': 2586, 'my': 2587, 'steak': 2588, 'saddles': 2589, 'pc': 2590, 'filter': 2591, 'watermark': 2592, 'overlook': 2593, 'float': 2594, 'possibly': 2595, 'rather': 2596, 'copyrighted': 2597, 'meals': 2598, 'hotdogs': 2599, 'tube': 2600, 'came': 2601, 'applied': 2602, 'backdrop': 2603, 'protection': 2604, 'offered': 2605, 'spice': 2606, 'experiencing': 2607, 'wastebasket': 2608, 'hanger': 2609, 'grilled': 2610, 'dump': 2611, 'puffy': 2612, 'dragging': 2613, 'newly': 2614, 'aggressive': 2615, 'speaking': 2616, 'exhibition': 2617, 'toes': 2618, 'varieties': 2619, 'chest': 2620, 'western': 2621, 'technique': 2622, 'prohibited': 2623, 'symmetrical': 2624, 'languages': 2625, 'plains': 2626, 'flash': 2627, 'tow': 2628, 'appreciate': 2629, 'oil': 2630, 'intact': 2631, 'wines': 2632, 'machines': 2633, 'blond': 2634, 'electronics': 2635, 'skyline': 2636, 'scenery': 2637, 'sailboat': 2638, 'foil': 2639, 'updated': 2640, 'spoons': 2641, 'helping': 2642, 'clam': 2643, 'vine': 2644, 'switched': 2645, 'rims': 2646, 'seeing': 2647, 'entering': 2648, 'cauliflower': 2649, 'specific': 2650, 'wristbands': 2651, 'delivery': 2652, 'screws': 2653, 'chute': 2654, 'displaying': 2655, 'inches': 2656, 'traditionally': 2657, 'nike': 2658, 'permanent': 2659, 'required': 2660, 'photographers': 2661, 'fine': 2662, 'frying': 2663, 'contest': 2664, 'yes': 2665, 'preserve': 2666, 'freshly': 2667, 'beads': 2668, 'cushion': 2669, 'unique': 2670, 'treats': 2671, 'nature': 2672, 'threw': 2673, 'spectator': 2674, 'midnight': 2675, 'worker': 2676, 'correct': 2677, 'active': 2678, 'am': 2679, 'photoshopped': 2680, 'role': 2681, 'duplicate': 2682, 'cages': 2683, 'soldier': 2684, 'peanut': 2685, 'bridle': 2686, 'flood': 2687, 'tone': 2688, 'aprons': 2689, 'petals': 2690, 'tucked': 2691, 'century': 2692, 'pineapples': 2693, 'styled': 2694, 'arriving': 2695, 'package': 2696, 'african': 2697, 'probable': 2698, 'alarm': 2699, 'thick': 2700, 'fashion': 2701, 'smoothie': 2702, 'tastes': 2703, 'provide': 2704, 'chopped': 2705, 'savory': 2706, 'urinal': 2707, 'bbq': 2708, 'address': 2709, 'slow': 2710, 'surprised': 2711, 'desks': 2712, 'native': 2713, 'menu': 2714, 'executing': 2715, 'content': 2716, 'instead': 2717, 'blocks': 2718, 'weighing': 2719, 'late': 2720, 'straw': 2721, 'continue': 2722, 'feminine': 2723, 'collage': 2724, 'playful': 2725, 'rocky': 2726, 'litter': 2727, 'venue': 2728, 'nearly': 2729, 'noise': 2730, 'ankle': 2731, 'early': 2732, 'policeman': 2733, 'vessels': 2734, 'positioned': 2735, 'hood': 2736, 'outhouse': 2737, 'underwear': 2738, 'physical': 2739, 'dvd': 2740, 'pelicans': 2741, 'crocheted': 2742, 'herding': 2743, 'boarders': 2744, 'holders': 2745, 'blooms': 2746, 'strawberry': 2747, 'narrow': 2748, 'demonstrating': 2749, 'daylight': 2750, 'shark': 2751, 'designated': 2752, 'hay': 2753, 'timer': 2754, 'boulders': 2755, 'crime': 2756, 'cordless': 2757, 'comfortably': 2758, 'smelling': 2759, 'mph': 2760, 'highrise': 2761, 'contrast': 2762, 'uneaten': 2763, 'hangs': 2764, 'grizzly': 2765, 'plan': 2766, 'capital': 2767, 'tooth': 2768, 'overall': 2769, 'sharks': 2770, 'access': 2771, 'scooters': 2772, 'graduation': 2773, 'elements': 2774, 'scary': 2775, 'wrinkled': 2776, 'class': 2777, 'sled': 2778, 'mom': 2779, 'braids': 2780, '21': 2781, 'alcoholic': 2782, 'acne': 2783, 'delivering': 2784, 'spinach': 2785, 'visit': 2786, 'sight': 2787, 'suppose': 2788, 'windmills': 2789, 'unit': 2790, 'plantains': 2791, 'britain': 2792, 'artwork': 2793, 'london': 2794, 'accept': 2795, 'laws': 2796, 'handler': 2797, 'bristles': 2798, 'quadrant': 2799, 'let': 2800, 'pathway': 2801, 'judging': 2802, 'wide': 2803, 'stance': 2804, 'lampshade': 2805, 'correctly': 2806, 'beards': 2807, 'created': 2808, 'california': 2809, 'bracelets': 2810, 'canopies': 2811, 'oldfashioned': 2812, 'keychain': 2813, 'owned': 2814, 'shelter': 2815, 'section': 2816, 'appetizer': 2817, 'require': 2818, 'curved': 2819, 'quiet': 2820, 'landscaping': 2821, 'spare': 2822, 'puddle': 2823, 'handing': 2824, 'sideways': 2825, 'serious': 2826, 'hospital': 2827, 'sometimes': 2828, 'bulb': 2829, 'units': 2830, 'windex': 2831, 'edges': 2832, 'history': 2833, 'stained': 2834, 'domestic': 2835, 'chinatown': 2836, 'curve': 2837, 'constructed': 2838, 'stool': 2839, 'presented': 2840, 'multitasking': 2841, 'brothers': 2842, '16': 2843, 'lovers': 2844, 'housed': 2845, 'organization': 2846, 'boot': 2847, 'framed': 2848, 'disney': 2849, 'pencils': 2850, 'successful': 2851, 'pain': 2852, 'endangered': 2853, 'breakable': 2854, 'ripped': 2855, 'channel': 2856, 'metallic': 2857, 'weathered': 2858, 'lollipop': 2859, 'portions': 2860, 'vegetation': 2861, 'providing': 2862, 'posters': 2863, 'manmade': 2864, 'slightly': 2865, 'locks': 2866, 'household': 2867, 'poop': 2868, 'collars': 2869, 'pro': 2870, 'eagle': 2871, 'deliver': 2872, 'hunting': 2873, 'tongs': 2874, 'lemons': 2875, 'comp': 2876, 'shell': 2877, 'locomotion': 2878, 'loaded': 2879, 'leaf': 2880, 'coordinated': 2881, 'designs': 2882, 'drives': 2883, 'powering': 2884, 'bands': 2885, 'mustache': 2886, 'xbox': 2887, 'rows': 2888, 'fanny': 2889, 'consumed': 2890, 'jobs': 2891, 'watered': 2892, 'docked': 2893, 'childhood': 2894, 'transit': 2895, 'suspended': 2896, 'swan': 2897, 'peel': 2898, 'label': 2899, 'participate': 2900, 'strings': 2901, 'mannequin': 2902, 'chopping': 2903, 'repair': 2904, 'dropped': 2905, 'swimsuit': 2906, 'operate': 2907, 'shed': 2908, 'depicting': 2909, 'waters': 2910, 'glow': 2911, 'recessed': 2912, 'san': 2913, 'francisco': 2914, 'tortilla': 2915, 'beef': 2916, 'goofy': 2917, 'footed': 2918, 'honor': 2919, 'wizard': 2920, 'vanity': 2921, 'attack': 2922, 'airliner': 2923, 'elevation': 2924, 'chained': 2925, 'slippers': 2926, 'patriotic': 2927, 'sick': 2928, 'sinking': 2929, 'hurry': 2930, 'piano': 2931, 'burnt': 2932, 'garlic': 2933, 'smiley': 2934, 'zone': 2935, 'embroidered': 2936, 'tram': 2937, 'occurring': 2938, 'article': 2939, 'panda': 2940, 'capable': 2941, 'various': 2942, 'stages': 2943, 'preparation': 2944, 'midday': 2945, 'railway': 2946, 'decks': 2947, 'sum': 2948, 'speaker': 2949, 'delivered': 2950, 'palms': 2951, 'headline': 2952, 'hairs': 2953, 'favorite': 2954, 'consume': 2955, 'pendant': 2956, 'collection': 2957, 'outstretched': 2958, 'illustration': 2959, 'process': 2960, 'balancing': 2961, 'ramps': 2962, 'downward': 2963, 'france': 2964, 'webcam': 2965, 'boiling': 2966, 'our': 2967, 'locomotive': 2968, 'bride': 2969, 'banners': 2970, 'son': 2971, 'mlb': 2972, 'upset': 2973, 'mantle': 2974, 'ranch': 2975, 'signage': 2976, 'knitted': 2977, 'fix': 2978, 'outlets': 2979, 'studio': 2980, 'silhouette': 2981, 'grabbing': 2982, 'entrance': 2983, 'horseback': 2984, 'panels': 2985, 'knob': 2986, 'claus': 2987, 'separates': 2988, 'ref': 2989, 'tagging': 2990, 'sausage': 2991, 'luggages': 2992, 'unkempt': 2993, 'firefighter': 2994, 'stains': 2995, 'camp': 2996, 'cola': 2997, 'bindings': 2998, 'initials': 2999, 'novice': 3000, 'crystal': 3001, 'started': 3002, 'ratio': 3003, 'w': 3004, 'turf': 3005, 'formation': 3006, 'impressed': 3007, 'demonstration': 3008, 'centered': 3009, 'methods': 3010, 'sound': 3011, 'aboard': 3012, 'controllers': 3013, 'liquor': 3014, '5th': 3015, 'inning': 3016, 'polish': 3017, 'arch': 3018, 'eyelashes': 3019, 'shield': 3020, 'prefer': 3021, 'wealthy': 3022, 'contraption': 3023, 'pedestrian': 3024, 'learn': 3025, 'involved': 3026, 'apparatus': 3027, 'wash': 3028, 'showers': 3029, 'signify': 3030, 'mentioned': 3031, 'mexico': 3032, 'gorilla': 3033, 'buttoned': 3034, 'greasy': 3035, 'luck': 3036, 'record': 3037, 'pans': 3038, 'zipper': 3039, 'tint': 3040, 'donkey': 3041, 'bathrobe': 3042, 'dispenser': 3043, 'racquets': 3044, 'longboard': 3045, 'sturdy': 3046, 'dominos': 3047, 'wants': 3048, 'slats': 3049, 'earring': 3050, 'faced': 3051, 'pepsi': 3052, 'bases': 3053, 'pounce': 3054, 'eats': 3055, 'crushed': 3056, '2015': 3057, 'tap': 3058, 'chimney': 3059, 'vendors': 3060, 'remodeling': 3061, 'carrier': 3062, 'rodeo': 3063, 'greenery': 3064, 'sprinkled': 3065, 'headlight': 3066, 'arctic': 3067, 'insect': 3068, 'controlled': 3069, 'attic': 3070, 'shoulders': 3071, 'messenger': 3072, '12': 3073, 'armchair': 3074, 'stoplights': 3075, 'ware': 3076, 'cvs': 3077, 'skinny': 3078, 'prairie': 3079, 'sugary': 3080, 'oval': 3081, 'ultimate': 3082, 'glaze': 3083, 'proud': 3084, 'mine': 3085, 'queen': 3086, 'india': 3087, 'placing': 3088, 'tight': 3089, 'canal': 3090, 'pitching': 3091, 'swung': 3092, 'donkeys': 3093, 'workplace': 3094, 'figurine': 3095, 'safely': 3096, 'rectangles': 3097, 'damp': 3098, 'doubles': 3099, 'apartment': 3100, 'dull': 3101, 'chasing': 3102, 'term': 3103, 'pose': 3104, 'compliment': 3105, 'antarctica': 3106, 'theater': 3107, 'wildlife': 3108, 'scuffed': 3109, 'priest': 3110, 'killing': 3111, 'bring': 3112, 'breeds': 3113, 'ram': 3114, 'partly': 3115, 'posed': 3116, 'approximate': 3117, 'burned': 3118, 'brushes': 3119, 'speeding': 3120, 'express': 3121, 'german': 3122, 'predator': 3123, 'flame': 3124, 'soil': 3125, 'backs': 3126, 'claws': 3127, 'remove': 3128, 'playground': 3129, 'combined': 3130, 'ropes': 3131, 'serena': 3132, 'williams': 3133, 'exact': 3134, 'individual': 3135, 'cleats': 3136, 'trailing': 3137, 'foam': 3138, 'ordering': 3139, 'days': 3140, 'dawn': 3141, 'dusk': 3142, 'cathedral': 3143, 'utilized': 3144, '100': 3145, 'mercedes': 3146, 'fastest': 3147, 'jockey': 3148, 'spokes': 3149, 'movement': 3150, 'parasails': 3151, 'expert': 3152, 'prints': 3153, 'topmost': 3154, 'beams': 3155, 'pull': 3156, 'giant': 3157, 'vents': 3158, 'historical': 3159, 'texting': 3160, 'foreign': 3161, 'tabletop': 3162, 'strange': 3163, 'barren': 3164, 'cube': 3165, 'since': 3166, 'rustic': 3167, 'collect': 3168, 'kale': 3169, 'graduating': 3170, 'options': 3171, 'bowling': 3172, 'biting': 3173, 'cheap': 3174, 'manufacturer': 3175, 'sepia': 3176, 'mitts': 3177, 'grows': 3178, 'nutritional': 3179, 'bodies': 3180, 'straws': 3181, 'ipod': 3182, 'registered': 3183, 'lace': 3184, 'advertisements': 3185, 'ripples': 3186, 'month': 3187, 'hatched': 3188, 'staged': 3189, 'cement': 3190, 'motorized': 3191, 'per': 3192, 'iron': 3193, 'longest': 3194, 'outfield': 3195, 'rode': 3196, 'cards': 3197, 'lazy': 3198, 'takeoff': 3199, 'gets': 3200, 'freckles': 3201, 'bagels': 3202, 'blind': 3203, 'rugby': 3204, 'doubledecker': 3205, 'pile': 3206, 'steering': 3207, 'machinery': 3208, 'sunburn': 3209, 'rusted': 3210, 'japan': 3211, 'everywhere': 3212, 'stirfried': 3213, 'barbed': 3214, 'notes': 3215, 'wider': 3216, 'specialize': 3217, 'burgers': 3218, 'poo': 3219, 'bumper': 3220, 'drainer': 3221, 'tablecloths': 3222, 'plaids': 3223, 'wishing': 3224, 'blinders': 3225, 'asphalt': 3226, 'alien': 3227, 'paving': 3228, 'deckers': 3229, 'scale': 3230, 'cameras': 3231, 'watches': 3232, '60s': 3233, 'parasail': 3234, 'brands': 3235, 'jugs': 3236, 'ladles': 3237, 'countries': 3238, 'prop': 3239, 'dot': 3240, 'sloped': 3241, 'thermal': 3242, 'listening': 3243, 'tractor': 3244, 'ribbons': 3245, 'represents': 3246, 'shipping': 3247, 'checkered': 3248, 'math': 3249, 'dripping': 3250, 'demonstrated': 3251, 'project': 3252, 'workshop': 3253, 'carriages': 3254, 'crafts': 3255, 'plumbing': 3256, 'feline': 3257, 'stems': 3258, 'evident': 3259, 'draped': 3260, 'marketing': 3261, 'taco': 3262, 'british': 3263, 'basement': 3264, 'stray': 3265, 'elevated': 3266, 'casserole': 3267, 'writer': 3268, 'stalks': 3269, 'sock': 3270, 'interior': 3271, 'squirrel': 3272, 'soldiers': 3273, 'touches': 3274, 'showroom': 3275, 'provider': 3276, 'foraging': 3277, 'shrubs': 3278, 'loitering': 3279, 'cigarettes': 3280, 'louis': 3281, 'bidet': 3282, 'beware': 3283, 'propels': 3284, 'globs': 3285, 'french': 3286, 'maneuver': 3287, 'sneaker': 3288, 'bamboo': 3289, 'readable': 3290, 'chickens': 3291, 'raindrops': 3292, 'tossed': 3293, 'mates': 3294, 'rectangle': 3295, 'assembled': 3296, 'cyclists': 3297, 'manner': 3298, 'melting': 3299, 'pride': 3300, 'sequence': 3301, 'replaced': 3302, 'bean': 3303, 'dates': 3304, 'foul': 3305, 'nametag': 3306, 'tinted': 3307, 'marked': 3308, 'helpful': 3309, 'bills': 3310, 'unmade': 3311, 'shelving': 3312, 'scenario': 3313, 'obeying': 3314, 'bug': 3315, 'political': 3316, 'backpacks': 3317, 'animated': 3318, 'carefully': 3319, 'speakers': 3320, 'receive': 3321, 'judge': 3322, 'fuselage': 3323, 'bells': 3324, 'arab': 3325, 'arena': 3326, 'patches': 3327, 'fonts': 3328, 'obstacles': 3329, 'master': 3330, 'spilled': 3331, 'lotion': 3332, 'true': 3333, 'polls': 3334, 'motorhome': 3335, 'university': 3336, 'blazer': 3337, 'manual': 3338, 'transformed': 3339, 'weapon': 3340, 'pilot': 3341, 'handbag': 3342, 'repeats': 3343, 'billboard': 3344, 'conditioner': 3345, 'lowered': 3346, 'measurements': 3347, 'crunchy': 3348, 'officials': 3349, 'glazed': 3350, 'infant': 3351, 'tagged': 3352, 'flies': 3353, 'rhymes': 3354, 'grand': 3355, 'stunt': 3356, 'pruned': 3357, 'clog': 3358, 'icebox': 3359, 'archways': 3360, 'platters': 3361, 'japanese': 3362, 'collide': 3363, 'parrots': 3364, 'limes': 3365, 'lampposts': 3366, 'dials': 3367, 'panel': 3368, 'cutter': 3369, 'ceilings': 3370, 'romantic': 3371, 'sparsely': 3372, 'cycles': 3373, 'chandelier': 3374, 'bookcases': 3375, 'asia': 3376, '40': 3377, 'molding': 3378, 'freezers': 3379, 'newspaper': 3380, 'ticket': 3381, 'pouring': 3382, 'treated': 3383, 'gossiping': 3384, 'heater': 3385, 'filmed': 3386, 'knock': 3387, 'appeared': 3388, 'mural': 3389, 'fragile': 3390, 'vent': 3391, 'tasting': 3392, 'attended': 3393, 'muscular': 3394, 'protruding': 3395, 'waiter': 3396, 'watering': 3397, 'netting': 3398, 'lefty': 3399, 'bandanas': 3400, 'turnout': 3401, 'wanted': 3402, 'portraying': 3403, 'possessed': 3404, 'fairly': 3405, 'quebec': 3406, 'reptiles': 3407, 'camel': 3408, 'soiled': 3409, 'viewed': 3410, 'deciduous': 3411, 'satellite': 3412, 'began': 3413, 'change': 3414, 'pee': 3415, 'projector': 3416, 'social': 3417, 'puppies': 3418, 'poll': 3419, 'surfaces': 3420, 'pollution': 3421, 'emitted': 3422, 'feelings': 3423, 'facets': 3424, 'provided': 3425, 'rush': 3426, 'coke': 3427, 'chipped': 3428, 'spanish': 3429, 'sanctuary': 3430, 'add': 3431, 'spacious': 3432, 'reflect': 3433, 'tasteful': 3434, 'canned': 3435, 'gourmet': 3436, 'drowning': 3437, 'bits': 3438, 'boxcars': 3439, 'tote': 3440, 'remind': 3441, 'mood': 3442, 'oriental': 3443, 'forehand': 3444, 'tines': 3445, 'captured': 3446, 'apart': 3447, 'zipped': 3448, 'recognize': 3449, 'beans': 3450, 'denim': 3451, 'renovated': 3452, 'shooting': 3453, 'grain': 3454, 'alternate': 3455, 'changed': 3456, 'husband': 3457, 'walked': 3458, 'saw': 3459, 'echo': 3460, 'juiced': 3461, 'granite': 3462, 'wristwatch': 3463, 'splattered': 3464, 'altering': 3465, 'paid': 3466, 'reason': 3467, 'wise': 3468, 'plugins': 3469, 'switches': 3470, 'grandfather': 3471, 'magnet': 3472, 'rowboats': 3473, 'painful': 3474, 'writings': 3475, 'shouldnt': 3476, 'motorcyclist': 3477, 'gliding': 3478, 'conveyor': 3479, 'hut': 3480, 'pirate': 3481, 'attend': 3482, 'springs': 3483, 'heineken': 3484, 'coasters': 3485, 'joined': 3486, 'silly': 3487, 'mind': 3488, 'camouflage': 3489, 'oars': 3490, 'backseat': 3491, 'pigeons': 3492, 'pig': 3493, 'calico': 3494, 'moped': 3495, 'tacos': 3496, 'actor': 3497, 'candlesticks': 3498, 'scaffolding': 3499, 'soy': 3500, 'elevator': 3501, 'emailing': 3502, 'unlikely': 3503, 'mashed': 3504, 'flushed': 3505, 'grout': 3506, 'anxious': 3507, 'tabby': 3508, 'lifestyle': 3509, 'coolers': 3510, 'mules': 3511, 'submerged': 3512, 'commuting': 3513, 'notice': 3514, 'maine': 3515, 'seeking': 3516, 'damage': 3517, 'luxury': 3518, 'toss': 3519, 'rent': 3520, 'shorthair': 3521, 'blank': 3522, 'sightseeing': 3523, 'lego': 3524, 'ample': 3525, 'tropics': 3526, 'shortest': 3527, 'tanks': 3528, 'airy': 3529, 'portraits': 3530, 'pushed': 3531, 'uncovered': 3532, 'digging': 3533, 'stable': 3534, 'atp': 3535, 'poached': 3536, 'shaded': 3537, 'clover': 3538, 'portrait': 3539, 'stripper': 3540, 'weeds': 3541, 'diabetic': 3542, 'snowman': 3543, '200': 3544, 'pounds': 3545, 'artistic': 3546, 'titles': 3547, 'magazines': 3548, 'performance': 3549, 'fattening': 3550, 'blur': 3551, 'northern': 3552, 'hemisphere': 3553, 'ideal': 3554, 'percentage': 3555, 'mountainside': 3556, 'perfectly': 3557, 'extinguisher': 3558, 'portable': 3559, 'grate': 3560, 'pineapple': 3561, 'cracked': 3562, 'imported': 3563, 'combination': 3564, 'cloudless': 3565, 'spooky': 3566, 'parks': 3567, 'm': 3568, 'flea': 3569, 'ironed': 3570, 'hibernate': 3571, 'semi': 3572, 'pumpkin': 3573, 'bbw': 3574, 'purchased': 3575, 'alaska': 3576, 'stretch': 3577, 'forehead': 3578, 'signaling': 3579, 'song': 3580, 'shoot': 3581, 'village': 3582, 'cigarette': 3583, 'spin': 3584, 'accumulated': 3585, 'downtown': 3586, 'tarp': 3587, 'illustrated': 3588, 'wilted': 3589, 'map': 3590, 'workspace': 3591, 'chimneys': 3592, 'el': 3593, 'bunk': 3594, 'region': 3595, 'growth': 3596, 'professionals': 3597, 'muffin': 3598, 'remaining': 3599, 'makeup': 3600, 'heating': 3601, 'raise': 3602, 'crew': 3603, 'repeated': 3604, 'grooming': 3605, 'barbecue': 3606, 'sauces': 3607, 'cycling': 3608, 'systems': 3609, 'definitely': 3610, 'particular': 3611, 'porcelain': 3612, 'smoky': 3613, 'wildflower': 3614, 'invisible': 3615, 'hooded': 3616, 'boston': 3617, 'quiche': 3618, 'stops': 3619, 'overgrown': 3620, 'coconuts': 3621, 'burglar': 3622, 'evidence': 3623, 'boring': 3624, 'care': 3625, 'none': 3626, 'cleanshaven': 3627, 'bearded': 3628, 'meats': 3629, 'greens': 3630, 'grid': 3631, 'coca': 3632, 'latched': 3633, 'indicates': 3634, 'mouthwash': 3635, 'bubbles': 3636, 'presents': 3637, 'oak': 3638, 'modified': 3639, 'coed': 3640, 'heel': 3641, 'plus': 3642, 'hoses': 3643, 'oldest': 3644, 'cucumbers': 3645, 'canoes': 3646, 'noticeable': 3647, 'perceive': 3648, 'golf': 3649, '6am': 3650, 'european': 3651, 'surround': 3652, 'crouching': 3653, 'repairs': 3654, 'zippers': 3655, 'herds': 3656, 'motors': 3657, 'intimidating': 3658, 'bay': 3659, 'clips': 3660, 'cheesy': 3661, 'lounge': 3662, 'skilled': 3663, 'cosmetic': 3664, 'drooling': 3665, 'saddled': 3666, 'ordinary': 3667, 'blurred': 3668, 'hazardous': 3669, 'foto': 3670, 'hoods': 3671, 'producing': 3672, 'tulips': 3673, 'walks': 3674, 'such': 3675, 'courtyard': 3676, 'complementary': 3677, 'purchase': 3678, 'sprayed': 3679, 'pound': 3680, 'gates': 3681, 'utilize': 3682, 'harming': 3683, 'ie': 3684, 'windshields': 3685, 's': 3686, 'competitive': 3687, 'tethered': 3688, 'crawling': 3689, 'diners': 3690, 'consisting': 3691, 'fields': 3692, 'peas': 3693, 'indian': 3694, 'status': 3695, 'monogrammed': 3696, 'mail': 3697, 'tvs': 3698, 'cupboards': 3699, 'customer': 3700, 'final': 3701, 'siding': 3702, 'tubes': 3703, 'craft': 3704, 'keyhole': 3705, 'potentially': 3706, 'handrail': 3707, 'photoshop': 3708, 'example': 3709, 'playstation': 3710, 'cologne': 3711, 'entree': 3712, 'snacks': 3713, 'skied': 3714, 'internet': 3715, 'quilt': 3716, 'barbecuing': 3717, 'calculator': 3718, 'crown': 3719, 'central': 3720, 'guest': 3721, 'llama': 3722, 'inviting': 3723, 'melted': 3724, 'magilla': 3725, 'happiness': 3726, 'needed': 3727, 'sing': 3728, 'chirp': 3729, 'wool': 3730, 'matted': 3731, 'breakroom': 3732, 'calming': 3733, 'watermelons': 3734, 'aerial': 3735, 'stack': 3736, 'globes': 3737, 'doubledeckers': 3738, 'sweets': 3739, 'spiderman': 3740, 'handicapped': 3741, 'dotted': 3742, 'glare': 3743, 'lions': 3744, 'simple': 3745, 'tying': 3746, 'john': 3747, 'stretching': 3748, 'concert': 3749, 'captive': 3750, 'carafe': 3751, 'hairy': 3752, 'wagging': 3753, 'deserted': 3754, 'plated': 3755, 'talk': 3756, 'gang': 3757, 'temp': 3758, 'grade': 3759, 'separating': 3760, 'charging': 3761, 'sesame': 3762, 'slowly': 3763, 'edibles': 3764, 'pennant': 3765, 'detail': 3766, 'meet': 3767, 'hdtv': 3768, 'seafood': 3769, 'protest': 3770, 'flakes': 3771, 'totally': 3772, 'conditioning': 3773, 'pedestal': 3774, 'slender': 3775, 'sells': 3776, 'flavors': 3777, 'receipt': 3778, 'antenna': 3779, 'cruise': 3780, 'floppy': 3781, 'lefthand': 3782, 'fon': 3783, 'webbed': 3784, 'acting': 3785, 'bumpers': 3786, 'bw': 3787, 'brakes': 3788, 'decorate': 3789, 'indigenous': 3790, 'climb': 3791, 'iced': 3792, 'thermostat': 3793, 'but': 3794, 'typed': 3795, 'attractive': 3796, 'aggression': 3797, 'safari': 3798, 'barrier': 3799, 'fold': 3800, 'flops': 3801, 'stall': 3802, 'aerodynamic': 3803, 'syrup': 3804, 'leaping': 3805, 'remotely': 3806, 'stressed': 3807, 'genders': 3808, 'quoted': 3809, 'skinned': 3810, 'ascending': 3811, 'descending': 3812, 'carnival': 3813, 'lone': 3814, 'carpeting': 3815, 'pleasure': 3816, 'curious': 3817, 'milked': 3818, 'foremost': 3819, 'landlocked': 3820, 'corners': 3821, 'caravan': 3822, 'tin': 3823, 'tilted': 3824, 'staying': 3825, 'visited': 3826, 'dominate': 3827, 'spaces': 3828, 'referee': 3829, 'livestock': 3830, 'droplets': 3831, 'six': 3832, 'canister': 3833, 'relation': 3834, 'pillars': 3835, 'told': 3836, 'cheesecake': 3837, '15': 3838, 'tells': 3839, 'dew': 3840, 'cops': 3841, 'lactose': 3842, 'intolerance': 3843, 'murder': 3844, 'cowboys': 3845, 'surprising': 3846, 'maid': 3847, 'pale': 3848, 'author': 3849, 'sue': 3850, 'monk': 3851, 'kidd': 3852, 'purposes': 3853, 'snowsuit': 3854, 'apartments': 3855, 'italy': 3856, 'cupcake': 3857, 'deployed': 3858, 'shoveling': 3859, 'gambler': 3860, 'suspect': 3861, 'harley': 3862, 'spectrum': 3863, 'envelope': 3864, 'cacti': 3865, 'wilt': 3866, 'stovetop': 3867, 'fueled': 3868, 'sunshine': 3869, 'wipers': 3870, 'permit': 3871, 'ledge': 3872, 'operational': 3873, 'hundred': 3874, 'bacon': 3875, '1pm': 3876, 'auto': 3877, 'cuddling': 3878, 'lamppost': 3879, 'bangs': 3880, 'autos': 3881, 'switch': 3882, 'monks': 3883, 'mountainous': 3884, 'singles': 3885, 'wilting': 3886, 'moves': 3887, 'mainland': 3888, 'lowest': 3889, 'partner': 3890, 'necklaces': 3891, 'less': 3892, 'offering': 3893, 'won': 3894, 'boomer': 3895, 'spill': 3896, 'bedside': 3897, 'overcooked': 3898, 'triangular': 3899, 'situation': 3900, 'dye': 3901, 'staircase': 3902, 'dough': 3903, 'wig': 3904, 'pristine': 3905, 'heels': 3906, 'butcher': 3907, 'easel': 3908, 'cd': 3909, 'sleepwear': 3910, 'precipitation': 3911, 'containing': 3912, 'straps': 3913, 'opponents': 3914, 'mark': 3915, 'deer': 3916, 'blueorange': 3917, 'focusing': 3918, 'spa': 3919, 'lips': 3920, 'freshwater': 3921, 'lids': 3922, 'microphones': 3923, 'miss': 3924, 'tickets': 3925, 'wrote': 3926, 'diced': 3927, 'pedal': 3928, 'washed': 3929, 'fleebee': 3930, 'fins': 3931, 'penguins': 3932, 'dashboard': 3933, 'non': 3934, 'goalie': 3935, 'inner': 3936, 'mold': 3937, 'femalemale': 3938, 'seasoned': 3939, 'stormy': 3940, 'england': 3941, 'streetlights': 3942, 'yawning': 3943, 'everyday': 3944, 'sweating': 3945, '48': 3946, 'bake': 3947, 'determine': 3948, 'caution': 3949, 'leggings': 3950, 'tanned': 3951, 'hesitating': 3952, 'scenic': 3953, 'gazebo': 3954, 'tiger': 3955, 'earthquake': 3956, 'decades': 3957, 'yourself': 3958, 'die': 3959, 'crate': 3960, 'doorknob': 3961, 'transported': 3962, 'precautions': 3963, 'sorting': 3964, 'weathervane': 3965, 'decal': 3966, 'defense': 3967, 'pint': 3968, 'stepping': 3969, 'shingles': 3970, 'parted': 3971, 'poking': 3972, 'spelled': 3973, 'trimming': 3974, 'searching': 3975, 'differ': 3976, 'shopper': 3977, 'buoy': 3978, 'shipyard': 3979, 'violating': 3980, 'shaking': 3981, 'flow': 3982, 'parachutes': 3983, 'opposite': 3984, 'virtually': 3985, 'nokia': 3986, 'basketball': 3987, 'lived': 3988, 'benz': 3989, 'melt': 3990, 'spinning': 3991, 'diving': 3992, 'tolerating': 3993, 'farmland': 3994, 'bookshelf': 3995, 'protesting': 3996, 'hydrants': 3997, 'photographs': 3998, 'confused': 3999, 'insides': 4000, 'jumper': 4001, 'national': 4002, 'usable': 4003, 'intended': 4004, 'underbelly': 4005, 'wandering': 4006, 'fond': 4007, 'camels': 4008, 'sense': 4009, 'film': 4010, 'cramped': 4011, 'olympic': 4012, 'horn': 4013, 'yolks': 4014, 'scrambled': 4015, 'viewing': 4016, 'standards': 4017, 'volcano': 4018, 'visibility': 4019, 'oneway': 4020, 'historic': 4021, 'warn': 4022, 'driven': 4023, 'freeway': 4024, 'mousepad': 4025, 'drop': 4026, 'contents': 4027, 'polo': 4028, 'skirts': 4029, 'asked': 4030, 'flamingos': 4031, 'compared': 4032, 'football': 4033, 'effective': 4034, 'ivy': 4035, 'sleeveless': 4036, 'security': 4037, 'midair': 4038, 'ambient': 4039, 'rally': 4040, 'page': 4041, 'attracted': 4042, 'harness': 4043, 'east': 4044, 'sexually': 4045, 'mascot': 4046, 'coins': 4047, 'slot': 4048, 'gloomy': 4049, 'parasol': 4050, 'gum': 4051, 'rise': 4052, 'dome': 4053, 'formally': 4054, 'fifteen': 4055, 'expired': 4056, 'needle': 4057, 'wax': 4058, 'fill': 4059, 'identify': 4060, 'visibly': 4061, 'poisonous': 4062, 'institution': 4063, 'nerd': 4064, 'sister': 4065, 'naked': 4066, 'slip': 4067, 'whitecaps': 4068, 'lip': 4069, 'dozen': 4070, 'files': 4071, 'comps': 4072, 'settings': 4073, 'suits': 4074, 'illustrate': 4075, 'motorboat': 4076, 'costs': 4077, 'toned': 4078, 'fluorescent': 4079, 'act': 4080, 'apparent': 4081, 'hoagie': 4082, 'sunbathers': 4083, 'turbulent': 4084, 'bikinis': 4085, 'industrial': 4086, 'shoving': 4087, 'diverse': 4088, 'statement': 4089, 'sunbathing': 4090, 'versus': 4091, 'touchdown': 4092, 'arrested': 4093, '445': 4094, '446': 4095, 'iphone': 4096, 'mice': 4097, 'manes': 4098, 'carbohydrates': 4099, 'canopy': 4100, 'genitalia': 4101, 'banan': 4102, 'vandalism': 4103, 'tech': 4104, 'loaf': 4105, 'tame': 4106, 'sniffing': 4107, 'guitar': 4108, 'raft': 4109, 'wintertime': 4110, 'bored': 4111, 'stranded': 4112, 'twin': 4113, 'daddy': 4114, 'herbivore': 4115, 'altar': 4116, 'events': 4117, 'curling': 4118, 'cartoonish': 4119, 'motorcyclists': 4120, 'parachute': 4121, 'instructions': 4122, 'opaque': 4123, 'nursery': 4124, 'octagon': 4125, 'archway': 4126, 'upwards': 4127, 'mound': 4128, 'streak': 4129, 'weird': 4130, 'lcd': 4131, 'virgin': 4132, 'county': 4133, 'watched': 4134, 'viewer': 4135, 'coachs': 4136, 'price': 4137, 'ids': 4138, 'pleased': 4139, 'chances': 4140, 'esthetically': 4141, 'pleasing': 4142, 'hitter': 4143, 'floral': 4144, 'aluminum': 4145, 'tolerate': 4146, 'trashcan': 4147, 'infield': 4148, 'behavior': 4149, 'handlebars': 4150, 'blueberries': 4151, 'difficulty': 4152, 'americans': 4153, 'celebrate': 4154, 'sweat': 4155, 'evergreen': 4156, 'originally': 4157, 'rate': 4158, 'received': 4159, 'blended': 4160, 'psychedelic': 4161, 'skyscrapers': 4162, 'hauled': 4163, 'nations': 4164, 'avocado': 4165, 'tinting': 4166, 'maintenance': 4167, 'pastime': 4168, 'positions': 4169, 'orientation': 4170, 'id': 4171, 'energy': 4172, 'permission': 4173, 'bitten': 4174, 'russian': 4175, 'trips': 4176, 'dividing': 4177, 'mature': 4178, 'piles': 4179, 'foal': 4180, 'prongs': 4181, 'hear': 4182, 'refurbished': 4183, 'smiles': 4184, 'tricks': 4185, 'bouquet': 4186, 'hide': 4187, 'tufts': 4188, 'polar': 4189, 'carb': 4190, 'flames': 4191, 'telling': 4192, 'upward': 4193, 'wraps': 4194, 'bra': 4195, 'nonhorse': 4196, 'ritual': 4197, 'awnings': 4198, 'washerdryer': 4199, 'unpack': 4200, 'whom': 4201, 'soaring': 4202, 'winnie': 4203, 'pooh': 4204, 'lipstick': 4205, 'nonwhite': 4206, 'bowel': 4207, 'rich': 4208, 'shady': 4209, 'connect': 4210, 'ornate': 4211, 'backgrounds': 4212, 'confident': 4213, 'worried': 4214, 'engineer': 4215, 'recycled': 4216, 'patrol': 4217, 'orion': 4218, 'slave': 4219, 'yummy': 4220, 'mexican': 4221, 'lasagna': 4222, 'added': 4223, 'mario': 4224, 'fair': 4225, 'doctor': 4226, 'salt': 4227, 'overflowing': 4228, 'pickle': 4229, 'mannequins': 4230, 'decorative': 4231, 'direct': 4232, 'englishspeaking': 4233, 'naughty': 4234, 'texas': 4235, 'avalanche': 4236, 'reserved': 4237, 'guitars': 4238, 'stage': 4239, 'thermos': 4240, 'sanitary': 4241, 'sedan': 4242, 'bark': 4243, 'reflections': 4244, 'bottoms': 4245, 'obey': 4246, 'chalk': 4247, 'alley': 4248, 'never': 4249, 'peace': 4250, 'materials': 4251, 'clown': 4252, 'creepy': 4253, 'maple': 4254, 'retired': 4255, 'sour': 4256, 'racers': 4257, 'racer': 4258, 'waking': 4259, 'dapplegray': 4260, 'kindle': 4261, 'fleet': 4262, 'cave': 4263, 'croissant': 4264, 'standstill': 4265, 'indicating': 4266, 'manufacturing': 4267, 'processes': 4268, 'runnings': 4269, 'disproportioned': 4270, 'tasked': 4271, 'appetizers': 4272, 'surveillance': 4273, 'cuts': 4274, 'woodburning': 4275, 'extreme': 4276, 'exhilaration': 4277, 'squinting': 4278, 'spotlight': 4279, 'reasons': 4280, 'masculine': 4281, 'gallon': 4282, 'better': 4283, 'chance': 4284, 'suffering': 4285, 'grievous': 4286, 'moods': 4287, 'disks': 4288, 'dicks': 4289, 'invaded': 4290, 'wwii': 4291, 'misery': 4292, 'eyeglass': 4293, 'joggers': 4294, 'pins': 4295, 'aggravated': 4296, 'bee': 4297, 'arrest': 4298, 'news': 4299, 'leagues': 4300, 'distressed': 4301, 'paragliding': 4302, 'zoos': 4303, 'mailed': 4304, 'spilling': 4305, 'improvement': 4306, 'squattype': 4307, 'irresponsible': 4308, 'eyebrows': 4309, 'crafted': 4310, '500': 4311, 'drainage': 4312, 'smart': 4313, 'takeover': 4314, 'arts': 4315, 'trust': 4316, 'manufactures': 4317, 'granny': 4318, 'smith': 4319, 'r': 4320, 'wading': 4321, 'carnations': 4322, 'elaborate': 4323, 'reflectors': 4324, 'symmetrically': 4325, 'sure': 4326, 'snorkeling': 4327, 'rulers': 4328, 'anymore': 4329, 'veterinarians': 4330, 'alternating': 4331, 'rollerblading': 4332, 'squash': 4333, 'shorthaired': 4334, 'cloudyrainy': 4335, 'tee': 4336, 'glaring': 4337, 'neckties': 4338, 'ethnic': 4339, 'narrowest': 4340, 'bundle': 4341, 'sensitive': 4342, 'electromagnetic': 4343, 'radiation': 4344, 'sunburnt': 4345, 'behaving': 4346, 'iceberg': 4347, 'teacup': 4348, 'nap': 4349, 'colonial': 4350, 'complex': 4351, 'shout': 4352, 'placemat': 4353, 'consumption': 4354, 'pomegranate': 4355, 'obstacle': 4356, 'guns': 4357, 'tofu': 4358, 'manufacture': 4359, 'casually': 4360, 'brooklyn': 4361, 'overlooking': 4362, 'trademarked': 4363, 'exploring': 4364, 'climbed': 4365, 'halloween': 4366, 'senior': 4367, 'citizen': 4368, 'loudspeaker': 4369, 'scored': 4370, 'byproduct': 4371, 'sacrifice': 4372, 'god': 4373, 'missiles': 4374, 'kayak': 4375, 'file': 4376, 'fences': 4377, 'samuel': 4378, 'campfire': 4379, 'ottoman': 4380, 'hotels': 4381, 'chairman': 4382, 'daffodils': 4383, 'brass': 4384, 'brussel': 4385, 'sprouts': 4386, 'hamburger': 4387, 'beck': 4388, 'predominance': 4389, 'sideup': 4390, 'milkshakes': 4391, 'club': 4392, 'personality': 4393, 'tortoiseshell': 4394, 'slipper': 4395, 'gadget': 4396, 'omegle': 4397, 'finding': 4398, 'amelie': 4399, 'focal': 4400, 'horny': 4401, 'imitating': 4402, 'handkerchief': 4403, 'bordeaux': 4404, 'dyed': 4405, 'sunspots': 4406, 'syringe': 4407, 'hamper': 4408, 'deal': 4409, 'broiling': 4410, 'uncanny': 4411, 'volkswagen': 4412, 'grayhaired': 4413, 'coverage': 4414, 'staple': 4415, 'remover': 4416, 'herded': 4417, '14': 4418, 'egypt': 4419, 'parchment': 4420, 'sponsorships': 4421, 'afton': 4422, 'alliance': 4423, 'swirldusty': 4424, 'paperback': 4425, 'snowboards': 4426, 'boundaries': 4427, 'share': 4428, 'families': 4429, 'singleperson': 4430, 'wheeled': 4431, 'drove': 4432, 'illegally': 4433, 'extinguishers': 4434, 'tufted': 4435, '9': 4436, 'paneling': 4437, 'education': 4438, 'mainframe': 4439, 'thermometer': 4440, 'displays': 4441, 'edited': 4442, 'sushi': 4443, 'considering': 4444, 'awe': 4445, 'infants': 4446, 'outerwear': 4447, 'freebie': 4448, 'familial': 4449, 'dressingsauce': 4450, 'agency': 4451, 'seek': 4452, 'significance': 4453, 'lessons': 4454, 'slogan': 4455, 'apricots': 4456, 'angles': 4457, 'nonenglish': 4458, 'marker': 4459, 'tuxedo': 4460, 'k': 4461, 'minors': 4462, 'vandalized': 4463, 'directing': 4464, 'ditch': 4465, 'injuring': 4466, 'garnishing': 4467, 'wedges': 4468, 'horseshoes': 4469, 'exchanging': 4470, 'butterfly': 4471, 'freed': 4472, 'martini': 4473, 'christian': 4474, 'solids': 4475, 'candelabra': 4476, 'heifer': 4477, 'divided': 4478, 'unusually': 4479, 'wouldnt': 4480, 'welcoming': 4481, 'roost': 4482, 'recliners': 4483, 'helps': 4484, 'entry': 4485, 'canadian': 4486, 'fillings': 4487, 'sectioned': 4488, 'scissored': 4489, 'steeple': 4490, 'beaver': 4491, 'hallway': 4492, 'outer': 4493, 'alex': 4494, 'poodle': 4495, 'bachelors': 4496, 'florist': 4497, 'restaurants': 4498, 'hairband': 4499, 'intellect': 4500, 'geared': 4501, 'sugared': 4502, 'pudding': 4503, 'meets': 4504, 'succession': 4505, 'ounces': 4506, 'contestant': 4507, 'potholders': 4508, 'feral': 4509, 'works': 4510, 'farmacia': 4511, 'saturn': 4512, 'cluster': 4513, 'politician': 4514, 'column': 4515, 'akita': 4516, 'cash': 4517, 'paycheck': 4518, 'bonnet': 4519, 'dreary': 4520, 'fingerprints': 4521, 'polite': 4522, 'synonym': 4523, 'thought': 4524, 'gem': 4525, 'layer': 4526, 'starch': 4527, 'spectating': 4528, 'strippers': 4529, 'identically': 4530, 'retrieving': 4531, 'support': 4532, 'industry': 4533, 'uniformed': 4534, 'earphones': 4535, 'feces': 4536, 'appointed': 4537, 'stoves': 4538, 'bricked': 4539, 'restored': 4540, 'nowhere': 4541, 'serrated': 4542, 'weighed': 4543, 'readying': 4544, 'retail': 4545, 'gazelle': 4546, 'exposure': 4547, 'bulge': 4548, 'elvis': 4549, 'wagons': 4550, 'freaks': 4551, 'listen': 4552, 'records': 4553, 'scrap': 4554, 'betsy': 4555, 'crematorium': 4556, 'valentines': 4557, 'crumbs': 4558, 'swirl': 4559, 'carried': 4560, 'coniferous': 4561, 'birthdays': 4562, 'nozzle': 4563, 'shy': 4564, 'needing': 4565, 'spite': 4566, 'defacement': 4567, 'intricate': 4568, 'craftsmanship': 4569, 'grayblack': 4570, 'drain': 4571, 'participants': 4572, 'laid': 4573, 'effect': 4574, 'quarter': 4575, 'involve': 4576, 'tanning': 4577, 'embody': 4578, 'refrigerators': 4579, 'maternal': 4580, 'dimensions': 4581, 'metric': 4582, 'rust': 4583, '35mm': 4584, 'wideangle': 4585, 'oxen': 4586, 'didnt': 4587, 'pharmacy': 4588, 'motel': 4589, 'butt': 4590, 'wreath': 4591, 'extinct': 4592, 'planteating': 4593, 'reptile': 4594, 'australian': 4595, 'retainer': 4596, 'uncooked': 4597, 'cremefilled': 4598, 'aerobics': 4599, 'interstate': 4600, 'flipping': 4601, 'overlapping': 4602, 'beanbag': 4603, 'brushed': 4604, 'kansas': 4605, 'kits': 4606, 'cruller': 4607, 'flyers': 4608, 'shrugging': 4609, 'further': 4610, 'rightmost': 4611, 'duffle': 4612, 'princesses': 4613, 'turnstile': 4614, 'cartridges': 4615, 'brisbane': 4616, 'businessmen': 4617, 'zoning': 4618, 'arrived': 4619, 'skateboarded': 4620, 'scaffold': 4621, 'wiped': 4622, 'vivid': 4623, 'encased': 4624, 'velvet': 4625, 'showcased': 4626, 'fetch': 4627, 'tanker': 4628, 'dust': 4629, 'submarine': 4630, 'sofas': 4631, 'browntan': 4632, 'halved': 4633, 'death': 4634, 'michael': 4635, 'jackson': 4636, 'reflects': 4637, 'avoid': 4638, 'fitness': 4639, 'tracker': 4640, 'accomplish': 4641, 'thailand': 4642, 'financial': 4643, 'abundant': 4644, 'volume': 4645, 'lifeguards': 4646, 'perch': 4647, 'study': 4648, 'breezy': 4649, 'shaving': 4650, 'stuffing': 4651, 'taped': 4652, 'microwaves': 4653, 'ventilated': 4654, 'windbreaker': 4655, 'subculture': 4656, 'whiskey': 4657, 'reheat': 4658, 'wrists': 4659, 'accordingly': 4660, 'translate': 4661, 'octagonal': 4662, 'bullet': 4663, 'universitys': 4664, 'definition': 4665, 'reverting': 4666, 'doubleexposure': 4667, 'streetthat': 4668, 'additional': 4669, 'freshlypicked': 4670, 'period': 4671, 'question': 4672, 'strollers': 4673, 'willis': 4674, 'treasure': 4675, 'marriage': 4676, 'grounds': 4677, 'afloat': 4678, 'porsche': 4679, 'vending': 4680, 'hooked': 4681, 'interviewing': 4682, 'inappropriately': 4683, 'taut': 4684, 'skatepark': 4685, 'distorted': 4686, 'effectively': 4687, 'wieters': 4688, 'topless': 4689, 'mesh': 4690, 'jock': 4691, 'crashing': 4692, 'sculptures': 4693, 'trellis': 4694, 'armband': 4695, 'grape': 4696, 'boogie': 4697, 'nerds': 4698, 'enthusiastic': 4699, 'disabled': 4700, 'heeler': 4701, 'claiming': 4702, 'dominance': 4703, 'forms': 4704, 'payment': 4705, 'prescription': 4706, 'smug': 4707, 'conversation': 4708, 'plaything': 4709, 'brightness': 4710, 'sectionsportions': 4711, 'curving': 4712, 'feast': 4713, 'innocent': 4714, 'forget': 4715, 'malnourished': 4716, 'packs': 4717, 'purposefully': 4718, 'comedic': 4719, 'highly': 4720, 'parents': 4721, 'freshener': 4722, 'cleanliness': 4723, 'scrubbed': 4724, 'siamese': 4725, 'pvc': 4726, 'masonic': 4727, 'illuminate': 4728, 'capture': 4729, 'grounded': 4730, 'beret': 4731, 'brightest': 4732, 'gym': 4733, 'clip': 4734, 'obedient': 4735, 'memory': 4736, 'proponent': 4737, 'gives': 4738, 'roadside': 4739, 'dashes': 4740, 'oz': 4741, 'roomies': 4742, 'crumbled': 4743, 'issued': 4744, 'hoops': 4745, 'passage': 4746, 'sheepskin': 4747, 'walmart': 4748, 'mile': 4749, 'wheelers': 4750, 'requires': 4751, 'guess': 4752, 'attraction': 4753, 'arranging': 4754, 'mop': 4755, '1500': 4756, 'petunia': 4757, 'oclock': 4758, 'appearance': 4759, 'ufo': 4760, 'silence': 4761, 'surroundings': 4762, 'jumped': 4763, 'possession': 4764, 'latest': 4765, 'wasted': 4766, 'message': 4767, 'humane': 4768, 'society': 4769, 'ping': 4770, 'pong': 4771, 'sunblock': 4772, 'pretend': 4773, 'slower': 4774, 'enduring': 4775, 'pacifier': 4776, 'gooey': 4777, 'among': 4778, 'producers': 4779, 'indentations': 4780, 'lime': 4781, 'lobes': 4782, 'knitwear': 4783, 'sienna': 4784, 'toboggan': 4785, 'chalet': 4786, 'gears': 4787, 'teeball': 4788, 'policemen': 4789, 'hooks': 4790, 'sewing': 4791, 'income': 4792, 'nicknamed': 4793, 'colgate': 4794, 'flank': 4795, 'copied': 4796, 'loop': 4797, 'somewhat': 4798, 'licensed': 4799, 'pawn': 4800, 'rotten': 4801, 'residence': 4802, 'winding': 4803, 'headgear': 4804, 'mantel': 4805, 'lampshades': 4806, 'chilling': 4807, 'simply': 4808, 'ac': 4809, 'builtin': 4810, 'bowtie': 4811, 'lumpia': 4812, 'stress': 4813, 'monkeys': 4814, 'kelp': 4815, 'coppercolored': 4816, 'apply': 4817, 'strictly': 4818, 'superimposed': 4819, 'popcorn': 4820, 'fetlocks': 4821, 'textured': 4822, 'spend': 4823, 'achieve': 4824, 'sentience': 4825, 'negatives': 4826, 'developed': 4827, 'sunning': 4828, 'footy': 4829, 'flagpoles': 4830, 'charm': 4831, 'zoomed': 4832, 'semitrucks': 4833, 'identified': 4834, 'headphones': 4835, 'awaiting': 4836, 'escalators': 4837, 'patch': 4838, 'category': 4839, 'goingover': 4840, 'inn': 4841, 'poker': 4842, 'lever': 4843, 'confined': 4844, 'bones': 4845, 'brigade': 4846, 'infinity': 4847, 'yesterday': 4848, 'concentrated': 4849, 'portrayed': 4850, 'cameraman': 4851, 'leopard': 4852, 'talks': 4853, 'vicinity': 4854, 'accounted': 4855, 'concave': 4856, 'naval': 4857, 'spain': 4858, 'observe': 4859, 'dia': 4860, 'de': 4861, 'los': 4862, 'muertos': 4863, 'crest': 4864, 'universally': 4865, 'understood': 4866, 'usage': 4867, 'airflow': 4868, 'cupboard': 4869, 'whiteout': 4870, 'flare': 4871, 'ordinal': 4872, 'paris': 4873, 'crusts': 4874, 'e': 4875, 'orchid': 4876, 'sheltered': 4877, 'hitters': 4878, 'gazelles': 4879, 'puppys': 4880, 'bible': 4881, 'frost': 4882, 'cheapest': 4883, 'fraggles': 4884, 'stirred': 4885, 'amphibious': 4886, 'pronamel': 4887, 'solo': 4888, 'homeowner': 4889, '2nd': 4890, 'aimed': 4891, 'forested': 4892, 'slalom': 4893, 'gages': 4894, 'adjusted': 4895, 'civicminded': 4896, 'completing': 4897, 'suggested': 4898, 'ignoring': 4899, 'tenants': 4900, 'rule': 4901, '34': 4902, 'pornographic': 4903, 'boil': 4904, 'stark': 4905, 'palette': 4906, 'soups': 4907, 'smoker': 4908, 'goose': 4909, 'bales': 4910, 'raceevent': 4911, 'rungs': 4912, 'ask': 4913, 'leftover': 4914, 'gage': 4915, 'origin': 4916, 'sideboard': 4917, 'months': 4918, 'melon': 4919, 'admiring': 4920, 'affection': 4921, 'affectionate': 4922, 'chop': 4923, 'diabetes': 4924, 'digitally': 4925, 'pearl': 4926, 'withor': 4927, 'allows': 4928, 'suburbs': 4929, 'simulate': 4930, 'loud': 4931, 'panting': 4932, 'disability': 4933, 'associate': 4934, 'creme': 4935, 'referenced': 4936, 'ace': 4937, 'spades': 4938, 'valuable': 4939, 'invasion': 4940, 'implement': 4941, 'flagpole': 4942, 'vowels': 4943, 'diagonally': 4944, 'mozzarella': 4945, 'cooke': 4946, 'socket': 4947, 'sterile': 4948, 'doctors': 4949, 'companies': 4950, 'stole': 4951, 'incriminating': 4952, 'obvious': 4953, 'linked': 4954, 'fundraiser': 4955, 'veterinarian': 4956, 'entertained': 4957, 'slab': 4958, 'chew': 4959, 'freshen': 4960, 'breathe': 4961, 'fatty': 4962, 'creations': 4963, 'nosey': 4964, 'disgusting': 4965, 'consuming': 4966, 'barricades': 4967, 'distributed': 4968, 'spectacles': 4969, 'demonstrates': 4970, 'cares': 4971, 'oral': 4972, 'experimental': 4973, 'laboratory': 4974, 'signaled': 4975, 'menorah': 4976, 'packet': 4977, 'casted': 4978, 'vancouver': 4979, 'dublin': 4980, 'endorse': 4981, 'wilderness': 4982, 'roosters': 4983, 'interactions': 4984, 'toshiba': 4985, 'twine': 4986, 'brim': 4987, 'cialis': 4988, 'antiaging': 4989, 'fantasy': 4990, 'magic': 4991, 'excluding': 4992, 'phase': 4993, 'jumps': 4994, 'analog': 4995, 'grids': 4996, 'successfully': 4997, 'tsunami': 4998, 'multicar': 4999, 'plucked': 5000, 'pressure': 5001, 'carpal': 5002, 'downwards': 5003, 'backstroke': 5004, 'offroad': 5005, 'fry': 5006, 'amused': 5007, 'coast': 5008, 'personally': 5009, 'seriously': 5010, 'paddington': 5011, 'barcode': 5012, 'nikes': 5013, 'miles': 5014, 'essex': 5015, 'lounging': 5016, 'huge': 5017, 'nonfelines': 5018, 'wharf': 5019, 'batted': 5020, 'watchers': 5021, 'placement': 5022, 'stacks': 5023, 'lung': 5024, 'cancer': 5025, 'clydesdale': 5026, 'erect': 5027, 'landform': 5028, 'ages': 5029, 'frowning': 5030, 'link': 5031, 'smarter': 5032, 'healthily': 5033, 'guests': 5034, 'individually': 5035, 'bedskirt': 5036, 'compose': 5037, 'holidays': 5038, 'macbook': 5039, 'median': 5040, 'pops': 5041, 'volkswagens': 5042, 'woks': 5043, 'calves': 5044, 'udder': 5045, 'incline': 5046, 'weighs': 5047, 'favor': 5048, 'tankon': 5049, 'birmingham': 5050, 'infielder': 5051, 'outfielder': 5052, 'fermented': 5053, 'bowlsdishes': 5054, 'paddytype': 5055, 'reservation': 5056, 'rub': 5057, 'loses': 5058, 'code': 5059, 'actively': 5060, 'angels': 5061, 'hydrophobic': 5062, 'pear': 5063, 'parka': 5064, 'wiping': 5065, 'macys': 5066, 'programs': 5067, 'globe': 5068, 'icons': 5069, 'unto': 5070, 'refer': 5071, 'wound': 5072, 'emit': 5073, 'woke': 5074, 'culinary': 5075, 'diaper': 5076, 'dollhouse': 5077, 'honoree': 5078, 'thumbnail': 5079, 'pocketbook': 5080, 'mascara': 5081, 'hershey': 5082, 'ran': 5083, 'priced': 5084, 'coloring': 5085, 'rusting': 5086, 'encourage': 5087, '70s': 5088, 'badly': 5089, 'eyesight': 5090, 'mango': 5091, 'eyed': 5092, 'suspending': 5093, 'concentric': 5094, 'op': 5095, 'longsleeved': 5096, 'trait': 5097, 'hiking': 5098, 'womb': 5099, 'minimum': 5100, 'eclair': 5101, 'primacy': 5102, 'israel': 5103, 'blackberry': 5104, 'watchband': 5105, 'newborn': 5106, 'claim': 5107, 'styrofoam': 5108, 'member': 5109, 'soaps': 5110, 'grease': 5111, 'locations': 5112, 'stairwells': 5113, 'ducklings': 5114, 'firehydrant': 5115, 'chicks': 5116, 'placemats': 5117, 'chops': 5118, 'cleaner': 5119, 'upstairs': 5120, 'monkey': 5121, 'mooses': 5122, 'advertises': 5123, 'ale': 5124, 'brittle': 5125, 'paste': 5126, 'iceland': 5127, 'slicker': 5128, 'viking': 5129, 'affixed': 5130, 'smalls': 5131, '10000': 5132, 'congress': 5133, 'dole': 5134, 'supplied': 5135, 'kong': 5136, 'bathshower': 5137, 'combo': 5138, 'missed': 5139, 'bollards': 5140, 'toenails': 5141, 'carcass': 5142, 'formed': 5143, 'attempt': 5144, 'hippie': 5145, 'examiner': 5146, 'jail': 5147, 'seagulls': 5148, 'greenhouse': 5149, 'combing': 5150, 'unhappy': 5151, 'logos': 5152, 'segments': 5153, 'hairbrushes': 5154, 'ordered': 5155, 'problems': 5156, 'cutters': 5157, 'alps': 5158, 'noisy': 5159, 'southern': 5160, 'draw': 5161, 'viewers': 5162, 'sawn': 5163, 'theres': 5164, 'proceeding': 5165, 'hisher': 5166, 'cylinders': 5167, 'strait': 5168, 'awkward': 5169, 'vitamin': 5170, 'swap': 5171, 'eaters': 5172, 'afterwards': 5173, 'homecooked': 5174, '125': 5175, 'strainer': 5176, 'portray': 5177, 'partial': 5178, 'salmon': 5179, 'nourish': 5180, 'handstitched': 5181, 'compartments': 5182, 'bleeding': 5183, 'foundation': 5184, 'copper': 5185, 'drivethru': 5186, 'wrestlers': 5187, 'muffins': 5188, 'amazon': 5189, 'diagonal': 5190, 'planters': 5191, 'lava': 5192, 'gestures': 5193, 'pop': 5194, 'references': 5195, 'columbia': 5196, 'fri': 5197, 'friday': 5198, 'abbreviations': 5199, 'undoctored': 5200, 'nonenglishspeaking': 5201, 'ends': 5202, 'scanner': 5203, 'fight': 5204, 'hanged': 5205, 'terrier': 5206, 'breast': 5207, 'raptor': 5208, 'addictive': 5209, 'recipient': 5210, 'tictacs': 5211, 'tic': 5212, 'tacs': 5213, 'mast': 5214, 'softball': 5215, 'distasteful': 5216, 'briefcases': 5217, 'caged': 5218, 'modest': 5219, 'apparel': 5220, 'steal': 5221, 'pointy': 5222, 'timpson': 5223, 'pub': 5224, 'streetcar': 5225, 'cobblestone': 5226, 'latin': 5227, 'outdated': 5228, 'barcodes': 5229, 'fountains': 5230, '90': 5231, 'degrees': 5232, 'kangaroo': 5233, 'chalkboard': 5234, 'occupation': 5235, 'wishes': 5236, 'expressing': 5237, 'presumably': 5238, 'plaque': 5239, 'cricket': 5240, 'dresden': 5241, 'hosting': 5242, 'mate': 5243, 'vote': 5244, 'album': 5245, 'docking': 5246, 'cuffs': 5247, 'straightened': 5248, 'compound': 5249, 'google': 5250, 'earth': 5251, 'honey': 5252, 'oriented': 5253, 'nothing': 5254, 'goals': 5255, 'backing': 5256, 'fart': 5257, 'faking': 5258, 'planets': 5259, 'beginner': 5260, 'affected': 5261, 'rubber': 5262, 'sample': 5263, 'trashed': 5264, 'handling': 5265, 'manchester': 5266, 'operated': 5267, 'monster': 5268, 'ginger': 5269, 'valances': 5270, 'recreational': 5271, 'calculators': 5272, 'bollard': 5273, 'unlike': 5274, 'cleaners': 5275, 'rescued': 5276, 'eyewear': 5277, 'careful': 5278, 'bites': 5279, 'ponytails': 5280, 'rein': 5281, 'potassium': 5282, 'hillock': 5283, 'burn': 5284, 'rachel': 5285, 'ray': 5286, 'cockpit': 5287, 'privately': 5288, 'launch': 5289, 'framing': 5290, 'nonchocolate': 5291, 'rescue': 5292, 'mission': 5293, 'planet': 5294, 'sleigh': 5295, 'sporty': 5296, 'secondclosest': 5297, 'muzzle': 5298, 'backend': 5299, 'cancun': 5300, 'inexpensive': 5301, 'splashing': 5302, 'crack': 5303, 'craters': 5304, 'fewer': 5305, 'twenty': 5306, 'exclamatory': 5307, 'sentence': 5308, 'skull': 5309, 'locality': 5310, 'headwear': 5311, 'stakes': 5312, 'seasonal': 5313, 'quiznos': 5314, 'vantage': 5315, 'corkboard': 5316, 'comic': 5317, 'attends': 5318, 'faded': 5319, 'cakecutter': 5320, 'spires': 5321, 'drought': 5322, '1950': 5323, 'sunroof': 5324, 'beagles': 5325, 'spider': 5326, 'convenience': 5327, 'stormtrooper': 5328, 'categorized': 5329, 'signpost': 5330, 'cruciferous': 5331, 'celery': 5332, 'geographical': 5333, 'ford': 5334, 'escobar': 5335, 'guarding': 5336, 'grimy': 5337, 'inspector': 5338, 'locale': 5339, 'gregarious': 5340, 'neighbors': 5341, 'drama': 5342, 'bicyclists': 5343, 'procedure': 5344, 'atmosphere': 5345, 'irritated': 5346, 'basemans': 5347, 'homegrown': 5348, 'pronounce': 5349, 'hibernating': 5350, 'mythologies': 5351, 'hardback': 5352, 'trophies': 5353, 'colorado': 5354, 'rinse': 5355, 'booty': 5356, 'redwhite': 5357, 'vapor': 5358, 'mated': 5359, 'fireman': 5360, 'attach': 5361, 'fleas': 5362, 'goodies': 5363, 'buds': 5364, 'sketch': 5365, 'turkeys': 5366, 'heated': 5367, 'mow': 5368, 'caterpillar': 5369, 'dainty': 5370, 'premises': 5371, 'handlers': 5372, 'oncoming': 5373, 'wrinkles': 5374, 'showering': 5375, 'folder': 5376, 'filing': 5377, 'stolen': 5378, 'breakdown': 5379, 'though': 5380, 'newton': 5381, 'bounce': 5382, 'marathon': 5383, 'communication': 5384, 'fires': 5385, 'hedges': 5386, 'flavored': 5387, 'lurking': 5388, 'usda': 5389, 'certified': 5390, 'excellent': 5391, 'manners': 5392, 'hooping': 5393, 'bedspreads': 5394, 'matelasse': 5395, 'macro': 5396, 'nutrients': 5397, 'fullsized': 5398, 'strangest': 5399, 'awesome': 5400, 'pail': 5401, 'cupola': 5402, 'temple': 5403, 'drone': 5404, 'blossoms': 5405, 'liqueur': 5406, 'obelisk': 5407, 'cycle': 5408, 'taiwan': 5409, 'splash': 5410, 'immature': 5411, 'scarlet': 5412, 'tanager': 5413, 'brilliant': 5414, 'stew': 5415, 'ardula': 5416, 'fits': 5417, 'cigarsmoking': 5418, 'banker': 5419, '39': 5420, 'coal': 5421, 'rude': 5422, 'nascar': 5423, 'subtract': 5424, 'root': 5425, 'eight': 5426, 'torturing': 5427, 'scratch': 5428, 'representing': 5429, 'routine': 5430, 'indicative': 5431, 'exerted': 5432, 'crops': 5433, 'adolescent': 5434, 'problem': 5435, 'tricycle': 5436, 'snowflake': 5437, 'led': 5438, 'kitchens': 5439, 'stonehenge': 5440, 'wanting': 5441, 'psychic': 5442, 'wheeler': 5443, 'lorry': 5444, 'opportunity': 5445, 'mit': 5446, 'boxing': 5447, 'leftovers': 5448, 'dips': 5449, 'clue': 5450, 'gluten': 5451, 'flatbread': 5452, 'vines': 5453, 'dangling': 5454, '502': 5455, 'windsor': 5456, 'communicate': 5457, 'reception': 5458, 'groom': 5459, 'cape': 5460, 'blessing': 5461, 'ceremony': 5462, 'roughed': 5463, 'manicure': 5464, 'lately': 5465, 'crumbly': 5466, 'slither': 5467, 'supreme': 5468, 'justice': 5469, 'propped': 5470, 'relatives': 5471, 'barber': 5472, 'crashed': 5473, 'pedestals': 5474, 'puzzled': 5475, 'gogh': 5476, 'liberace': 5477, 'proportionate': 5478, 'cuddle': 5479, 'exaggerated': 5480, 'syllables': 5481, '59': 5482, 'cents': 5483, 'pallets': 5484, 'riverfront': 5485, 'plays': 5486, 'tiffany': 5487, 'shared': 5488, 'eurojet': 5489, 'rod': 5490, 'racehorse': 5491, 'eccentric': 5492, 'skylights': 5493, 'quesadilla': 5494, 'knit': 5495, 'accompanies': 5496, 'supports': 5497, 'greener': 5498, '757': 5499, 'dolphin': 5500, 'midwest': 5501, 'altitude': 5502, 'asymmetrical': 5503, 'elmo': 5504, 'swivel': 5505, 'modeled': 5506, 'taps': 5507, 'stripped': 5508, 'fighter': 5509, 'tried': 5510, 'navy': 5511, 'muslim': 5512, 'pretending': 5513, 'pizzeria': 5514, 'housepets': 5515, 'sleeper': 5516, 'harnessed': 5517, 'hop': 5518, 'evergreens': 5519, 'shortboard': 5520, 'inland': 5521, '74': 5522, 'rooftops': 5523, 'pleasant': 5524, 'prevents': 5525, 'buckingham': 5526, 'palace': 5527, 'limo': 5528, 'loading': 5529, 'wording': 5530, 'fourwheeler': 5531, 'breaks': 5532, 'mist': 5533, 'serene': 5534, 'fingertips': 5535, 'partake': 5536, 'bunny': 5537, 'pears': 5538, 'goalies': 5539, 'attacked': 5540, 'mosaic': 5541, 'proportional': 5542, 'sufficient': 5543, 'hunt': 5544, 'classified': 5545, 'lowprotein': 5546, 'braving': 5547, 'beachwear': 5548, 'leads': 5549, 'salem': 5550, 'wreck': 5551, 'crispy': 5552, 'yankees': 5553, 'stewed': 5554, 'continental': 5555, 'influence': 5556, 'clipped': 5557, 'legend': 5558, 'nursing': 5559, 'nonred': 5560, 'splits': 5561, 'manipulation': 5562, 'orderly': 5563, 'provoked': 5564, 'strapped': 5565, 'canisters': 5566, 'condimente': 5567, 'cafeteria': 5568, 'slight': 5569, 'chill': 5570, 'coating': 5571, 'features': 5572, 'convertible': 5573, 'pt': 5574, 'cruiser': 5575, 'rowing': 5576, 'tigers': 5577, 'coaching': 5578, 'warning': 5579, 'unfinished': 5580, 'golfing': 5581, 'mounds': 5582, 'scientific': 5583, 'ave': 5584, 'intersects': 5585, 'chaotic': 5586, 'hoof': 5587, 'orb': 5588, 'hazard': 5589, 'treat': 5590, 'racial': 5591, 'integrated': 5592, 'receptacles': 5593, 'union': 5594, 'student': 5595, 'unseen': 5596, 'chopper': 5597, 'sip': 5598, 'cooks': 5599, 'paired': 5600, 'lifts': 5601, 'unfocused': 5602, 'skates': 5603, 'obese': 5604, 'videotaping': 5605, 'chests': 5606, 'disco': 5607, 'garland': 5608, 'visitor': 5609, 'corporations': 5610, 'tier': 5611, 'recess': 5612, 'pita': 5613, 'naps': 5614, 'maroon': 5615, 'sidecar': 5616, 'birdcage': 5617, 'somebodys': 5618, 'vacuum': 5619, 'depart': 5620, 'intensely': 5621, 'stockings': 5622, 'lantern': 5623, 'streetlight': 5624, 'timekeeping': 5625, 'beaked': 5626, 'intoxicated': 5627, 'radishes': 5628, 'offense': 5629, 'return': 5630, 'pamper': 5631, 'pushes': 5632, 'aten': 5633, 'differently': 5634, 'construct': 5635, 'widows': 5636, 'hog': 5637, 'aquarium': 5638, 'boyfriend': 5639, 'raincoat': 5640, 'crossroad': 5641, 'rio': 5642, 'imprints': 5643, 'carnivorous': 5644, 'shears': 5645, 'tug': 5646, 'attending': 5647, 'hi': 5648, 'revolving': 5649, 'varnished': 5650, 'curvy': 5651, 'binoculars': 5652, 'overcrowded': 5653, 'apt': 5654, 'packing': 5655, 'toasters': 5656, 'fronts': 5657, 'strict': 5658, 'spicy': 5659, 'densely': 5660, 'populated': 5661, 'snowplougher': 5662, 'atomic': 5663, 'ump': 5664, 'rag': 5665, 'nonyellow': 5666, 'valentine': 5667, 'boxers': 5668, 'haunted': 5669, 'survival': 5670, 'the16th': 5671, 'handicapaccessible': 5672, 'marines': 5673, 'g': 5674, 'wokingham': 5675, 'header': 5676, 'mythological': 5677, 'closeup': 5678, 'thumb': 5679, 'onepoint': 5680, 'experience': 5681, 'equality': 5682, 'scratching': 5683, 'yankee': 5684, 'novels': 5685, 'relax': 5686, 'appeal': 5687, 'memories': 5688, 'voyager': 5689, 'hubcaps': 5690, 'sash': 5691, 'bolts': 5692, 'headrest': 5693, 'fedora': 5694, 'mufflers': 5695, 'steven': 5696, 'watermelon': 5697, 'seconds': 5698, 'inscription': 5699, 'barking': 5700, 'dance': 5701, 'thus': 5702, 'decorates': 5703, 'hippy': 5704, 'playoffs': 5705, 'announced': 5706, 'dexterity': 5707, 'facilities': 5708, 'whisk': 5709, 'wwi': 5710, 'retire': 5711, 'hobby': 5712, 'sunflower': 5713, 'jubilant': 5714, 'redheads': 5715, '21st': 5716, 'everybody': 5717, 'waiters': 5718, 'andor': 5719, 'cameramen': 5720, 'immediately': 5721, 'slopes': 5722, 'previously': 5723, 'acrobat': 5724, 'sexy': 5725, 'os': 5726, 'heard': 5727, 'migrating': 5728, 'defiled': 5729, 'concentration': 5730, 'courts': 5731, 'taxis': 5732, 'bingo': 5733, 'swimsuits': 5734, 'rearranged': 5735, 'pawing': 5736, 'sweatpants': 5737, 'suspension': 5738, 'rickshaw': 5739, 'turbans': 5740, 'snapshots': 5741, 'adidas': 5742, 'alphabet': 5743, 'imprinted': 5744, 'efficiency': 5745, 'got': 5746, 'adjusting': 5747, 'cased': 5748, 'refs': 5749, 'cornered': 5750, 'volunteer': 5751, 'career': 5752, 'firefighters': 5753, 'beethoven': 5754, 'workable': 5755, 'development': 5756, 'tshirts': 5757, 'alluring': 5758, 'explaining': 5759, 'cranes': 5760, 'backplane': 5761, 'award': 5762, 'struts': 5763, 'aviation': 5764, 'migration': 5765, 'radiator': 5766, 'speaks': 5767, 'sore': 5768, 'weatherworn': 5769, '505': 5770, 'adjacent': 5771, 'siblings': 5772, 'usb': 5773, 'turboprop': 5774, 'castors': 5775, 'breath': 5776, 'charcoal': 5777, 'electrically': 5778, 'mustards': 5779, 'tequila': 5780, 'merlot': 5781, 'strangers': 5782, 'browned': 5783, 'hedge': 5784, 'billowing': 5785, 'helped': 5786, 'medium': 5787, 'dreaming': 5788, 'unexpected': 5789, 'hardhat': 5790, 'rimmed': 5791, 'foreheads': 5792, 'colorcolors': 5793, 'dumbos': 5794, 'mixture': 5795, 'castle': 5796, 'assuming': 5797, 'lifeguard': 5798, 'duty': 5799, 'walkers': 5800, 'ironic': 5801, 'charter': 5802, 'routes': 5803, 'tankini': 5804, 'alexs': 5805, 'loner': 5806, 'dumplings': 5807, 'spigot': 5808, 'arcs': 5809, 'signaler': 5810, 'workstation': 5811, 'periodical': 5812, 'youve': 5813, 'met': 5814, 'ranks': 5815, 'individuals': 5816, 'tripping': 5817, 'hazards': 5818, 'delta': 5819, 'roasted': 5820, 'unnatural': 5821, 'treatments': 5822, 'musk': 5823, 'ox': 5824, 'shaker': 5825, 'beets': 5826, 'cal': 5827, 'froth': 5828, 'housing': 5829, 'perform': 5830, 'percent': 5831, 'furry': 5832, 'gadgets': 5833, 'angel': 5834, 'prove': 5835, 'frustrating': 5836, 'crucial': 5837, 'occasions': 5838, 'sheepdog': 5839, 'dinosaur': 5840, 'trousers': 5841, 'cock': 5842, 'lump': 5843, 'holy': 5844, 'wasting': 5845, 'denomination': 5846, 'tender': 5847, 'brace': 5848, 'peeling': 5849, 'computergenerated': 5850, 'aiming': 5851, 'rejoicing': 5852, 'products': 5853, 'suggestive': 5854, 'pixie': 5855, 'november': 5856, 'pin': 5857, 'nonhumans': 5858, 'shrubbery': 5859, 'nervous': 5860, 'longstanding': 5861, 'illuminating': 5862, 'fixtures': 5863, 'complexion': 5864, 'crosswalks': 5865, 'coconut': 5866, 'needles': 5867, 'dormitory': 5868, 'cleavage': 5869, 'blouse': 5870, 'baseman': 5871, 'sissy': 5872, 'stereotype': 5873, 'mouses': 5874, 'rodents': 5875, 'centers': 5876, 'domain': 5877, 'towing': 5878, 'scientist': 5879, 'please': 5880, 'underfed': 5881, 'spoiled': 5882, 'reads': 5883, 'fox': 5884, 'undone': 5885, 'flatland': 5886, 'avenues': 5887, 'screwdrivers': 5888, 'anger': 5889, 'atlantic': 5890, 'pyramidshaped': 5891, 'dunlop': 5892, 'thumbs': 5893, 'juicer': 5894, 'reich': 5895, 'artistically': 5896, 'bedrooms': 5897, 'fronds': 5898, 'personalized': 5899, 'felt': 5900, 'projects': 5901, 'adaptor': 5902, 'torn': 5903, 'seam': 5904, 'dairy': 5905, 'numbered': 5906, 'charger': 5907, 'saucy': 5908, 'peripheral': 5909, 'benefit': 5910, 'irrelevant': 5911, 'wipeout': 5912, 'essential': 5913, 'muscles': 5914, 'dvds': 5915, 'canopied': 5916, 'limousine': 5917, 'salto': 5918, 'waterproof': 5919, 'newspapers': 5920, 'uxbridge': 5921, 'suspenders': 5922, 'wavy': 5923, 'idiom': 5924, 'customers': 5925, 'spins': 5926, 'protects': 5927, 'comb': 5928, 'limbs': 5929, 'seagull': 5930, 'blows': 5931, 'remodel': 5932, 'blackandwhite': 5933, 'stunned': 5934, 'rib': 5935, 'affect': 5936, 'wicker': 5937, 'sidewalks': 5938, 'buoys': 5939, '25': 5940, 'copyrights': 5941, 'committing': 5942, 'aid': 5943, 'preventing': 5944, 'cramps': 5945, 'weightlifter': 5946, 'include': 5947, 'peacock': 5948, 'porches': 5949, 'load': 5950, 'shutters': 5951, 'cookout': 5952, 'smoother': 5953, 'hate': 5954, 'broadcasting': 5955, 'switchbacks': 5956, 'roselike': 5957, 'odor': 5958, 'choppy': 5959, 'rv': 5960, 'directional': 5961, '22': 5962, 'snowstorm': 5963, 'merchant': 5964, 'mix': 5965, 'pillowcases': 5966, 'thigh': 5967, 'spherical': 5968, 'lemonade': 5969, 'emotions': 5970, 'facade': 5971, 'arid': 5972, '53': 5973, 'illustrating': 5974, 'nightlife': 5975, 'drifts': 5976, 'spec': 5977, 'sailboard': 5978, 'lobby': 5979, 'hiker': 5980, 'plowed': 5981, 'cleared': 5982, 'lover': 5983, 'fare': 5984, 'hammer': 5985, 'genre': 5986, 'referencing': 5987, 'herring': 5988, 'lightning': 5989, 'metropolitan': 5990, 'surrounds': 5991, 'cursive': 5992, 'socializing': 5993, 'observant': 5994, 'outwear': 5995, 'windowshopping': 5996, 'feels': 5997, 'cedar': 5998, 'suite': 5999, 'referring': 6000, 'vegas': 6001, 'anchored': 6002, 'trampled': 6003, 'stock': 6004, 'auction': 6005, 'evoke': 6006, 'dangerously': 6007, 'bytes': 6008, 'thread': 6009, 'tapestry': 6010, 'keychains': 6011, 'dryers': 6012, 'scenes': 6013, 'flowering': 6014, 'releases': 6015, 'bulldog': 6016, 'padlocks': 6017, 'interacting': 6018, 'joyous': 6019, 'firmly': 6020, 'acrobats': 6021, 'canning': 6022, 'walkways': 6023, 'shoveled': 6024, 'concession': 6025, 'sodas': 6026, 'relates': 6027, '4letter': 6028, 'carl': 6029, 'dragon': 6030, '26': 6031, 'subjects': 6032, 'hangings': 6033, 'segment': 6034, 'fixated': 6035, 'burner': 6036, 'mealtime': 6037, 'moon': 6038, 'winemaker': 6039, 'observing': 6040, 'carnivore': 6041, 'crumpled': 6042, 'wont': 6043, 'anytime': 6044, 'buried': 6045, 'fog': 6046, 'ripeness': 6047, 'aside': 6048, 'lean': 6049, 'bolted': 6050, 'mint': 6051, 'shortsighted': 6052, 'friend': 6053, 'ladders': 6054, 'sexuality': 6055, 'disarray': 6056, 'rental': 6057, 'headset': 6058, 'southwest': 6059, 'thimbles': 6060, 'ts': 6061, 'odds': 6062, 'betting': 6063, 'sundress': 6064, 'softly': 6065, 'cater': 6066, 'bet': 6067, 'whether': 6068, 'calling': 6069, 'slanted': 6070, 'hexagon': 6071, 'beatles': 6072, 'welcome': 6073, 'forwards': 6074, 'quilted': 6075, 'closely': 6076, 'whale': 6077, 'plush': 6078, 'consumable': 6079, 'topmiddle': 6080, 'amongst': 6081, 'signing': 6082, 'grandson': 6083, 'click': 6084, 'rubiks': 6085, 'clutch': 6086, 'goatee': 6087, 'brightlylit': 6088, 'general': 6089, 'august': 6090, 'limb': 6091, 'acacia': 6092, 'easier': 6093, 'olive': 6094, 'user': 6095, 'greeting': 6096, 'contribute': 6097, 'humanely': 6098, 'guard': 6099, 'mirrored': 6100, 'sattel': 6101, 'merchandise': 6102, 'talbot': 6103, 'resealed': 6104, 'abilities': 6105, 'bouncing': 6106, 'funeral': 6107, 'situated': 6108, 'instruction': 6109, 'printing': 6110, 'sandal': 6111, 'sanitized': 6112, 'discussion': 6113, 'yeti': 6114, 'outing': 6115, 'heavily': 6116, 'alerted': 6117, 'hoofs': 6118, 'retriever': 6119, 'generated': 6120, 'handbags': 6121, 'anticipation': 6122, 'succeeding': 6123, 'halfway': 6124, 'geometry': 6125, 'fuzzy': 6126, 'darkness': 6127, 'gardening': 6128, '1980': 6129, 'barge': 6130, 'backroad': 6131, 'conditioners': 6132, 'hinged': 6133, 'crowds': 6134, 'bombed': 6135, 'roofing': 6136, 'rotating': 6137, 'recorded': 6138, 'reasonably': 6139, 'boardwalk': 6140, 'cub': 6141, 'chocked': 6142, 'runwaya': 6143, 'went': 6144, 'medicine': 6145, 'briskly': 6146, 'prohibiting': 6147, 'brewster': 6148, 'wars': 6149, 'beings': 6150, 'pottery': 6151, 'wheelie': 6152, 'curtained': 6153, 'pints': 6154, 'sandpaper': 6155, 'jean': 6156, 'hunted': 6157, 'peaking': 6158, 'rainforest': 6159, 'note': 6160, 'cheerful': 6161, 'sleeved': 6162, 'chip': 6163, 'creamer': 6164, 'mousse': 6165, 'pancake': 6166, 'davidson': 6167, 'bothered': 6168, 'blonder': 6169, 'tandem': 6170, 'pedicab': 6171, 'pesticides': 6172, 'belonging': 6173, 'contacts': 6174, 'virtual': 6175, 'chili': 6176, 'hue': 6177, 'barriers': 6178, '2pm': 6179, 'recovers': 6180, 'hulled': 6181, 'calzone': 6182, 'houseplants': 6183, 'tsa': 6184, 'twoway': 6185, 'handicap': 6186, 'accessible': 6187, 'nutritionist': 6188, 'opinion': 6189, 'bunch': 6190, 'severed': 6191, 'forearms': 6192, 'conspicuous': 6193, 'teen': 6194, 'sideline': 6195, 'pacific': 6196, 'substances': 6197, 'bandit': 6198, 'loosened': 6199, 'pedaling': 6200, 'seaworthy': 6201, 'infielders': 6202, 'consistency': 6203, 'roundabout': 6204, 'cereal': 6205, 'decomposition': 6206, 'symbolic': 6207, 'avocados': 6208, 'immediate': 6209, '2010': 6210, 'oversized': 6211, 'cingular': 6212, 'gasoline': 6213, 'beauty': 6214, 'loft': 6215, 'rightside': 6216, 'measured': 6217, 'damaged': 6218, 'lg': 6219, 'lanyard': 6220, 'slicing': 6221, 'steamed': 6222, 'wish': 6223, 'commemorate': 6224, 'stamp': 6225, 'underside': 6226, 'precious': 6227, 'reminds': 6228, 'astronomical': 6229, 'pampered': 6230, 'breasts': 6231, 'atypical': 6232, 'pupils': 6233, 'canvas': 6234, 'backed': 6235, 'underfoot': 6236, 'butted': 6237, 'alpha': 6238, 'streaks': 6239, 'executed': 6240, 'nomenclature': 6241, 'split': 6242, 'braden': 6243, 'ganem': 6244, 'presenter': 6245, 'sub': 6246, 'fisherman': 6247, '45': 6248, 'causes': 6249, 'shoreline': 6250, 'skillet': 6251, 'indianstyle': 6252, 'chainlink': 6253, 'vacuumed': 6254, 'upholstery': 6255, 'tether': 6256, 'canada': 6257, 'offer': 6258, 'headon': 6259, 'trimmings': 6260, 'mama': 6261, 'hinges': 6262, 'fourcorner': 6263, 'controlling': 6264, 'chunks': 6265, 'juvenile': 6266, 'atms': 6267, 'folding': 6268, 'roots': 6269, 'improperly': 6270, 'caramel': 6271, 'inscribed': 6272, 'gutter': 6273, 'cyclist': 6274, 'pallet': 6275, 'airbus': 6276, 'playpen': 6277, 'ramekin': 6278, 'navel': 6279, 'persian': 6280, 'trouser': 6281, 'protectors': 6282, 'embedded': 6283, 'elbow': 6284, 'parasailor': 6285, 'understand': 6286, 'minnie': 6287, 'medieval': 6288, 'hankie': 6289, 'fivesided': 6290, 'sewage': 6291, 'sideburns': 6292, 'cupcom': 6293, 'exemplify': 6294, 'circumference': 6295, 'rules': 6296, 'yelling': 6297, 'recyclable': 6298, '4way': 6299, 'motorists': 6300, 'tasted': 6301, 'rosin': 6302, 'baker': 6303, 'enemies': 6304, 'grew': 6305, 'smashing': 6306, 'torso': 6307, 'forgetting': 6308, 'suggests': 6309, 'sari': 6310, 'bushels': 6311, 'kidnapping': 6312, 'crotch': 6313, 'rockets': 6314, 'spheres': 6315, 'dispose': 6316, '50': 6317, 'conductor': 6318, 'comprised': 6319, 'territorial': 6320, 'dispute': 6321, 'digger': 6322, 'groundwater': 6323, 'mobil': 6324, 'squats': 6325, 'shingle': 6326, 'idyllic': 6327, 'picturesque': 6328, 'mailboxes': 6329, '60': 6330, 'crests': 6331, 'overpasses': 6332, 'south': 6333, '747': 6334, 'cocacola': 6335, 'teaspoons': 6336, 'guards': 6337, 'alighting': 6338, 'atlantis': 6339, 'boating': 6340, 'moist': 6341, 'bolt': 6342, 'practical': 6343, 'yen': 6344, 'implies': 6345, 'beat': 6346, '11': 6347, 'grateful': 6348, 'stretched': 6349, 'almonds': 6350, 'piss': 6351, 'whimsical': 6352, 'cresting': 6353, 'webcams': 6354, 'dressers': 6355, 'attract': 6356, 'butterflies': 6357, 'pits': 6358, 'raging': 6359, 'chivalrous': 6360, 'replica': 6361, 'ruler': 6362, 'banister': 6363, 'houseplant': 6364, 'listener': 6365, 'badges': 6366, 'robotics': 6367, 'unmarked': 6368, 'spatula': 6369, 'specie': 6370, 'averagesized': 6371, 'unclog': 6372, 'candyland': 6373, 'genius': 6374, 'ambiance': 6375, 'acidic': 6376, 'citys': 6377, 'supper': 6378, '222': 6379, 'olden': 6380, 'bloomed': 6381, 'penguin': 6382, 'daisy': 6383, 'duke': 6384, 'chin': 6385, 'crossshaped': 6386, 'grove': 6387, 'moldy': 6388, 'sportswear': 6389, 'hows': 6390, 'verdant': 6391, 'barbecued': 6392, 'stroke': 6393, 'url': 6394, 'hyundaicard': 6395, 'agricultural': 6396, 'community': 6397, 'scooped': 6398, 'included': 6399, 'artichokes': 6400, 'allergic': 6401, 'casing': 6402, 'wrecked': 6403, 'maximum': 6404, 'clearance': 6405, 'appetizing': 6406, 'backrest': 6407, 'falafel': 6408, 'nocturnal': 6409, 'hostile': 6410, 'dented': 6411, 'dug': 6412, 'weapons': 6413, 're': 6414, 'minivan': 6415, 'toll': 6416, 'wellknown': 6417, 'franchise': 6418, 'copyright': 6419, 'customized': 6420, 'snows': 6421, 'whipping': 6422, 'shallow': 6423, 'toiletries': 6424, 'streetlevel': 6425, 'preferred': 6426, 'khaki': 6427, 'slacks': 6428, 'levi': 6429, 'strauss': 6430, 'decals': 6431, 'deepest': 6432, 'outfitted': 6433, 'nuclear': 6434, 'propulsion': 6435, 'wake': 6436, '1989': 6437, 'ancestor': 6438, 'commoners': 6439, 'halflit': 6440, 'dried': 6441, 'ripen': 6442, 'reminiscent': 6443, 'sixties': 6444, 'morgan': 6445, 'lands': 6446, 'mariners': 6447, 'davis': 6448, 'skiis': 6449, 'seatbelt': 6450, 'underground': 6451, 'nordictrack': 6452, 'tips': 6453, 'pant': 6454, 'areas': 6455, 'rare': 6456, 'smoggy': 6457, 'smokey': 6458, 'halter': 6459, 'straighten': 6460, 'drywall': 6461, 'heartbroken': 6462, 'theyve': 6463, 'blenders': 6464, 'teething': 6465, 'grinning': 6466, 'comparing': 6467, '2011': 6468, 'opponent': 6469, 'camper': 6470, 'calendars': 6471, 'landforms': 6472, 'halves': 6473, 'drapery': 6474, 'adopt': 6475, 'sipping': 6476, 'professions': 6477, 'quicker': 6478, 'shortly': 6479, 'flora': 6480, 'humorous': 6481, 'crooked': 6482, 'pill': 6483, 'junk': 6484, 'singleengine': 6485, 'consumables': 6486, 'produced': 6487, 'gentle': 6488, 'cities': 6489, 'cliff': 6490, 'ballet': 6491, 'fastened': 6492, 'stalls': 6493, 'midriff': 6494, 'tots': 6495, 'teddybears': 6496, 'kart': 6497, 'receiving': 6498, 'assistance': 6499, 'skillets': 6500, 'accidentally': 6501, 'c': 6502, 'h': 6503, 'emulating': 6504, 'mixers': 6505, 'outboard': 6506, 'intend': 6507, 'grandparent': 6508, 'hangar': 6509, 'plow': 6510, 'currency': 6511, 'prices': 6512, 'clearing': 6513, 'albums': 6514, 'untidy': 6515, 'registering': 6516, 'fourth': 6517, 'tuesdays': 6518, 'morrie': 6519, 'ymca': 6520, 'madison': 6521, 'curled': 6522, 'ladderlooking': 6523, 'lads': 6524, 'ink': 6525, 'shin': 6526, 'recommend': 6527, 'changes': 6528, 'ferocious': 6529, 'buts': 6530, 'twerking': 6531, 'discolored': 6532, 'hometown': 6533, 'faintly': 6534, 'politics': 6535, 'o': 6536, 'alphabetized': 6537, 'abbreviation': 6538, 'sewer': 6539, 'liners': 6540, 'screwdriver': 6541, 'fred': 6542, 'bushy': 6543, 'sodium': 6544, 'choices': 6545, 'wrapping': 6546, 'blues': 6547, 'differences': 6548, 'shakers': 6549, 'restriction': 6550, 'describes': 6551, 'bereaved': 6552, 'wife': 6553, 'ancient': 6554, 'approach': 6555, 'remains': 6556, 'basin': 6557, 'predators': 6558, 'baggie': 6559, 'mixed': 6560, 'shovel': 6561, 'wolf': 6562, '025': 6563, 'nylon': 6564, 'specialized': 6565, 'capsized': 6566, 'responsible': 6567, 'monitoring': 6568, 'reference': 6569, 'valid': 6570, 'washcloths': 6571, 'specifically': 6572, 'chat': 6573, 'reasonable': 6574, 'tony': 6575, 'hawk': 6576, 'surfboarding': 6577, 'jerseys': 6578, 'critic': 6579, 'feasting': 6580, 'storekeeper': 6581, 'whipped': 6582, 'cylinder': 6583, 'discussing': 6584, 'itinerary': 6585, 'trotters': 6586, 'greyscale': 6587, 'tundra': 6588, 'youngest': 6589, 'scribble': 6590, 'pavers': 6591, 'flatscreen': 6592, 'academy': 6593, 'hockey': 6594, 'puck': 6595, 'tweety': 6596, 'cubic': 6597, 'prior': 6598, 'fringe': 6599, 'congested': 6600, 'ghost': 6601, 'oddly': 6602, 'swingset': 6603, 'operation': 6604, 'hostage': 6605, 'islands': 6606, 'pockets': 6607, 'frank': 6608, 'lloyd': 6609, 'wright': 6610, 'napkintowel': 6611, 'begun': 6612, 'freedom': 6613, 'wander': 6614, 'standout': 6615, 'malfunctioning': 6616, 'layered': 6617, 'interest': 6618, 'twelve': 6619, 'rented': 6620, 'misses': 6621, 'meadow': 6622, 'farmhouses': 6623, 'handrails': 6624, 'vanilla': 6625, 'extract': 6626, 'maybe': 6627, 'marooned': 6628, 'mardi': 6629, 'gras': 6630, 'realistic': 6631, 'signifying': 6632, 'index': 6633, 'sneeze': 6634, 'speck': 6635, 'commemorating': 6636, 'starfish': 6637, 'army': 6638, 'report': 6639, 'leaking': 6640, 'draping': 6641, 'slim': 6642, 'singer': 6643, 'bins': 6644, 'rundown': 6645, 'nutritionists': 6646, 'bento': 6647, 'counted': 6648, 'garnier': 6649, 'speech': 6650, 'setup': 6651, 'dense': 6652, 'solution': 6653, 'contrasting': 6654, 'forecast': 6655, 'flatware': 6656, 'striking': 6657, 'milking': 6658, 'bedpost': 6659, 'shredded': 6660, 'distinctive': 6661, 'flyer': 6662, 'ruffle': 6663, 'somber': 6664, 'stairwell': 6665, 'pump': 6666, 'recording': 6667, 'tense': 6668, 'scalloped': 6669, 'travels': 6670, 'linoleum': 6671, 'tripod': 6672, 'crisscross': 6673, 'warped': 6674, 'brings': 6675, 'majestic': 6676, 'markworthy': 6677, 'aggressively': 6678, 'initially': 6679, '1970s': 6680, 'jockeys': 6681, 'hoping': 6682, 'tassel': 6683, 'rocket': 6684, 'production': 6685, 'transportable': 6686, 'casino': 6687, 'foregrounds': 6688, 'registration': 6689, 'ponys': 6690, 'mirth': 6691, 'issue': 6692, 'plug': 6693, 'predominantly': 6694, 'nipping': 6695, 'droopy': 6696, 'lightest': 6697, 'pacifist': 6698, 'frontside': 6699, 'perpetrator': 6700, 'closets': 6701, 'underpass': 6702, 'televisions': 6703, 'woodpecker': 6704, 'rendering': 6705, 'consistent': 6706, 'motif': 6707, 'iphones': 6708, 'prevent': 6709, 'obesity': 6710, 'cliche': 6711, 'piercings': 6712, 'a10': 6713, 'warthog': 6714, 'collapsing': 6715, 'dig': 6716, 'bone': 6717, 'copies': 6718, 'habits': 6719, 'brother': 6720, 'unconventional': 6721, 'utilitarian': 6722, 'mary': 6723, 'poppins': 6724, 'sights': 6725, 'breaking': 6726, 'volleyballs': 6727, 'legible': 6728, 'polished': 6729, 'weds': 6730, 'royce': 6731, 'bundt': 6732, 'smeared': 6733, 'tentative': 6734, 'collectibles': 6735, 'lesson': 6736, 'birthmark': 6737, 'diarrhea': 6738, 'cistern': 6739, 'hobbyist': 6740, 'escorting': 6741, 'f': 6742, 'joystick': 6743, 'blindsshutters': 6744, 'minaret': 6745, 'brickwork': 6746, 'veil': 6747, 'makers': 6748, 'binder': 6749, 'feathered': 6750, 'holographic': 6751, 'carryon': 6752, 'thes': 6753, 'checking': 6754, 'recline': 6755, 'leisure': 6756, 'aircrafts': 6757, 'goth': 6758, 'nineteen': 6759, 'overhand': 6760, 'underhand': 6761, 'warmly': 6762, 'antiques': 6763, 'burgundy': 6764, 'soothing': 6765, 'reside': 6766, 'rancher': 6767, 'huts': 6768, 'fading': 6769, 'anyones': 6770, 'impede': 6771, 'americanstyle': 6772, 'spying': 6773, 'permissible': 6774, 'healthful': 6775, 'debit': 6776, 'mower': 6777, 'threatening': 6778, 'cracks': 6779, 'slowing': 6780, 'meow': 6781, 'frustrated': 6782, 'explanation': 6783, 'chicago': 6784, 'always': 6785, 'singlestory': 6786, 'dane': 6787, 'busted': 6788, 'skiiers': 6789, 'washcloth': 6790, 'trooper': 6791, 'hipster': 6792, 'cajun': 6793, 'breeding': 6794, 'caffeine': 6795, 'pilots': 6796, 'disappeared': 6797, 'margaritas': 6798, 'greyhound': 6799, 'silk': 6800, 'hairstyles': 6801, 'concept': 6802, 'numeric': 6803, 'noticeably': 6804, 'wiring': 6805, 'unaltered': 6806, 'notepad': 6807, 'storebought': 6808, 'murky': 6809, 'fired': 6810, 'blood': 6811, 'approaches': 6812, 'significantly': 6813, 'flaps': 6814, 'value': 6815, 'driveway': 6816, 'fiber': 6817, 'toddlers': 6818, 'professor': 6819, 'zookeeper': 6820, 'thunderstorm': 6821, 'boxed': 6822, 'mudflap': 6823, 'numerous': 6824, 'batch': 6825, 'terms': 6826, 'tp': 6827, 'racially': 6828, 'kiss': 6829, 'cuba': 6830, 'rubbing': 6831, 'valve': 6832, 'stilettos': 6833, 'tablet': 6834, 'gather': 6835, 'brewing': 6836, 'tampered': 6837, 'authored': 6838, 'terry': 6839, 'teachout': 6840, 'outrun': 6841, 'tailgate': 6842, 'deserts': 6843, 'multi': 6844, 'comfort': 6845, 'looked': 6846, 'benchs': 6847, 'cob': 6848, 'turkey': 6849, 'alongside': 6850, 'hannibal': 6851, 'throne': 6852, 'stepladder': 6853, 'draws': 6854, 'diamond': 6855, 'filthy': 6856, 'shepherds': 6857, 'session': 6858, 'shreds': 6859, 'hawaiian': 6860, 'outrank': 6861, 'entrances': 6862, 'distant': 6863, 'cabin': 6864, 'ash': 6865, 'ben': 6866, 'applicable': 6867, 'pureed': 6868, 'shit': 6869, 'attendant': 6870, 'forth': 6871, 'gently': 6872, 'mugged': 6873, 'alleyway': 6874, 'millimeters': 6875, 'dinnerware': 6876, 'almond': 6877, 'passed': 6878, 'removing': 6879, 'yelled': 6880, 'subtitles': 6881, 'jesters': 6882, 'gilded': 6883, 'stabbing': 6884, 'tokyo': 6885, '17th': 6886, 'timelapsed': 6887, 'false': 6888, 'swoosh': 6889, 'variation': 6890, 'circling': 6891, '6': 6892, 'outs': 6893, 'waterfront': 6894, 'squishy': 6895, 'environmentally': 6896, 'energizes': 6897, 'nailed': 6898, 'snake': 6899, 'reddish': 6900, 'obeyed': 6901, 'messages': 6902, 'landed': 6903, 'infrastructure': 6904, 'manhattan': 6905, 'folders': 6906, 'seaside': 6907, 'bounds': 6908, 'emptied': 6909, 'homo': 6910, 'sapiens': 6911, 'snoopy': 6912, 'humanpowered': 6913, 'component': 6914, 'experts': 6915, 'illegal': 6916, 'drug': 6917, 'minor': 6918, 'elementary': 6919, 'fastball': 6920, 'discrimination': 6921, 'spatulas': 6922, 'wok': 6923, 'equestrians': 6924, 'shorn': 6925, 'continuous': 6926, 'innovative': 6927, '2020': 6928, 'plaza': 6929, 'upsidedown': 6930, 'infects': 6931, 'pastoral': 6932, 'render': 6933, 'dropping': 6934, 'impressive': 6935, 'booths': 6936, 'superman': 6937, 'prominently': 6938, 'tins': 6939, 'terrorists': 6940, 'youre': 6941, '2ft': 6942, 'sexual': 6943, 'cylindrical': 6944, 'wearer': 6945, 'corporate': 6946, 'sweatbands': 6947, 'boundary': 6948, 'redundancy': 6949, 'lense': 6950, 'patchwork': 6951, 'royal': 6952, 'nonblack': 6953, 'frontman': 6954, 'combover': 6955, 'champagne': 6956, 'hornless': 6957, 'clouding': 6958, 'props': 6959, 'penned': 6960, 'throat': 6961, 'internationally': 6962, 'kleenex': 6963, 'coaster': 6964, 'deepdish': 6965, 'copilot': 6966, 'commode': 6967, 'pasteur': 6968, 'footboards': 6969, 'motto': 6970, 'james': 6971, 'bond': 6972, 'duster': 6973, 'trapped': 6974, 'perhaps': 6975, 'spread': 6976, 'identification': 6977, 'busch': 6978, 'chrome': 6979, 'initech': 6980, 'zombies': 6981, 'costumes': 6982, 'binders': 6983, 'guide': 6984, 'wheelchairs': 6985, '3m': 6986, 'raising': 6987, 'sales': 6988, 'bookbag': 6989, 'yeast': 6990, 'ashtray': 6991, 'jackal': 6992, 'troublemaker': 6993, 'toasts': 6994, 'strapless': 6995, 'drum': 6996, 'potential': 6997, 'grandparents': 6998, 'sprinkle': 6999, 'strikeout': 7000, 'chocolates': 7001, 'hamburgers': 7002, 'amusement': 7003, 'retractable': 7004, 'turtle': 7005, 'mats': 7006, 'provides': 7007, 'clowns': 7008, 'hire': 7009, 'fielders': 7010, 'fruitveg': 7011, 'conventional': 7012, 'potted': 7013, 'gave': 7014, 'reproduce': 7015, 'repairing': 7016, 'dignitary': 7017, 'jacuzzi': 7018, 'caption': 7019, 'jenny': 7020, 'craig': 7021, 'equal': 7022, 'blueshirted': 7023, 'whiteshirted': 7024, 'screaming': 7025, 'involves': 7026, 'yield': 7027, 'crumbling': 7028, 'ankles': 7029, 'pete': 7030, 'sampras': 7031, 'underweight': 7032, 'moss': 7033, 'mooning': 7034, 'carvings': 7035, '1s': 7036, 'confuse': 7037, 'petra': 7038, 'coupons': 7039, 'highlighters': 7040, 'dishware': 7041, 'pairing': 7042, 'buying': 7043, 'deadend': 7044, 'adorns': 7045, 'reproductions': 7046, 'inch': 7047, 'doritos': 7048, 'digits': 7049, 'digit': 7050, 'hardware': 7051, 'incoming': 7052, 'calls': 7053, 'muppets': 7054, 'trap': 7055, 'gotta': 7056, 'divisible': 7057, 'zero': 7058, 'ham': 7059, 'etched': 7060, 'vegetarians': 7061, 'airstrip': 7062, 'stunting': 7063, 'wallet': 7064, 'cabs': 7065}\n",
            "7066\n"
          ],
          "name": "stdout"
        }
      ]
    },
    {
      "cell_type": "code",
      "metadata": {
        "id": "Wn4QxxSaFO0i",
        "colab_type": "code",
        "colab": {
          "base_uri": "https://localhost:8080/",
          "height": 204
        },
        "outputId": "5e6c888f-ea47-4ba4-8dad-ae307498c670"
      },
      "source": [
        "train_data.head()"
      ],
      "execution_count": 10,
      "outputs": [
        {
          "output_type": "execute_result",
          "data": {
            "text/html": [
              "<div>\n",
              "<style scoped>\n",
              "    .dataframe tbody tr th:only-of-type {\n",
              "        vertical-align: middle;\n",
              "    }\n",
              "\n",
              "    .dataframe tbody tr th {\n",
              "        vertical-align: top;\n",
              "    }\n",
              "\n",
              "    .dataframe thead th {\n",
              "        text-align: right;\n",
              "    }\n",
              "</style>\n",
              "<table border=\"1\" class=\"dataframe\">\n",
              "  <thead>\n",
              "    <tr style=\"text-align: right;\">\n",
              "      <th></th>\n",
              "      <th>ans</th>\n",
              "      <th>ques_id</th>\n",
              "      <th>question</th>\n",
              "      <th>img_id</th>\n",
              "      <th>image_name</th>\n",
              "      <th>image_feature</th>\n",
              "    </tr>\n",
              "  </thead>\n",
              "  <tbody>\n",
              "    <tr>\n",
              "      <th>0</th>\n",
              "      <td>5218</td>\n",
              "      <td>25000</td>\n",
              "      <td>[3, 2, 6, 113, 8, 1, 129]</td>\n",
              "      <td>25</td>\n",
              "      <td>COCO_train2014_000000000025.jpg</td>\n",
              "      <td>[1.38433e-05, 5.34205e-05, 0.0001280025, 0.000...</td>\n",
              "    </tr>\n",
              "    <tr>\n",
              "      <th>1</th>\n",
              "      <td>1887</td>\n",
              "      <td>25001</td>\n",
              "      <td>[3, 28, 22, 129, 23, 6, 996]</td>\n",
              "      <td>25</td>\n",
              "      <td>COCO_train2014_000000000025.jpg</td>\n",
              "      <td>[1.38433e-05, 5.34205e-05, 0.0001280025, 0.000...</td>\n",
              "    </tr>\n",
              "    <tr>\n",
              "      <th>10</th>\n",
              "      <td>2993</td>\n",
              "      <td>25010</td>\n",
              "      <td>[3, 2, 7, 1, 93, 172, 18, 1, 145, 7, 1, 70]</td>\n",
              "      <td>25</td>\n",
              "      <td>COCO_train2014_000000000025.jpg</td>\n",
              "      <td>[1.38433e-05, 5.34205e-05, 0.0001280025, 0.000...</td>\n",
              "    </tr>\n",
              "    <tr>\n",
              "      <th>100</th>\n",
              "      <td>3363</td>\n",
              "      <td>149001</td>\n",
              "      <td>[2, 1, 88, 313]</td>\n",
              "      <td>149</td>\n",
              "      <td>COCO_train2014_000000000149.jpg</td>\n",
              "      <td>[3.93909e-05, 1.6657e-05, 9.6804e-06, 3.1817e-...</td>\n",
              "    </tr>\n",
              "    <tr>\n",
              "      <th>1000</th>\n",
              "      <td>4219</td>\n",
              "      <td>1522001</td>\n",
              "      <td>[3, 26, 8, 201, 2, 5]</td>\n",
              "      <td>1522</td>\n",
              "      <td>COCO_train2014_000000001522.jpg</td>\n",
              "      <td>[9.9e-09, 3.589e-07, 9.6e-09, 7e-10, 5.8e-09, ...</td>\n",
              "    </tr>\n",
              "  </tbody>\n",
              "</table>\n",
              "</div>"
            ],
            "text/plain": [
              "       ans  ...                                      image_feature\n",
              "0     5218  ...  [1.38433e-05, 5.34205e-05, 0.0001280025, 0.000...\n",
              "1     1887  ...  [1.38433e-05, 5.34205e-05, 0.0001280025, 0.000...\n",
              "10    2993  ...  [1.38433e-05, 5.34205e-05, 0.0001280025, 0.000...\n",
              "100   3363  ...  [3.93909e-05, 1.6657e-05, 9.6804e-06, 3.1817e-...\n",
              "1000  4219  ...  [9.9e-09, 3.589e-07, 9.6e-09, 7e-10, 5.8e-09, ...\n",
              "\n",
              "[5 rows x 6 columns]"
            ]
          },
          "metadata": {
            "tags": []
          },
          "execution_count": 10
        }
      ]
    },
    {
      "cell_type": "markdown",
      "metadata": {
        "id": "tYQZXXlEzAJE",
        "colab_type": "text"
      },
      "source": [
        "##Splitting The Data into Train_Test"
      ]
    },
    {
      "cell_type": "code",
      "metadata": {
        "id": "EkMVe7sAcDd4",
        "colab_type": "code",
        "colab": {}
      },
      "source": [
        "x = train_data[['ques_id','question','image_feature']]\n",
        "y = train_data['ans']"
      ],
      "execution_count": 0,
      "outputs": []
    },
    {
      "cell_type": "code",
      "metadata": {
        "id": "mwHQqf7rcIxX",
        "colab_type": "code",
        "colab": {
          "base_uri": "https://localhost:8080/",
          "height": 204
        },
        "outputId": "10e8060c-120c-4f6c-c73e-0996c733f874"
      },
      "source": [
        "train_data.head()"
      ],
      "execution_count": 12,
      "outputs": [
        {
          "output_type": "execute_result",
          "data": {
            "text/html": [
              "<div>\n",
              "<style scoped>\n",
              "    .dataframe tbody tr th:only-of-type {\n",
              "        vertical-align: middle;\n",
              "    }\n",
              "\n",
              "    .dataframe tbody tr th {\n",
              "        vertical-align: top;\n",
              "    }\n",
              "\n",
              "    .dataframe thead th {\n",
              "        text-align: right;\n",
              "    }\n",
              "</style>\n",
              "<table border=\"1\" class=\"dataframe\">\n",
              "  <thead>\n",
              "    <tr style=\"text-align: right;\">\n",
              "      <th></th>\n",
              "      <th>ans</th>\n",
              "      <th>ques_id</th>\n",
              "      <th>question</th>\n",
              "      <th>img_id</th>\n",
              "      <th>image_name</th>\n",
              "      <th>image_feature</th>\n",
              "    </tr>\n",
              "  </thead>\n",
              "  <tbody>\n",
              "    <tr>\n",
              "      <th>0</th>\n",
              "      <td>5218</td>\n",
              "      <td>25000</td>\n",
              "      <td>[3, 2, 6, 113, 8, 1, 129]</td>\n",
              "      <td>25</td>\n",
              "      <td>COCO_train2014_000000000025.jpg</td>\n",
              "      <td>[1.38433e-05, 5.34205e-05, 0.0001280025, 0.000...</td>\n",
              "    </tr>\n",
              "    <tr>\n",
              "      <th>1</th>\n",
              "      <td>1887</td>\n",
              "      <td>25001</td>\n",
              "      <td>[3, 28, 22, 129, 23, 6, 996]</td>\n",
              "      <td>25</td>\n",
              "      <td>COCO_train2014_000000000025.jpg</td>\n",
              "      <td>[1.38433e-05, 5.34205e-05, 0.0001280025, 0.000...</td>\n",
              "    </tr>\n",
              "    <tr>\n",
              "      <th>10</th>\n",
              "      <td>2993</td>\n",
              "      <td>25010</td>\n",
              "      <td>[3, 2, 7, 1, 93, 172, 18, 1, 145, 7, 1, 70]</td>\n",
              "      <td>25</td>\n",
              "      <td>COCO_train2014_000000000025.jpg</td>\n",
              "      <td>[1.38433e-05, 5.34205e-05, 0.0001280025, 0.000...</td>\n",
              "    </tr>\n",
              "    <tr>\n",
              "      <th>100</th>\n",
              "      <td>3363</td>\n",
              "      <td>149001</td>\n",
              "      <td>[2, 1, 88, 313]</td>\n",
              "      <td>149</td>\n",
              "      <td>COCO_train2014_000000000149.jpg</td>\n",
              "      <td>[3.93909e-05, 1.6657e-05, 9.6804e-06, 3.1817e-...</td>\n",
              "    </tr>\n",
              "    <tr>\n",
              "      <th>1000</th>\n",
              "      <td>4219</td>\n",
              "      <td>1522001</td>\n",
              "      <td>[3, 26, 8, 201, 2, 5]</td>\n",
              "      <td>1522</td>\n",
              "      <td>COCO_train2014_000000001522.jpg</td>\n",
              "      <td>[9.9e-09, 3.589e-07, 9.6e-09, 7e-10, 5.8e-09, ...</td>\n",
              "    </tr>\n",
              "  </tbody>\n",
              "</table>\n",
              "</div>"
            ],
            "text/plain": [
              "       ans  ...                                      image_feature\n",
              "0     5218  ...  [1.38433e-05, 5.34205e-05, 0.0001280025, 0.000...\n",
              "1     1887  ...  [1.38433e-05, 5.34205e-05, 0.0001280025, 0.000...\n",
              "10    2993  ...  [1.38433e-05, 5.34205e-05, 0.0001280025, 0.000...\n",
              "100   3363  ...  [3.93909e-05, 1.6657e-05, 9.6804e-06, 3.1817e-...\n",
              "1000  4219  ...  [9.9e-09, 3.589e-07, 9.6e-09, 7e-10, 5.8e-09, ...\n",
              "\n",
              "[5 rows x 6 columns]"
            ]
          },
          "metadata": {
            "tags": []
          },
          "execution_count": 12
        }
      ]
    },
    {
      "cell_type": "code",
      "metadata": {
        "id": "Hb2FTXA8FOWS",
        "colab_type": "code",
        "colab": {}
      },
      "source": [
        "X_train, X_test, y_train, y_test = train_test_split(x, y, test_size=0.3,random_state= 180)"
      ],
      "execution_count": 0,
      "outputs": []
    },
    {
      "cell_type": "markdown",
      "metadata": {
        "id": "LiHGka0reVWt",
        "colab_type": "text"
      },
      "source": [
        "## GLOVE Conversion"
      ]
    },
    {
      "cell_type": "code",
      "metadata": {
        "id": "RSjp-ryof1rx",
        "colab_type": "code",
        "outputId": "00893809-f518-4cce-9a51-242b9c16c776",
        "colab": {
          "base_uri": "https://localhost:8080/",
          "height": 51
        }
      },
      "source": [
        "!unzip \"/gdrive/My Drive/Colab Notebooks/VQA_DATASET/glove.6B.300d.zip\""
      ],
      "execution_count": 14,
      "outputs": [
        {
          "output_type": "stream",
          "text": [
            "Archive:  /gdrive/My Drive/Colab Notebooks/VQA_DATASET/glove.6B.300d.zip\n",
            "  inflating: glove.6B.300d.txt       \n"
          ],
          "name": "stdout"
        }
      ]
    },
    {
      "cell_type": "code",
      "metadata": {
        "id": "jSEix9FVlCru",
        "colab_type": "code",
        "outputId": "31fdaf59-a49f-4a9c-d422-b3c4483592ea",
        "colab": {
          "base_uri": "https://localhost:8080/",
          "height": 85
        }
      },
      "source": [
        "def encode_question(imgs):\n",
        "    max_length = 26\n",
        "    N = len(imgs)\n",
        "    print(N)\n",
        "    print(type(imgs))\n",
        "    label_arrays = np.zeros((N, max_length), dtype='uint32')\n",
        "    #print(label_arrays)\n",
        "    label_length = np.zeros(N, dtype='uint32')\n",
        "    #print(\"LL\",label_length)\n",
        "    question_id = np.zeros(N, dtype='uint32')\n",
        "   # print(\"QI\",question_id)\n",
        "    question_counter = 0\n",
        "    for i in range(len(imgs)):\n",
        "#         print(type(img))\n",
        "        img = imgs.iloc[i]\n",
        "        question_id[question_counter] = img['ques_id']\n",
        "        label_length[question_counter] = min(max_length, len(img['question'])) # record the length of this sequence\n",
        "        question_counter += 1\n",
        "        for k,w in enumerate(img['question']):\n",
        "            if k < max_length:\n",
        "                #print(f'i = {i}, k = {k}, w = {w}')\n",
        "                label_arrays[i,k] = w\n",
        "    return label_arrays,label_length,question_id                         \n",
        "ques_train, ques_length_train, question_id_train = encode_question(X_train)\n",
        "ques_test, ques_length_test, question_id_test = encode_question(X_test)"
      ],
      "execution_count": 15,
      "outputs": [
        {
          "output_type": "stream",
          "text": [
            "37328\n",
            "<class 'pandas.core.frame.DataFrame'>\n",
            "15998\n",
            "<class 'pandas.core.frame.DataFrame'>\n"
          ],
          "name": "stdout"
        }
      ]
    },
    {
      "cell_type": "code",
      "metadata": {
        "id": "R1BlKKeGlFkZ",
        "colab_type": "code",
        "colab": {}
      },
      "source": [
        "def right_align(seq,lengths):\n",
        "    v = np.zeros(np.shape(seq))\n",
        "    N = np.shape(seq)[1]\n",
        "    for i in range(np.shape(seq)[0]):\n",
        "        v[i][N-lengths[i]:N]=seq[i][0:lengths[i]]\n",
        "    return v"
      ],
      "execution_count": 0,
      "outputs": []
    },
    {
      "cell_type": "code",
      "metadata": {
        "id": "JAsScuudx3XD",
        "colab_type": "code",
        "colab": {}
      },
      "source": [
        "ques_train = right_align(ques_train, ques_length_train)\n",
        "ques_test = right_align(ques_test, ques_length_test)"
      ],
      "execution_count": 0,
      "outputs": []
    },
    {
      "cell_type": "code",
      "metadata": {
        "id": "BI6dr75ex_ER",
        "colab_type": "code",
        "outputId": "6596b125-8ff2-4b27-f59e-6322c7ce291e",
        "colab": {
          "base_uri": "https://localhost:8080/",
          "height": 34
        }
      },
      "source": [
        "#Glove Embeedings\n",
        "embeddings_index = dict()\n",
        "f = open('glove.6B.300d.txt')\n",
        "for line in f:\n",
        "    values = line.split()\n",
        "    word = values[0]\n",
        "    coefs = np.asarray(values[1:], dtype='float32')\n",
        "    embeddings_index[word] = coefs\n",
        "f.close()\n",
        "print('Loaded %s word vectors.' % len(embeddings_index))"
      ],
      "execution_count": 19,
      "outputs": [
        {
          "output_type": "stream",
          "text": [
            "Loaded 400000 word vectors.\n"
          ],
          "name": "stdout"
        }
      ]
    },
    {
      "cell_type": "code",
      "metadata": {
        "id": "s7tS9_1rx_5j",
        "colab_type": "code",
        "colab": {}
      },
      "source": [
        "#Creating the Weighted Matrix\n",
        "embedding_matrix = np.zeros((vocab_size, 300))\n",
        "for word, index in t.word_index.items():\n",
        "    if index > vocab_size - 1:\n",
        "        break\n",
        "    else:\n",
        "        embedding_vector = embeddings_index.get(word)\n",
        "        if embedding_vector is not None:\n",
        "            embedding_matrix[index] = embedding_vector"
      ],
      "execution_count": 0,
      "outputs": []
    },
    {
      "cell_type": "code",
      "metadata": {
        "id": "PxBz01bv4SBZ",
        "colab_type": "code",
        "outputId": "77a36ebc-8e5d-4c8e-b03d-eb9a26b2df84",
        "colab": {
          "base_uri": "https://localhost:8080/",
          "height": 238
        }
      },
      "source": [
        "print(embedding_matrix)"
      ],
      "execution_count": 21,
      "outputs": [
        {
          "output_type": "stream",
          "text": [
            "[[ 0.          0.          0.         ...  0.          0.\n",
            "   0.        ]\n",
            " [ 0.04656     0.21318001 -0.0074364  ...  0.0090611  -0.20988999\n",
            "   0.053913  ]\n",
            " [-0.1749      0.22956     0.24924    ... -0.24131    -0.40402001\n",
            "   0.054744  ]\n",
            " ...\n",
            " [-0.28329     0.11537     0.23277999 ... -0.20263     0.63609999\n",
            "  -0.72575998]\n",
            " [-0.57538998  0.012679   -0.30335999 ...  0.25523001 -0.20947\n",
            "  -0.17614999]\n",
            " [ 0.41062    -0.26291999  0.073937   ... -0.23774     0.40763\n",
            "   0.47595   ]]\n"
          ],
          "name": "stdout"
        }
      ]
    },
    {
      "cell_type": "code",
      "metadata": {
        "id": "C-JZyBZ8NwXw",
        "colab_type": "code",
        "outputId": "174eed2e-9996-46ae-ce79-e0ce6e802638",
        "colab": {
          "base_uri": "https://localhost:8080/",
          "height": 204
        }
      },
      "source": [
        "X_train.head()"
      ],
      "execution_count": 22,
      "outputs": [
        {
          "output_type": "execute_result",
          "data": {
            "text/html": [
              "<div>\n",
              "<style scoped>\n",
              "    .dataframe tbody tr th:only-of-type {\n",
              "        vertical-align: middle;\n",
              "    }\n",
              "\n",
              "    .dataframe tbody tr th {\n",
              "        vertical-align: top;\n",
              "    }\n",
              "\n",
              "    .dataframe thead th {\n",
              "        text-align: right;\n",
              "    }\n",
              "</style>\n",
              "<table border=\"1\" class=\"dataframe\">\n",
              "  <thead>\n",
              "    <tr style=\"text-align: right;\">\n",
              "      <th></th>\n",
              "      <th>ques_id</th>\n",
              "      <th>question</th>\n",
              "      <th>image_feature</th>\n",
              "    </tr>\n",
              "  </thead>\n",
              "  <tbody>\n",
              "    <tr>\n",
              "      <th>45930</th>\n",
              "      <td>69564002</td>\n",
              "      <td>[10, 11, 6315, 4, 6, 1, 69, 112]</td>\n",
              "      <td>[1e-09, 3.742e-07, 1.4e-09, 1.52e-08, 2e-10, 9...</td>\n",
              "    </tr>\n",
              "    <tr>\n",
              "      <th>6908</th>\n",
              "      <td>10877001</td>\n",
              "      <td>[2, 1, 32, 1630]</td>\n",
              "      <td>[9.2e-09, 2.7238e-06, 2.7502e-06, 6.592e-07, 7...</td>\n",
              "    </tr>\n",
              "    <tr>\n",
              "      <th>37663</th>\n",
              "      <td>57965001</td>\n",
              "      <td>[3, 105, 2, 1, 90, 7]</td>\n",
              "      <td>[3.9178e-06, 8.379e-06, 9.2794e-06, 8.4208e-06...</td>\n",
              "    </tr>\n",
              "    <tr>\n",
              "      <th>18228</th>\n",
              "      <td>48339012</td>\n",
              "      <td>[41, 29, 55, 9, 4760, 464, 1, 385]</td>\n",
              "      <td>[0.0001167302, 0.0004371512, 0.0010246518, 0.0...</td>\n",
              "    </tr>\n",
              "    <tr>\n",
              "      <th>27834</th>\n",
              "      <td>42867001</td>\n",
              "      <td>[4, 16, 463, 1, 257]</td>\n",
              "      <td>[4.116e-07, 5.42085e-05, 2.5277e-06, 1.6203e-0...</td>\n",
              "    </tr>\n",
              "  </tbody>\n",
              "</table>\n",
              "</div>"
            ],
            "text/plain": [
              "        ques_id  ...                                      image_feature\n",
              "45930  69564002  ...  [1e-09, 3.742e-07, 1.4e-09, 1.52e-08, 2e-10, 9...\n",
              "6908   10877001  ...  [9.2e-09, 2.7238e-06, 2.7502e-06, 6.592e-07, 7...\n",
              "37663  57965001  ...  [3.9178e-06, 8.379e-06, 9.2794e-06, 8.4208e-06...\n",
              "18228  48339012  ...  [0.0001167302, 0.0004371512, 0.0010246518, 0.0...\n",
              "27834  42867001  ...  [4.116e-07, 5.42085e-05, 2.5277e-06, 1.6203e-0...\n",
              "\n",
              "[5 rows x 3 columns]"
            ]
          },
          "metadata": {
            "tags": []
          },
          "execution_count": 22
        }
      ]
    },
    {
      "cell_type": "markdown",
      "metadata": {
        "id": "VO2nKJE4efOH",
        "colab_type": "text"
      },
      "source": [
        "\n",
        "\n",
        "\n",
        "\n",
        "## Preparing Data"
      ]
    },
    {
      "cell_type": "code",
      "metadata": {
        "id": "5QlNtFgwTN0t",
        "colab_type": "code",
        "colab": {}
      },
      "source": [
        "train=pd.DataFrame(X_train)\n",
        "train['ans']=y_train"
      ],
      "execution_count": 0,
      "outputs": []
    },
    {
      "cell_type": "code",
      "metadata": {
        "id": "_Ey1HnyPgegV",
        "colab_type": "code",
        "colab": {}
      },
      "source": [
        "dict_img_train={}\n",
        "#dict_qu={}\n",
        "target_train=[]\n",
        "\n",
        "for i in train['ques_id']:\n",
        "  dict_img_train[i]=train[train['ques_id']==i]['image_feature'][0]\n",
        "  target_train.append(train[train['ques_id']==i]['ans'][0])"
      ],
      "execution_count": 0,
      "outputs": []
    },
    {
      "cell_type": "code",
      "metadata": {
        "id": "Z9FsE2X4UD0x",
        "colab_type": "code",
        "colab": {}
      },
      "source": [
        "test=pd.DataFrame(X_test)\n",
        "test['ans']=y_test"
      ],
      "execution_count": 0,
      "outputs": []
    },
    {
      "cell_type": "code",
      "metadata": {
        "id": "-8Ks7K18UMd7",
        "colab_type": "code",
        "colab": {}
      },
      "source": [
        "dict_img_test={}\n",
        "#dict_qu={}\n",
        "target_test=[]\n",
        "\n",
        "for i in test['ques_id']:\n",
        "  dict_img_test[i]=test[test['ques_id']==i]['image_feature'][0]\n",
        "  target_test.append(test[test['ques_id']==i]['ans'][0])"
      ],
      "execution_count": 0,
      "outputs": []
    },
    {
      "cell_type": "code",
      "metadata": {
        "id": "95za4QSMgvfJ",
        "colab_type": "code",
        "outputId": "0fdf53ec-2cbd-4bbe-ef66-3c9fd76c3f3c",
        "colab": {
          "base_uri": "https://localhost:8080/",
          "height": 34
        }
      },
      "source": [
        "x_train=np.array(list(dict_img_train.values()))\n",
        "x_train.shape"
      ],
      "execution_count": 27,
      "outputs": [
        {
          "output_type": "execute_result",
          "data": {
            "text/plain": [
              "(37328, 1000)"
            ]
          },
          "metadata": {
            "tags": []
          },
          "execution_count": 27
        }
      ]
    },
    {
      "cell_type": "code",
      "metadata": {
        "id": "UDIYxP4rbF7I",
        "colab_type": "code",
        "outputId": "9ae2cde7-74e4-4ae7-be21-b4680312bca8",
        "colab": {
          "base_uri": "https://localhost:8080/",
          "height": 34
        }
      },
      "source": [
        "x_test=np.array(list(dict_img_test.values()))\n",
        "x_test.shape"
      ],
      "execution_count": 28,
      "outputs": [
        {
          "output_type": "execute_result",
          "data": {
            "text/plain": [
              "(15998, 1000)"
            ]
          },
          "metadata": {
            "tags": []
          },
          "execution_count": 28
        }
      ]
    },
    {
      "cell_type": "code",
      "metadata": {
        "id": "JQAp8doVnrv6",
        "colab_type": "code",
        "colab": {}
      },
      "source": [
        "x_qu_train= ques_train\n",
        "x_qu_test= ques_test"
      ],
      "execution_count": 0,
      "outputs": []
    },
    {
      "cell_type": "code",
      "metadata": {
        "id": "MSdClx_2a7pR",
        "colab_type": "code",
        "colab": {
          "base_uri": "https://localhost:8080/",
          "height": 51
        },
        "outputId": "7291b9b2-55b7-4d07-c137-462b0cd66359"
      },
      "source": [
        "print(x_qu_train.shape)\n",
        "print(x_qu_test.shape)"
      ],
      "execution_count": 30,
      "outputs": [
        {
          "output_type": "stream",
          "text": [
            "(37328, 26)\n",
            "(15998, 26)\n"
          ],
          "name": "stdout"
        }
      ]
    },
    {
      "cell_type": "code",
      "metadata": {
        "id": "HqkVibWQwM-V",
        "colab_type": "code",
        "colab": {
          "base_uri": "https://localhost:8080/",
          "height": 34
        },
        "outputId": "28aaf7de-5690-47e1-c858-5159eea28384"
      },
      "source": [
        "y_tr=np.array(target_train)\n",
        "y_train=to_categorical(y_train)\n",
        "y_train.shape"
      ],
      "execution_count": 31,
      "outputs": [
        {
          "output_type": "execute_result",
          "data": {
            "text/plain": [
              "(37328, 5666)"
            ]
          },
          "metadata": {
            "tags": []
          },
          "execution_count": 31
        }
      ]
    },
    {
      "cell_type": "code",
      "metadata": {
        "id": "aPFGu0IJscqx",
        "colab_type": "code",
        "colab": {
          "base_uri": "https://localhost:8080/",
          "height": 34
        },
        "outputId": "cec21e3e-4e77-4632-acb7-6a7f47991a5e"
      },
      "source": [
        "y_te=np.array(target_test)\n",
        "y_test=to_categorical(y_te)\n",
        "y_test.shape"
      ],
      "execution_count": 32,
      "outputs": [
        {
          "output_type": "execute_result",
          "data": {
            "text/plain": [
              "(15998, 5666)"
            ]
          },
          "metadata": {
            "tags": []
          },
          "execution_count": 32
        }
      ]
    },
    {
      "cell_type": "markdown",
      "metadata": {
        "id": "mCimAwDlPYVg",
        "colab_type": "text"
      },
      "source": [
        "## **Image** **Model**"
      ]
    },
    {
      "cell_type": "code",
      "metadata": {
        "id": "_aJXcKwKXwg1",
        "colab_type": "code",
        "colab": {
          "base_uri": "https://localhost:8080/",
          "height": 513
        },
        "outputId": "7aba8093-5918-4295-ad3a-8c642730221c"
      },
      "source": [
        "from keras.preprocessing.image import img_to_array\n",
        "from keras.applications.vgg16 import preprocess_input\n",
        "from keras.models import Sequential,Model\n",
        "from keras.layers import Activation, Dense,Flatten,Input\n",
        "from keras.layers.core import  Dropout,Reshape\n",
        "image_feature_size=1000\n",
        "\n",
        "model_image = Sequential()\n",
        "\n",
        "model_image.add(Dense(2048,input_shape=(1000,)))\n",
        "model_image.add(Activation('tanh'))\n",
        "model_image.add(Dropout(0.5))\n",
        "print(model_image.summary())"
      ],
      "execution_count": 33,
      "outputs": [
        {
          "output_type": "stream",
          "text": [
            "WARNING: Logging before flag parsing goes to stderr.\n",
            "W0730 17:00:59.894577 140344025024384 deprecation_wrapper.py:119] From /usr/local/lib/python3.6/dist-packages/keras/backend/tensorflow_backend.py:321: The name tf.placeholder is deprecated. Please use tf.compat.v1.placeholder instead.\n",
            "\n",
            "W0730 17:00:59.947551 140344025024384 deprecation.py:506] From /usr/local/lib/python3.6/dist-packages/keras/backend/tensorflow_backend.py:634: calling RandomUniform.__init__ (from tensorflow.python.ops.init_ops) with dtype is deprecated and will be removed in a future version.\n",
            "Instructions for updating:\n",
            "Call initializer instance with the dtype argument instead of passing it to the constructor\n",
            "W0730 17:00:59.967365 140344025024384 deprecation.py:506] From /usr/local/lib/python3.6/dist-packages/keras/backend/tensorflow_backend.py:491: calling Constant.__init__ (from tensorflow.python.ops.init_ops) with dtype is deprecated and will be removed in a future version.\n",
            "Instructions for updating:\n",
            "Call initializer instance with the dtype argument instead of passing it to the constructor\n",
            "W0730 17:00:59.976941 140344025024384 deprecation_wrapper.py:119] From /usr/local/lib/python3.6/dist-packages/keras/backend/tensorflow_backend.py:73: The name tf.get_default_graph is deprecated. Please use tf.compat.v1.get_default_graph instead.\n",
            "\n",
            "W0730 17:00:59.986086 140344025024384 deprecation.py:506] From /usr/local/lib/python3.6/dist-packages/keras/backend/tensorflow_backend.py:2516: calling dropout (from tensorflow.python.ops.nn_ops) with keep_prob is deprecated and will be removed in a future version.\n",
            "Instructions for updating:\n",
            "Please use `rate` instead of `keep_prob`. Rate should be set to `rate = 1 - keep_prob`.\n"
          ],
          "name": "stderr"
        },
        {
          "output_type": "stream",
          "text": [
            "____________________________________________________________________________________________________\n",
            "Layer (type)                     Output Shape          Param #     Connected to                     \n",
            "====================================================================================================\n",
            "dense_1 (Dense)                  (None, 2048)          2050048     dense_input_1[0][0]              \n",
            "____________________________________________________________________________________________________\n",
            "activation_1 (Activation)        (None, 2048)          0           dense_1[0][0]                    \n",
            "____________________________________________________________________________________________________\n",
            "dropout_1 (Dropout)              (None, 2048)          0           activation_1[0][0]               \n",
            "====================================================================================================\n",
            "Total params: 2,050,048\n",
            "Trainable params: 2,050,048\n",
            "Non-trainable params: 0\n",
            "____________________________________________________________________________________________________\n",
            "None\n"
          ],
          "name": "stdout"
        }
      ]
    },
    {
      "cell_type": "markdown",
      "metadata": {
        "id": "jPxf0AnNeoSD",
        "colab_type": "text"
      },
      "source": [
        "## Language Model"
      ]
    },
    {
      "cell_type": "code",
      "metadata": {
        "id": "WUsN_ND0NH0r",
        "colab_type": "code",
        "colab": {
          "base_uri": "https://localhost:8080/",
          "height": 564
        },
        "outputId": "80dfa974-bfb3-4377-9c89-a3258df69cc5"
      },
      "source": [
        "from keras.layers import LSTM, Dense, Embedding \n",
        "embedding_dim               = 300\n",
        "number_of_LSTM              = 3\n",
        "number_of_hidden_units_LSTM = 64\n",
        "max_length_questions        = 26\n",
        "number_of_dense_layers      = 3\n",
        "number_of_hidden_units      = 2048\n",
        "activation_function         = 'tanh'\n",
        "dropout_pct                 = 0.5\n",
        "\n",
        "\n",
        "model_language = Sequential()\n",
        "model_language.add(Embedding(vocab_size, embedding_dim ,weights = [embedding_matrix],input_length =max_length_questions , trainable = False))\n",
        "model_language.add(LSTM(number_of_hidden_units_LSTM, return_sequences=True))\n",
        "model_language.add(Dropout(dropout_pct))\n",
        "model_language.add(LSTM(number_of_hidden_units_LSTM, return_sequences=False))\n",
        "model_language.add(Dropout(dropout_pct))\n",
        "model_language.add(Dense(number_of_hidden_units))\n",
        "model_language.add(Activation(activation_function))\n",
        "print(model_language.summary())"
      ],
      "execution_count": 34,
      "outputs": [
        {
          "output_type": "stream",
          "text": [
            "W0730 17:01:05.275204 140344025024384 deprecation_wrapper.py:119] From /usr/local/lib/python3.6/dist-packages/keras/backend/tensorflow_backend.py:112: The name tf.get_default_session is deprecated. Please use tf.compat.v1.get_default_session instead.\n",
            "\n",
            "W0730 17:01:05.276441 140344025024384 deprecation_wrapper.py:119] From /usr/local/lib/python3.6/dist-packages/keras/backend/tensorflow_backend.py:117: The name tf.ConfigProto is deprecated. Please use tf.compat.v1.ConfigProto instead.\n",
            "\n",
            "W0730 17:01:05.277939 140344025024384 deprecation_wrapper.py:119] From /usr/local/lib/python3.6/dist-packages/keras/backend/tensorflow_backend.py:122: The name tf.Session is deprecated. Please use tf.compat.v1.Session instead.\n",
            "\n",
            "W0730 17:01:05.708370 140344025024384 deprecation.py:506] From /usr/local/lib/python3.6/dist-packages/keras/backend/tensorflow_backend.py:1029: calling reduce_sum_v1 (from tensorflow.python.ops.math_ops) with keep_dims is deprecated and will be removed in a future version.\n",
            "Instructions for updating:\n",
            "keep_dims is deprecated, use keepdims instead\n"
          ],
          "name": "stderr"
        },
        {
          "output_type": "stream",
          "text": [
            "____________________________________________________________________________________________________\n",
            "Layer (type)                     Output Shape          Param #     Connected to                     \n",
            "====================================================================================================\n",
            "embedding_1 (Embedding)          (None, 26, 300)       2119800     embedding_input_1[0][0]          \n",
            "____________________________________________________________________________________________________\n",
            "lstm_1 (LSTM)                    (None, 26, 64)        93440       embedding_1[0][0]                \n",
            "____________________________________________________________________________________________________\n",
            "dropout_2 (Dropout)              (None, 26, 64)        0           lstm_1[0][0]                     \n",
            "____________________________________________________________________________________________________\n",
            "lstm_2 (LSTM)                    (None, 64)            33024       dropout_2[0][0]                  \n",
            "____________________________________________________________________________________________________\n",
            "dropout_3 (Dropout)              (None, 64)            0           lstm_2[0][0]                     \n",
            "____________________________________________________________________________________________________\n",
            "dense_2 (Dense)                  (None, 2048)          133120      dropout_3[0][0]                  \n",
            "____________________________________________________________________________________________________\n",
            "activation_2 (Activation)        (None, 2048)          0           dense_2[0][0]                    \n",
            "====================================================================================================\n",
            "Total params: 2,379,384\n",
            "Trainable params: 259,584\n",
            "Non-trainable params: 2,119,800\n",
            "____________________________________________________________________________________________________\n",
            "None\n"
          ],
          "name": "stdout"
        }
      ]
    },
    {
      "cell_type": "markdown",
      "metadata": {
        "id": "X4Pcb9kPevIj",
        "colab_type": "text"
      },
      "source": [
        "## Combine Model"
      ]
    },
    {
      "cell_type": "code",
      "metadata": {
        "id": "fMBZP_OSOBTx",
        "colab_type": "code",
        "colab": {
          "base_uri": "https://localhost:8080/",
          "height": 646
        },
        "outputId": "50cbc4b1-c0fa-40cb-8efc-dbb901820dfe"
      },
      "source": [
        "from keras.engine import Merge\n",
        "model = Sequential()\n",
        "model.add(Merge([model_image,model_language], mode='mul'))\n",
        "print('merged')\n",
        "#model.add(Dropout(0.5))\n",
        "model.add(Dense(1024, activation='tanh'))\n",
        "model.add(Dense(1000, activation='tanh'))\n",
        "model.add(Dropout(0.5))\n",
        "model.add(Dense(5666, activation='softmax'))  \n",
        "print(model.summary())"
      ],
      "execution_count": 35,
      "outputs": [
        {
          "output_type": "stream",
          "text": [
            "merged\n",
            "____________________________________________________________________________________________________\n",
            "Layer (type)                     Output Shape          Param #     Connected to                     \n",
            "====================================================================================================\n",
            "dense_1 (Dense)                  (None, 2048)          2050048     dense_input_1[0][0]              \n",
            "____________________________________________________________________________________________________\n",
            "activation_1 (Activation)        (None, 2048)          0           dense_1[0][0]                    \n",
            "____________________________________________________________________________________________________\n",
            "dropout_1 (Dropout)              (None, 2048)          0           activation_1[0][0]               \n",
            "____________________________________________________________________________________________________\n",
            "embedding_1 (Embedding)          (None, 26, 300)       2119800     embedding_input_1[0][0]          \n",
            "____________________________________________________________________________________________________\n",
            "lstm_1 (LSTM)                    (None, 26, 64)        93440       embedding_1[0][0]                \n",
            "____________________________________________________________________________________________________\n",
            "dropout_2 (Dropout)              (None, 26, 64)        0           lstm_1[0][0]                     \n",
            "____________________________________________________________________________________________________\n",
            "lstm_2 (LSTM)                    (None, 64)            33024       dropout_2[0][0]                  \n",
            "____________________________________________________________________________________________________\n",
            "dropout_3 (Dropout)              (None, 64)            0           lstm_2[0][0]                     \n",
            "____________________________________________________________________________________________________\n",
            "dense_2 (Dense)                  (None, 2048)          133120      dropout_3[0][0]                  \n",
            "____________________________________________________________________________________________________\n",
            "activation_2 (Activation)        (None, 2048)          0           dense_2[0][0]                    \n",
            "____________________________________________________________________________________________________\n",
            "dense_3 (Dense)                  (None, 1024)          2098176     merge_1[0][0]                    \n",
            "____________________________________________________________________________________________________\n",
            "dense_4 (Dense)                  (None, 1000)          1025000     dense_3[0][0]                    \n",
            "____________________________________________________________________________________________________\n",
            "dropout_4 (Dropout)              (None, 1000)          0           dense_4[0][0]                    \n",
            "____________________________________________________________________________________________________\n",
            "dense_5 (Dense)                  (None, 5666)          5671666     dropout_4[0][0]                  \n",
            "====================================================================================================\n",
            "Total params: 13,224,274\n",
            "Trainable params: 11,104,474\n",
            "Non-trainable params: 2,119,800\n",
            "____________________________________________________________________________________________________\n",
            "None\n"
          ],
          "name": "stdout"
        }
      ]
    },
    {
      "cell_type": "code",
      "metadata": {
        "id": "h2rV9jOZZEVy",
        "colab_type": "code",
        "colab": {
          "base_uri": "https://localhost:8080/",
          "height": 71
        },
        "outputId": "7fe110d7-52f5-43ac-dd5c-8b125d75c838"
      },
      "source": [
        "model.compile(loss='categorical_crossentropy', optimizer='adam', metrics=['accuracy'])"
      ],
      "execution_count": 36,
      "outputs": [
        {
          "output_type": "stream",
          "text": [
            "W0730 17:01:21.894418 140344025024384 deprecation_wrapper.py:119] From /usr/local/lib/python3.6/dist-packages/keras/optimizers.py:658: The name tf.train.Optimizer is deprecated. Please use tf.compat.v1.train.Optimizer instead.\n",
            "\n"
          ],
          "name": "stderr"
        }
      ]
    },
    {
      "cell_type": "code",
      "metadata": {
        "id": "82QUahhInnRy",
        "colab_type": "code",
        "colab": {}
      },
      "source": [
        "#y=np.array(train_data['ans'])\n",
        "x_trains=[x_train,x_qu_train]"
      ],
      "execution_count": 0,
      "outputs": []
    },
    {
      "cell_type": "code",
      "metadata": {
        "id": "_wLvarotmU6f",
        "colab_type": "code",
        "colab": {}
      },
      "source": [
        "x_tests=[x_test,x_qu_test]"
      ],
      "execution_count": 0,
      "outputs": []
    },
    {
      "cell_type": "code",
      "metadata": {
        "id": "y6pHzFy_f96U",
        "colab_type": "code",
        "colab": {
          "base_uri": "https://localhost:8080/",
          "height": 1000
        },
        "outputId": "fd63c90b-3fe7-42dc-915e-7768b1c384e1"
      },
      "source": [
        "history = model.fit(x_trains,y_train,batch_size = 500 ,nb_epoch = 40,validation_data=(x_tests,y_test))"
      ],
      "execution_count": 39,
      "outputs": [
        {
          "output_type": "stream",
          "text": [
            "W0730 17:01:35.124335 140344025024384 deprecation.py:323] From /usr/local/lib/python3.6/dist-packages/tensorflow/python/ops/math_grad.py:1250: add_dispatch_support.<locals>.wrapper (from tensorflow.python.ops.array_ops) is deprecated and will be removed in a future version.\n",
            "Instructions for updating:\n",
            "Use tf.where in 2.0, which has the same broadcast rule as np.where\n"
          ],
          "name": "stderr"
        },
        {
          "output_type": "stream",
          "text": [
            "Train on 37328 samples, validate on 15998 samples\n",
            "Epoch 1/40\n",
            "37328/37328 [==============================] - 65s - loss: 5.6468 - acc: 0.1818 - val_loss: 4.7522 - val_acc: 0.1822\n",
            "Epoch 2/40\n",
            "37328/37328 [==============================] - 63s - loss: 4.6192 - acc: 0.1821 - val_loss: 4.4845 - val_acc: 0.1819\n",
            "Epoch 3/40\n",
            "37328/37328 [==============================] - 62s - loss: 4.2893 - acc: 0.2088 - val_loss: 4.1568 - val_acc: 0.2278\n",
            "Epoch 4/40\n",
            "37328/37328 [==============================] - 61s - loss: 4.0374 - acc: 0.2280 - val_loss: 4.0341 - val_acc: 0.2381\n",
            "Epoch 5/40\n",
            "37328/37328 [==============================] - 61s - loss: 3.8943 - acc: 0.2315 - val_loss: 3.9855 - val_acc: 0.2350\n",
            "Epoch 6/40\n",
            "37328/37328 [==============================] - 62s - loss: 3.7854 - acc: 0.2405 - val_loss: 3.8687 - val_acc: 0.2378\n",
            "Epoch 7/40\n",
            "37328/37328 [==============================] - 61s - loss: 3.6927 - acc: 0.2411 - val_loss: 3.8476 - val_acc: 0.2470\n",
            "Epoch 8/40\n",
            "37328/37328 [==============================] - 61s - loss: 3.6120 - acc: 0.2466 - val_loss: 3.8111 - val_acc: 0.2518\n",
            "Epoch 9/40\n",
            "37328/37328 [==============================] - 61s - loss: 3.5204 - acc: 0.2566 - val_loss: 3.7627 - val_acc: 0.2563\n",
            "Epoch 10/40\n",
            "37328/37328 [==============================] - 62s - loss: 3.4249 - acc: 0.2613 - val_loss: 3.7212 - val_acc: 0.2608\n",
            "Epoch 11/40\n",
            "37328/37328 [==============================] - 61s - loss: 3.3296 - acc: 0.2719 - val_loss: 3.7011 - val_acc: 0.2657\n",
            "Epoch 12/40\n",
            "37328/37328 [==============================] - 62s - loss: 3.2292 - acc: 0.2802 - val_loss: 3.6954 - val_acc: 0.2703\n",
            "Epoch 13/40\n",
            "37328/37328 [==============================] - 61s - loss: 3.1391 - acc: 0.2845 - val_loss: 3.6800 - val_acc: 0.2747\n",
            "Epoch 14/40\n",
            "37328/37328 [==============================] - 60s - loss: 3.0313 - acc: 0.2944 - val_loss: 3.7002 - val_acc: 0.2708\n",
            "Epoch 15/40\n",
            "37328/37328 [==============================] - 60s - loss: 2.9311 - acc: 0.3016 - val_loss: 3.7462 - val_acc: 0.2752\n",
            "Epoch 16/40\n",
            "37328/37328 [==============================] - 60s - loss: 2.8399 - acc: 0.3042 - val_loss: 3.7443 - val_acc: 0.2774\n",
            "Epoch 17/40\n",
            "37328/37328 [==============================] - 60s - loss: 2.7471 - acc: 0.3123 - val_loss: 3.7936 - val_acc: 0.2792\n",
            "Epoch 18/40\n",
            "37328/37328 [==============================] - 61s - loss: 2.6465 - acc: 0.3260 - val_loss: 3.8192 - val_acc: 0.2796\n",
            "Epoch 19/40\n",
            "37328/37328 [==============================] - 62s - loss: 2.5528 - acc: 0.3337 - val_loss: 3.8665 - val_acc: 0.2821\n",
            "Epoch 20/40\n",
            "37328/37328 [==============================] - 62s - loss: 2.4632 - acc: 0.3424 - val_loss: 3.9188 - val_acc: 0.2848\n",
            "Epoch 21/40\n",
            "37328/37328 [==============================] - 61s - loss: 2.3747 - acc: 0.3481 - val_loss: 3.9692 - val_acc: 0.2897\n",
            "Epoch 22/40\n",
            "37328/37328 [==============================] - 61s - loss: 2.2902 - acc: 0.3635 - val_loss: 4.0017 - val_acc: 0.2860\n",
            "Epoch 23/40\n",
            "37328/37328 [==============================] - 62s - loss: 2.2142 - acc: 0.3722 - val_loss: 4.0549 - val_acc: 0.2900\n",
            "Epoch 24/40\n",
            "37328/37328 [==============================] - 62s - loss: 2.1320 - acc: 0.3841 - val_loss: 4.0938 - val_acc: 0.2891\n",
            "Epoch 25/40\n",
            "37328/37328 [==============================] - 62s - loss: 2.0680 - acc: 0.3942 - val_loss: 4.1351 - val_acc: 0.2879\n",
            "Epoch 26/40\n",
            "37328/37328 [==============================] - 62s - loss: 1.9887 - acc: 0.4058 - val_loss: 4.1674 - val_acc: 0.2902\n",
            "Epoch 27/40\n",
            "37328/37328 [==============================] - 63s - loss: 1.9273 - acc: 0.4140 - val_loss: 4.2122 - val_acc: 0.2944\n",
            "Epoch 28/40\n",
            "37328/37328 [==============================] - 62s - loss: 1.8739 - acc: 0.4229 - val_loss: 4.2589 - val_acc: 0.2919\n",
            "Epoch 29/40\n",
            "37328/37328 [==============================] - 63s - loss: 1.8048 - acc: 0.4360 - val_loss: 4.2886 - val_acc: 0.2920\n",
            "Epoch 30/40\n",
            "37328/37328 [==============================] - 63s - loss: 1.7581 - acc: 0.4469 - val_loss: 4.3258 - val_acc: 0.2930\n",
            "Epoch 31/40\n",
            "37328/37328 [==============================] - 63s - loss: 1.7081 - acc: 0.4545 - val_loss: 4.3542 - val_acc: 0.2932\n",
            "Epoch 32/40\n",
            "37328/37328 [==============================] - 62s - loss: 1.6585 - acc: 0.4669 - val_loss: 4.3899 - val_acc: 0.2971\n",
            "Epoch 33/40\n",
            "37328/37328 [==============================] - 61s - loss: 1.6213 - acc: 0.4736 - val_loss: 4.4010 - val_acc: 0.2927\n",
            "Epoch 34/40\n",
            "37328/37328 [==============================] - 62s - loss: 1.5765 - acc: 0.4815 - val_loss: 4.4527 - val_acc: 0.2968\n",
            "Epoch 35/40\n",
            "37328/37328 [==============================] - 62s - loss: 1.5490 - acc: 0.4860 - val_loss: 4.5060 - val_acc: 0.2967\n",
            "Epoch 36/40\n",
            "37328/37328 [==============================] - 62s - loss: 1.5100 - acc: 0.4928 - val_loss: 4.5197 - val_acc: 0.2943\n",
            "Epoch 37/40\n",
            "37328/37328 [==============================] - 61s - loss: 1.4719 - acc: 0.5048 - val_loss: 4.5298 - val_acc: 0.2939\n",
            "Epoch 38/40\n",
            "37328/37328 [==============================] - 61s - loss: 1.4401 - acc: 0.5093 - val_loss: 4.5488 - val_acc: 0.2922\n",
            "Epoch 39/40\n",
            "37328/37328 [==============================] - 62s - loss: 1.4231 - acc: 0.5113 - val_loss: 4.5896 - val_acc: 0.2955\n",
            "Epoch 40/40\n",
            "37328/37328 [==============================] - 62s - loss: 1.3987 - acc: 0.5177 - val_loss: 4.6190 - val_acc: 0.2961\n"
          ],
          "name": "stdout"
        }
      ]
    },
    {
      "cell_type": "markdown",
      "metadata": {
        "id": "OzsEvLfA7LSb",
        "colab_type": "text"
      },
      "source": [
        "##Saving the Model"
      ]
    },
    {
      "cell_type": "code",
      "metadata": {
        "id": "P2vNMmvF681h",
        "colab_type": "code",
        "colab": {}
      },
      "source": [
        "model.save('VQA_test_model.h5')"
      ],
      "execution_count": 0,
      "outputs": []
    }
  ]
}